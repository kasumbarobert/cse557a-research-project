{
 "cells": [
  {
   "cell_type": "code",
   "execution_count": 1,
   "metadata": {},
   "outputs": [],
   "source": [
    "import matplotlib.pyplot as plt\n",
    "import numpy as np\n",
    "from scipy.stats import norm\n",
    "import matplotlib.mlab as mlab\n",
    "import matplotlib.pyplot as plt\n",
    "import pandas as pd\n",
    "from ipywidgets import interact, interactive, fixed, interact_manual\n",
    "import ipywidgets as widgets"
   ]
  },
  {
   "cell_type": "code",
   "execution_count": 2,
   "metadata": {},
   "outputs": [],
   "source": [
    "df = pd.read_csv('data/combined_tweets.csv')\n",
    "users = df[\"user\"].unique()"
   ]
  },
  {
   "cell_type": "code",
   "execution_count": 3,
   "metadata": {},
   "outputs": [],
   "source": [
    "def get_engagements(df):\n",
    "    viz_df = df.loc[df[\"has_viz\"] == True]\n",
    "    no_viz_df = df.loc[df[\"has_viz\"] == False]\n",
    "    \n",
    "    viz_retweets = viz_df[\"retweets\"].sum()\n",
    "    viz_replies = viz_df[\"replies\"].sum()\n",
    "    viz_likes = viz_df[\"likes\"].sum()\n",
    "    viz_quotes = viz_df[\"quotes\"].sum()\n",
    "    \n",
    "    no_viz_retweets = no_viz_df[\"retweets\"].sum()\n",
    "    no_viz_replies = no_viz_df[\"replies\"].sum()\n",
    "    no_viz_likes = no_viz_df[\"likes\"].sum()\n",
    "    no_viz_quotes = no_viz_df[\"quotes\"].sum()\n",
    "    \n",
    "    viz_engagements = viz_retweets + viz_replies + viz_likes + viz_quotes\n",
    "    no_viz_engagements = no_viz_retweets + no_viz_replies + no_viz_likes + no_viz_quotes\n",
    "    \n",
    "    total_engagements = viz_engagements + no_viz_engagements\n",
    "    \n",
    "    non_viz_tweets = len(no_viz_df)\n",
    "    viz_tweets = len(viz_df)\n",
    "    \n",
    "    print(\"viz tweets:\", viz_tweets)\n",
    "    print(\"non viz tweets:\", non_viz_tweets)\n",
    "    \n",
    "#     print(\"visualization tweet engagements: \", viz_engagements)\n",
    "#     print(\"no visualization tweet engagements: \", no_viz_engagements)\n",
    "#     print(\"total engagements: \", total_engagements)\n",
    "    \n",
    "    return viz_engagements, no_viz_engagements "
   ]
  },
  {
   "cell_type": "code",
   "execution_count": 4,
   "metadata": {},
   "outputs": [],
   "source": [
    "def show_pie(disp_df, authorname):\n",
    "    # Pie chart, where the slices will be ordered and plotted counter-clockwise:\n",
    "    labels = 'With Viz', 'Without Viz'\n",
    "    viz_engagements, non_viz_engagements = get_engagements(disp_df)\n",
    "    sizes = []\n",
    "    sizes.append(viz_engagements)\n",
    "    sizes.append(non_viz_engagements)\n",
    "    \n",
    "    #generate legend \n",
    "#     plt.legend(labels,loc=3)\n",
    "\n",
    "    fig1, ax1 = plt.subplots()\n",
    "    ax1.pie(sizes, labels=labels, autopct='%1.1f%%',\n",
    "            shadow=True, startangle=90)\n",
    "    ax1.axis('equal')  # Equal aspect ratio ensures that pie is drawn as a circle.\n",
    "    plt.title(authorname)\n",
    "\n",
    "    plt.show()"
   ]
  },
  {
   "cell_type": "code",
   "execution_count": null,
   "metadata": {},
   "outputs": [],
   "source": []
  },
  {
   "cell_type": "code",
   "execution_count": 5,
   "metadata": {},
   "outputs": [
    {
     "data": {
      "application/vnd.jupyter.widget-view+json": {
       "model_id": "67ddc34aeb044d3c93c3f9b8b22d1f97",
       "version_major": 2,
       "version_minor": 0
      },
      "text/plain": [
       "interactive(children=(Dropdown(description='authors', options=('abmakulec', 'aetiology', 'alicesim', 'AmeshAA'…"
      ]
     },
     "metadata": {},
     "output_type": "display_data"
    }
   ],
   "source": [
    "def f(authors):\n",
    "    disp_df = df.loc[df[\"user\"] == authors]\n",
    "    return show_pie(disp_df, authors)\n",
    "\n",
    "interact(f, authors=users);"
   ]
  },
  {
   "cell_type": "code",
   "execution_count": 8,
   "metadata": {},
   "outputs": [
    {
     "data": {
      "text/plain": [
       "Index(['tweet_id', 'user', 'text', 'date', 'retweets', 'replies', 'likes',\n",
       "       'quotes', 'has_viz'],\n",
       "      dtype='object')"
      ]
     },
     "execution_count": 8,
     "metadata": {},
     "output_type": "execute_result"
    }
   ],
   "source": [
    "df.columns"
   ]
  },
  {
   "cell_type": "code",
   "execution_count": 9,
   "metadata": {},
   "outputs": [
    {
     "data": {
      "text/html": [
       "<div>\n",
       "<style scoped>\n",
       "    .dataframe tbody tr th:only-of-type {\n",
       "        vertical-align: middle;\n",
       "    }\n",
       "\n",
       "    .dataframe tbody tr th {\n",
       "        vertical-align: top;\n",
       "    }\n",
       "\n",
       "    .dataframe thead th {\n",
       "        text-align: right;\n",
       "    }\n",
       "</style>\n",
       "<table border=\"1\" class=\"dataframe\">\n",
       "  <thead>\n",
       "    <tr style=\"text-align: right;\">\n",
       "      <th></th>\n",
       "      <th>tweet_id</th>\n",
       "      <th>user</th>\n",
       "      <th>text</th>\n",
       "      <th>date</th>\n",
       "      <th>retweets</th>\n",
       "      <th>replies</th>\n",
       "      <th>likes</th>\n",
       "      <th>quotes</th>\n",
       "      <th>has_viz</th>\n",
       "    </tr>\n",
       "  </thead>\n",
       "  <tbody>\n",
       "    <tr>\n",
       "      <th>4348</th>\n",
       "      <td>1375898173978382337</td>\n",
       "      <td>CDCGov</td>\n",
       "      <td>You may be considered a close contact even if ...</td>\n",
       "      <td>03/27/2021 19:51:02</td>\n",
       "      <td>112</td>\n",
       "      <td>69</td>\n",
       "      <td>232</td>\n",
       "      <td>11</td>\n",
       "      <td>True</td>\n",
       "    </tr>\n",
       "    <tr>\n",
       "      <th>4349</th>\n",
       "      <td>1375890228574044161</td>\n",
       "      <td>CDCGov</td>\n",
       "      <td>Carol Wong, director of Chinatown Learning Cen...</td>\n",
       "      <td>03/27/2021 19:19:27</td>\n",
       "      <td>49</td>\n",
       "      <td>43</td>\n",
       "      <td>204</td>\n",
       "      <td>7</td>\n",
       "      <td>True</td>\n",
       "    </tr>\n",
       "    <tr>\n",
       "      <th>4350</th>\n",
       "      <td>1375866473667776513</td>\n",
       "      <td>CDCGov</td>\n",
       "      <td>#WearAMask when you are taking care of someone...</td>\n",
       "      <td>03/27/2021 17:45:04</td>\n",
       "      <td>215</td>\n",
       "      <td>83</td>\n",
       "      <td>487</td>\n",
       "      <td>14</td>\n",
       "      <td>True</td>\n",
       "    </tr>\n",
       "    <tr>\n",
       "      <th>4351</th>\n",
       "      <td>1375550876874514433</td>\n",
       "      <td>CDCGov</td>\n",
       "      <td>Gathering outdoors is safer, but if you gather...</td>\n",
       "      <td>03/26/2021 20:51:00</td>\n",
       "      <td>284</td>\n",
       "      <td>136</td>\n",
       "      <td>502</td>\n",
       "      <td>23</td>\n",
       "      <td>True</td>\n",
       "    </tr>\n",
       "    <tr>\n",
       "      <th>4352</th>\n",
       "      <td>1375533018287325184</td>\n",
       "      <td>CDCGov</td>\n",
       "      <td>Johnson &amp;amp; Johnson's Janssen #COVID19 vacci...</td>\n",
       "      <td>03/26/2021 19:40:02</td>\n",
       "      <td>102</td>\n",
       "      <td>55</td>\n",
       "      <td>272</td>\n",
       "      <td>8</td>\n",
       "      <td>True</td>\n",
       "    </tr>\n",
       "  </tbody>\n",
       "</table>\n",
       "</div>"
      ],
      "text/plain": [
       "                 tweet_id    user  \\\n",
       "4348  1375898173978382337  CDCGov   \n",
       "4349  1375890228574044161  CDCGov   \n",
       "4350  1375866473667776513  CDCGov   \n",
       "4351  1375550876874514433  CDCGov   \n",
       "4352  1375533018287325184  CDCGov   \n",
       "\n",
       "                                                   text                 date  \\\n",
       "4348  You may be considered a close contact even if ...  03/27/2021 19:51:02   \n",
       "4349  Carol Wong, director of Chinatown Learning Cen...  03/27/2021 19:19:27   \n",
       "4350  #WearAMask when you are taking care of someone...  03/27/2021 17:45:04   \n",
       "4351  Gathering outdoors is safer, but if you gather...  03/26/2021 20:51:00   \n",
       "4352  Johnson &amp; Johnson's Janssen #COVID19 vacci...  03/26/2021 19:40:02   \n",
       "\n",
       "      retweets  replies  likes  quotes  has_viz  \n",
       "4348       112       69    232      11     True  \n",
       "4349        49       43    204       7     True  \n",
       "4350       215       83    487      14     True  \n",
       "4351       284      136    502      23     True  \n",
       "4352       102       55    272       8     True  "
      ]
     },
     "execution_count": 9,
     "metadata": {},
     "output_type": "execute_result"
    }
   ],
   "source": [
    "test_df = df.loc[df['user'] == \"CDCGov\"]\n",
    "test_df.head()"
   ]
  },
  {
   "cell_type": "code",
   "execution_count": 14,
   "metadata": {
    "collapsed": true
   },
   "outputs": [
    {
     "ename": "KeyError",
     "evalue": "'date'",
     "output_type": "error",
     "traceback": [
      "\u001b[1;31m---------------------------------------------------------------------------\u001b[0m",
      "\u001b[1;31mKeyError\u001b[0m                                  Traceback (most recent call last)",
      "\u001b[1;32m~\\anaconda3\\lib\\site-packages\\pandas\\core\\indexes\\base.py\u001b[0m in \u001b[0;36mget_loc\u001b[1;34m(self, key, method, tolerance)\u001b[0m\n\u001b[0;32m   2894\u001b[0m             \u001b[1;32mtry\u001b[0m\u001b[1;33m:\u001b[0m\u001b[1;33m\u001b[0m\u001b[1;33m\u001b[0m\u001b[0m\n\u001b[1;32m-> 2895\u001b[1;33m                 \u001b[1;32mreturn\u001b[0m \u001b[0mself\u001b[0m\u001b[1;33m.\u001b[0m\u001b[0m_engine\u001b[0m\u001b[1;33m.\u001b[0m\u001b[0mget_loc\u001b[0m\u001b[1;33m(\u001b[0m\u001b[0mcasted_key\u001b[0m\u001b[1;33m)\u001b[0m\u001b[1;33m\u001b[0m\u001b[1;33m\u001b[0m\u001b[0m\n\u001b[0m\u001b[0;32m   2896\u001b[0m             \u001b[1;32mexcept\u001b[0m \u001b[0mKeyError\u001b[0m \u001b[1;32mas\u001b[0m \u001b[0merr\u001b[0m\u001b[1;33m:\u001b[0m\u001b[1;33m\u001b[0m\u001b[1;33m\u001b[0m\u001b[0m\n",
      "\u001b[1;32mpandas\\_libs\\index.pyx\u001b[0m in \u001b[0;36mpandas._libs.index.IndexEngine.get_loc\u001b[1;34m()\u001b[0m\n",
      "\u001b[1;32mpandas\\_libs\\index.pyx\u001b[0m in \u001b[0;36mpandas._libs.index.IndexEngine.get_loc\u001b[1;34m()\u001b[0m\n",
      "\u001b[1;32mpandas\\_libs\\hashtable_class_helper.pxi\u001b[0m in \u001b[0;36mpandas._libs.hashtable.PyObjectHashTable.get_item\u001b[1;34m()\u001b[0m\n",
      "\u001b[1;32mpandas\\_libs\\hashtable_class_helper.pxi\u001b[0m in \u001b[0;36mpandas._libs.hashtable.PyObjectHashTable.get_item\u001b[1;34m()\u001b[0m\n",
      "\u001b[1;31mKeyError\u001b[0m: 'date'",
      "\nThe above exception was the direct cause of the following exception:\n",
      "\u001b[1;31mKeyError\u001b[0m                                  Traceback (most recent call last)",
      "\u001b[1;32m<ipython-input-14-a174f4248957>\u001b[0m in \u001b[0;36m<module>\u001b[1;34m\u001b[0m\n\u001b[1;32m----> 1\u001b[1;33m \u001b[0mtest_df\u001b[0m\u001b[1;33m[\u001b[0m\u001b[1;34m\"date\"\u001b[0m\u001b[1;33m]\u001b[0m \u001b[1;33m=\u001b[0m \u001b[0mtest_df\u001b[0m\u001b[1;33m[\u001b[0m\u001b[1;34m\"date\"\u001b[0m\u001b[1;33m]\u001b[0m\u001b[1;33m.\u001b[0m\u001b[0mastype\u001b[0m\u001b[1;33m(\u001b[0m\u001b[1;34m\"datetime64\"\u001b[0m\u001b[1;33m)\u001b[0m\u001b[1;33m\u001b[0m\u001b[1;33m\u001b[0m\u001b[0m\n\u001b[0m\u001b[0;32m      2\u001b[0m \u001b[0mtest_df\u001b[0m \u001b[1;33m=\u001b[0m \u001b[0mtest_df\u001b[0m\u001b[1;33m.\u001b[0m\u001b[0mset_index\u001b[0m\u001b[1;33m(\u001b[0m\u001b[1;34m\"date\"\u001b[0m\u001b[1;33m)\u001b[0m\u001b[1;33m\u001b[0m\u001b[1;33m\u001b[0m\u001b[0m\n\u001b[0;32m      3\u001b[0m \u001b[0mtest_df\u001b[0m\u001b[1;33m\u001b[0m\u001b[1;33m\u001b[0m\u001b[0m\n",
      "\u001b[1;32m~\\anaconda3\\lib\\site-packages\\pandas\\core\\frame.py\u001b[0m in \u001b[0;36m__getitem__\u001b[1;34m(self, key)\u001b[0m\n\u001b[0;32m   2900\u001b[0m             \u001b[1;32mif\u001b[0m \u001b[0mself\u001b[0m\u001b[1;33m.\u001b[0m\u001b[0mcolumns\u001b[0m\u001b[1;33m.\u001b[0m\u001b[0mnlevels\u001b[0m \u001b[1;33m>\u001b[0m \u001b[1;36m1\u001b[0m\u001b[1;33m:\u001b[0m\u001b[1;33m\u001b[0m\u001b[1;33m\u001b[0m\u001b[0m\n\u001b[0;32m   2901\u001b[0m                 \u001b[1;32mreturn\u001b[0m \u001b[0mself\u001b[0m\u001b[1;33m.\u001b[0m\u001b[0m_getitem_multilevel\u001b[0m\u001b[1;33m(\u001b[0m\u001b[0mkey\u001b[0m\u001b[1;33m)\u001b[0m\u001b[1;33m\u001b[0m\u001b[1;33m\u001b[0m\u001b[0m\n\u001b[1;32m-> 2902\u001b[1;33m             \u001b[0mindexer\u001b[0m \u001b[1;33m=\u001b[0m \u001b[0mself\u001b[0m\u001b[1;33m.\u001b[0m\u001b[0mcolumns\u001b[0m\u001b[1;33m.\u001b[0m\u001b[0mget_loc\u001b[0m\u001b[1;33m(\u001b[0m\u001b[0mkey\u001b[0m\u001b[1;33m)\u001b[0m\u001b[1;33m\u001b[0m\u001b[1;33m\u001b[0m\u001b[0m\n\u001b[0m\u001b[0;32m   2903\u001b[0m             \u001b[1;32mif\u001b[0m \u001b[0mis_integer\u001b[0m\u001b[1;33m(\u001b[0m\u001b[0mindexer\u001b[0m\u001b[1;33m)\u001b[0m\u001b[1;33m:\u001b[0m\u001b[1;33m\u001b[0m\u001b[1;33m\u001b[0m\u001b[0m\n\u001b[0;32m   2904\u001b[0m                 \u001b[0mindexer\u001b[0m \u001b[1;33m=\u001b[0m \u001b[1;33m[\u001b[0m\u001b[0mindexer\u001b[0m\u001b[1;33m]\u001b[0m\u001b[1;33m\u001b[0m\u001b[1;33m\u001b[0m\u001b[0m\n",
      "\u001b[1;32m~\\anaconda3\\lib\\site-packages\\pandas\\core\\indexes\\base.py\u001b[0m in \u001b[0;36mget_loc\u001b[1;34m(self, key, method, tolerance)\u001b[0m\n\u001b[0;32m   2895\u001b[0m                 \u001b[1;32mreturn\u001b[0m \u001b[0mself\u001b[0m\u001b[1;33m.\u001b[0m\u001b[0m_engine\u001b[0m\u001b[1;33m.\u001b[0m\u001b[0mget_loc\u001b[0m\u001b[1;33m(\u001b[0m\u001b[0mcasted_key\u001b[0m\u001b[1;33m)\u001b[0m\u001b[1;33m\u001b[0m\u001b[1;33m\u001b[0m\u001b[0m\n\u001b[0;32m   2896\u001b[0m             \u001b[1;32mexcept\u001b[0m \u001b[0mKeyError\u001b[0m \u001b[1;32mas\u001b[0m \u001b[0merr\u001b[0m\u001b[1;33m:\u001b[0m\u001b[1;33m\u001b[0m\u001b[1;33m\u001b[0m\u001b[0m\n\u001b[1;32m-> 2897\u001b[1;33m                 \u001b[1;32mraise\u001b[0m \u001b[0mKeyError\u001b[0m\u001b[1;33m(\u001b[0m\u001b[0mkey\u001b[0m\u001b[1;33m)\u001b[0m \u001b[1;32mfrom\u001b[0m \u001b[0merr\u001b[0m\u001b[1;33m\u001b[0m\u001b[1;33m\u001b[0m\u001b[0m\n\u001b[0m\u001b[0;32m   2898\u001b[0m \u001b[1;33m\u001b[0m\u001b[0m\n\u001b[0;32m   2899\u001b[0m         \u001b[1;32mif\u001b[0m \u001b[0mtolerance\u001b[0m \u001b[1;32mis\u001b[0m \u001b[1;32mnot\u001b[0m \u001b[1;32mNone\u001b[0m\u001b[1;33m:\u001b[0m\u001b[1;33m\u001b[0m\u001b[1;33m\u001b[0m\u001b[0m\n",
      "\u001b[1;31mKeyError\u001b[0m: 'date'"
     ]
    }
   ],
   "source": [
    "test_df[\"date\"] = test_df[\"date\"].astype(\"datetime64\")\n",
    "test_df = test_df.set_index(\"date\")"
   ]
  },
  {
   "cell_type": "code",
   "execution_count": 15,
   "metadata": {
    "collapsed": true
   },
   "outputs": [
    {
     "data": {
      "text/html": [
       "<div>\n",
       "<style scoped>\n",
       "    .dataframe tbody tr th:only-of-type {\n",
       "        vertical-align: middle;\n",
       "    }\n",
       "\n",
       "    .dataframe tbody tr th {\n",
       "        vertical-align: top;\n",
       "    }\n",
       "\n",
       "    .dataframe thead th {\n",
       "        text-align: right;\n",
       "    }\n",
       "</style>\n",
       "<table border=\"1\" class=\"dataframe\">\n",
       "  <thead>\n",
       "    <tr style=\"text-align: right;\">\n",
       "      <th></th>\n",
       "      <th>tweet_id</th>\n",
       "      <th>user</th>\n",
       "      <th>text</th>\n",
       "      <th>retweets</th>\n",
       "      <th>replies</th>\n",
       "      <th>likes</th>\n",
       "      <th>quotes</th>\n",
       "      <th>has_viz</th>\n",
       "    </tr>\n",
       "    <tr>\n",
       "      <th>date</th>\n",
       "      <th></th>\n",
       "      <th></th>\n",
       "      <th></th>\n",
       "      <th></th>\n",
       "      <th></th>\n",
       "      <th></th>\n",
       "      <th></th>\n",
       "      <th></th>\n",
       "    </tr>\n",
       "  </thead>\n",
       "  <tbody>\n",
       "    <tr>\n",
       "      <th>2021-03-27 19:51:02</th>\n",
       "      <td>1375898173978382337</td>\n",
       "      <td>CDCGov</td>\n",
       "      <td>You may be considered a close contact even if ...</td>\n",
       "      <td>112</td>\n",
       "      <td>69</td>\n",
       "      <td>232</td>\n",
       "      <td>11</td>\n",
       "      <td>True</td>\n",
       "    </tr>\n",
       "    <tr>\n",
       "      <th>2021-03-27 19:19:27</th>\n",
       "      <td>1375890228574044161</td>\n",
       "      <td>CDCGov</td>\n",
       "      <td>Carol Wong, director of Chinatown Learning Cen...</td>\n",
       "      <td>49</td>\n",
       "      <td>43</td>\n",
       "      <td>204</td>\n",
       "      <td>7</td>\n",
       "      <td>True</td>\n",
       "    </tr>\n",
       "    <tr>\n",
       "      <th>2021-03-27 17:45:04</th>\n",
       "      <td>1375866473667776513</td>\n",
       "      <td>CDCGov</td>\n",
       "      <td>#WearAMask when you are taking care of someone...</td>\n",
       "      <td>215</td>\n",
       "      <td>83</td>\n",
       "      <td>487</td>\n",
       "      <td>14</td>\n",
       "      <td>True</td>\n",
       "    </tr>\n",
       "    <tr>\n",
       "      <th>2021-03-26 20:51:00</th>\n",
       "      <td>1375550876874514433</td>\n",
       "      <td>CDCGov</td>\n",
       "      <td>Gathering outdoors is safer, but if you gather...</td>\n",
       "      <td>284</td>\n",
       "      <td>136</td>\n",
       "      <td>502</td>\n",
       "      <td>23</td>\n",
       "      <td>True</td>\n",
       "    </tr>\n",
       "    <tr>\n",
       "      <th>2021-03-26 19:40:02</th>\n",
       "      <td>1375533018287325184</td>\n",
       "      <td>CDCGov</td>\n",
       "      <td>Johnson &amp;amp; Johnson's Janssen #COVID19 vacci...</td>\n",
       "      <td>102</td>\n",
       "      <td>55</td>\n",
       "      <td>272</td>\n",
       "      <td>8</td>\n",
       "      <td>True</td>\n",
       "    </tr>\n",
       "    <tr>\n",
       "      <th>...</th>\n",
       "      <td>...</td>\n",
       "      <td>...</td>\n",
       "      <td>...</td>\n",
       "      <td>...</td>\n",
       "      <td>...</td>\n",
       "      <td>...</td>\n",
       "      <td>...</td>\n",
       "      <td>...</td>\n",
       "    </tr>\n",
       "    <tr>\n",
       "      <th>2022-04-13 20:30:03</th>\n",
       "      <td>1514340157641707520</td>\n",
       "      <td>CDCGov</td>\n",
       "      <td>.@ProjectRefocus_ works with communities to mo...</td>\n",
       "      <td>24</td>\n",
       "      <td>37</td>\n",
       "      <td>67</td>\n",
       "      <td>5</td>\n",
       "      <td>True</td>\n",
       "    </tr>\n",
       "    <tr>\n",
       "      <th>2022-04-13 19:28:01</th>\n",
       "      <td>1514324546484150277</td>\n",
       "      <td>CDCGov</td>\n",
       "      <td>#Parents and Caregivers: Your children ages 5+...</td>\n",
       "      <td>58</td>\n",
       "      <td>101</td>\n",
       "      <td>104</td>\n",
       "      <td>12</td>\n",
       "      <td>True</td>\n",
       "    </tr>\n",
       "    <tr>\n",
       "      <th>2022-04-12 22:52:03</th>\n",
       "      <td>1514013506047299594</td>\n",
       "      <td>CDCGov</td>\n",
       "      <td>RT @CDCEnvironment: A study by CDC and #ATSDR ...</td>\n",
       "      <td>15</td>\n",
       "      <td>0</td>\n",
       "      <td>0</td>\n",
       "      <td>0</td>\n",
       "      <td>False</td>\n",
       "    </tr>\n",
       "    <tr>\n",
       "      <th>2022-04-12 21:00:11</th>\n",
       "      <td>1513985355657187328</td>\n",
       "      <td>CDCGov</td>\n",
       "      <td>Parents: Children with disabilities may need a...</td>\n",
       "      <td>55</td>\n",
       "      <td>39</td>\n",
       "      <td>102</td>\n",
       "      <td>3</td>\n",
       "      <td>True</td>\n",
       "    </tr>\n",
       "    <tr>\n",
       "      <th>2022-04-12 17:10:04</th>\n",
       "      <td>1513927441093435394</td>\n",
       "      <td>CDCGov</td>\n",
       "      <td>Even if you’ve already had #COVID19, mRNA vacc...</td>\n",
       "      <td>131</td>\n",
       "      <td>128</td>\n",
       "      <td>237</td>\n",
       "      <td>8</td>\n",
       "      <td>True</td>\n",
       "    </tr>\n",
       "  </tbody>\n",
       "</table>\n",
       "<p>894 rows × 8 columns</p>\n",
       "</div>"
      ],
      "text/plain": [
       "                                tweet_id    user  \\\n",
       "date                                               \n",
       "2021-03-27 19:51:02  1375898173978382337  CDCGov   \n",
       "2021-03-27 19:19:27  1375890228574044161  CDCGov   \n",
       "2021-03-27 17:45:04  1375866473667776513  CDCGov   \n",
       "2021-03-26 20:51:00  1375550876874514433  CDCGov   \n",
       "2021-03-26 19:40:02  1375533018287325184  CDCGov   \n",
       "...                                  ...     ...   \n",
       "2022-04-13 20:30:03  1514340157641707520  CDCGov   \n",
       "2022-04-13 19:28:01  1514324546484150277  CDCGov   \n",
       "2022-04-12 22:52:03  1514013506047299594  CDCGov   \n",
       "2022-04-12 21:00:11  1513985355657187328  CDCGov   \n",
       "2022-04-12 17:10:04  1513927441093435394  CDCGov   \n",
       "\n",
       "                                                                  text  \\\n",
       "date                                                                     \n",
       "2021-03-27 19:51:02  You may be considered a close contact even if ...   \n",
       "2021-03-27 19:19:27  Carol Wong, director of Chinatown Learning Cen...   \n",
       "2021-03-27 17:45:04  #WearAMask when you are taking care of someone...   \n",
       "2021-03-26 20:51:00  Gathering outdoors is safer, but if you gather...   \n",
       "2021-03-26 19:40:02  Johnson &amp; Johnson's Janssen #COVID19 vacci...   \n",
       "...                                                                ...   \n",
       "2022-04-13 20:30:03  .@ProjectRefocus_ works with communities to mo...   \n",
       "2022-04-13 19:28:01  #Parents and Caregivers: Your children ages 5+...   \n",
       "2022-04-12 22:52:03  RT @CDCEnvironment: A study by CDC and #ATSDR ...   \n",
       "2022-04-12 21:00:11  Parents: Children with disabilities may need a...   \n",
       "2022-04-12 17:10:04  Even if you’ve already had #COVID19, mRNA vacc...   \n",
       "\n",
       "                     retweets  replies  likes  quotes  has_viz  \n",
       "date                                                            \n",
       "2021-03-27 19:51:02       112       69    232      11     True  \n",
       "2021-03-27 19:19:27        49       43    204       7     True  \n",
       "2021-03-27 17:45:04       215       83    487      14     True  \n",
       "2021-03-26 20:51:00       284      136    502      23     True  \n",
       "2021-03-26 19:40:02       102       55    272       8     True  \n",
       "...                       ...      ...    ...     ...      ...  \n",
       "2022-04-13 20:30:03        24       37     67       5     True  \n",
       "2022-04-13 19:28:01        58      101    104      12     True  \n",
       "2022-04-12 22:52:03        15        0      0       0    False  \n",
       "2022-04-12 21:00:11        55       39    102       3     True  \n",
       "2022-04-12 17:10:04       131      128    237       8     True  \n",
       "\n",
       "[894 rows x 8 columns]"
      ]
     },
     "execution_count": 15,
     "metadata": {},
     "output_type": "execute_result"
    }
   ],
   "source": [
    "test_df"
   ]
  },
  {
   "cell_type": "code",
   "execution_count": 16,
   "metadata": {
    "scrolled": true
   },
   "outputs": [
    {
     "data": {
      "image/png": "[encoded data removed]",
      "text/plain": [
       "<Figure size 432x288 with 1 Axes>"
      ]
     },
     "metadata": {
      "needs_background": "light"
     },
     "output_type": "display_data"
    }
   ],
   "source": [
    "# Plot\n",
    "\n",
    "plt.plot(test_df[\"likes\"], marker='o')\n",
    "\n",
    "# Labelling \n",
    "\n",
    "plt.xlabel(\"date\")\n",
    "plt.ylabel(\"Number of Likes\")\n",
    "plt.title(\"Pandas Time Series Plot\")\n",
    "\n",
    "# Display\n",
    "\n",
    "plt.show()"
   ]
  },
  {
   "cell_type": "code",
   "execution_count": 17,
   "metadata": {},
   "outputs": [
    {
     "data": {
      "image/png": "[encoded data removed]",
      "text/plain": [
       "<Figure size 432x288 with 1 Axes>"
      ]
     },
     "metadata": {
      "needs_background": "light"
     },
     "output_type": "display_data"
    }
   ],
   "source": [
    "# Plot scatter\n",
    "\n",
    "plt.scatter(test_df.index, test_df[\"likes\"])\n",
    "\n",
    "# Labelling \n",
    "\n",
    "plt.xlabel(\"Date\")\n",
    "plt.ylabel(\"Number of Likes\")\n",
    "\n",
    "# Auto space\n",
    "\n",
    "plt.tight_layout()\n",
    "\n",
    "# Display\n",
    "\n",
    "\n",
    "plt.show()"
   ]
  }
 ],
 "metadata": {
  "kernelspec": {
   "display_name": "Python 3",
   "language": "python",
   "name": "python3"
  },
  "language_info": {
   "codemirror_mode": {
    "name": "ipython",
    "version": 3
   },
   "file_extension": ".py",
   "mimetype": "text/x-python",
   "name": "python",
   "nbconvert_exporter": "python",
   "pygments_lexer": "ipython3",
   "version": "3.8.5"
  }
 },
 "nbformat": 4,
 "nbformat_minor": 4
}

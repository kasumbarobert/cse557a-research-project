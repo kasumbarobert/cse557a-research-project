{
 "cells": [
  {
   "cell_type": "code",
   "execution_count": 1,
   "metadata": {},
   "outputs": [],
   "source": [
    "import matplotlib.pyplot as plt\n",
    "import numpy as np\n",
    "from scipy.stats import norm\n",
    "import matplotlib\n",
    "import matplotlib.mlab as mlab\n",
    "import matplotlib.pyplot as plt\n",
    "import pandas as pd\n",
    "from ipywidgets import interact, interactive, fixed, interact_manual\n",
    "import ipywidgets as widgets\n",
    "import datetime"
   ]
  },
  {
   "cell_type": "code",
   "execution_count": 2,
   "metadata": {},
   "outputs": [],
   "source": [
    "df = pd.read_csv('data/combined_tweets.csv')\n",
    "users = df[\"user\"].unique()"
   ]
  },
  {
   "cell_type": "code",
   "execution_count": 3,
   "metadata": {},
   "outputs": [],
   "source": [
    "def get_engagements(df):\n",
    "    viz_df = df.loc[df[\"has_viz\"] == True]\n",
    "    no_viz_df = df.loc[df[\"has_viz\"] == False]\n",
    "    \n",
    "    viz_retweets = viz_df[\"retweets\"].sum()\n",
    "    viz_replies = viz_df[\"replies\"].sum()\n",
    "    viz_likes = viz_df[\"likes\"].sum()\n",
    "    viz_quotes = viz_df[\"quotes\"].sum()\n",
    "    \n",
    "    no_viz_retweets = no_viz_df[\"retweets\"].sum()\n",
    "    no_viz_replies = no_viz_df[\"replies\"].sum()\n",
    "    no_viz_likes = no_viz_df[\"likes\"].sum()\n",
    "    no_viz_quotes = no_viz_df[\"quotes\"].sum()\n",
    "    \n",
    "    viz_engagements = viz_retweets + viz_replies + viz_likes + viz_quotes\n",
    "    no_viz_engagements = no_viz_retweets + no_viz_replies + no_viz_likes + no_viz_quotes\n",
    "    \n",
    "    total_engagements = viz_engagements + no_viz_engagements\n",
    "    \n",
    "    non_viz_tweets = len(no_viz_df)\n",
    "    viz_tweets = len(viz_df)\n",
    "    \n",
    "#     print(\"viz tweets:\", viz_tweets)\n",
    "#     print(\"non viz tweets:\", non_viz_tweets)\n",
    "    \n",
    "#     print(\"visualization tweet engagements: \", viz_engagements)\n",
    "#     print(\"no visualization tweet engagements: \", no_viz_engagements)\n",
    "#     print(\"total engagements: \", total_engagements)\n",
    "    \n",
    "    return viz_engagements, no_viz_engagements "
   ]
  },
  {
   "cell_type": "code",
   "execution_count": 4,
   "metadata": {},
   "outputs": [],
   "source": [
    "def get_tweets(df):\n",
    "    viz_df = df.loc[df[\"has_viz\"] == True]\n",
    "    no_viz_df = df.loc[df[\"has_viz\"] == False]\n",
    "    \n",
    "    non_viz_tweets = len(no_viz_df)\n",
    "    viz_tweets = len(viz_df)\n",
    "    \n",
    "    return viz_tweets, non_viz_tweets"
   ]
  },
  {
   "cell_type": "code",
   "execution_count": 5,
   "metadata": {},
   "outputs": [],
   "source": [
    "def show_agg_pies(df):\n",
    "    all_viz_tweets = df.loc[df[\"has_viz\"] == True]\n",
    "    no_viz_tweets = df.loc[df[\"has_viz\"] == False]\n",
    "    \n",
    "    labels = 'Total Viz Tweets', 'Total Non-Viz Tweets'\n",
    "    all_viz_tweets = len(all_viz_tweets)\n",
    "    no_viz_tweets = len(no_viz_tweets)\n",
    "    \n",
    "#     all_viz_tweets, non_viz_tweets = len(all_viz_tweets), len(no_viz_tweets)\n",
    "    sizes = []\n",
    "    sizes.append(all_viz_tweets)\n",
    "    sizes.append(no_viz_tweets)\n",
    "    \n",
    "    tweet_label = 'Tweets with viz: ' + str(all_viz_tweets)\n",
    "    no_tweet_label = 'Tweets without viz: ' + str(no_viz_tweets)\n",
    "    \n",
    "    legend_labels_1 = tweet_label, no_tweet_label\n",
    "    \n",
    "    #----------------------------------------------------------------------------#\n",
    "    \n",
    "    # Pie chart, where the slices will be ordered and plotted counter-clockwise:\n",
    "    labels_eng = 'Viz Engagements', 'Non-Viz Engagements'\n",
    "    viz_engagements, non_viz_engagements = get_engagements(df)\n",
    "    sizes_eng = []\n",
    "    sizes_eng.append(viz_engagements)\n",
    "    sizes_eng.append(non_viz_engagements)\n",
    "    \n",
    "    eng_viz_label = 'Viz engagements: ' + str(viz_engagements)\n",
    "    eng_noviz_label = 'Non-Viz engagements: ' + str(non_viz_engagements)\n",
    "    legend_labels_2 = eng_viz_label, eng_noviz_label\n",
    "    \n",
    "    \n",
    "    #----------------------------------------------------------------------------#\n",
    "    \n",
    "    fig, (ax1, ax2) = plt.subplots(1, 2)\n",
    "    \n",
    "    ax1.pie(sizes, labels=labels, autopct='%1.1f%%',\n",
    "            shadow=True, startangle=90)\n",
    "    ax1.axis('equal')\n",
    "    ax1.set_title(\"All tweets distribution\")\n",
    "    ax1.legend(legend_labels_1)\n",
    "    \n",
    "    ax2.pie(sizes_eng, labels=labels_eng, autopct='%1.1f%%',\n",
    "            shadow=True, startangle=90)\n",
    "    ax2.axis('equal')  # Equal aspect ratio ensures that pie is drawn as a circle.\n",
    "    ax2.set_title(\"Proportion of Engagements\")\n",
    "    ax2.legend(legend_labels_2)\n",
    "    \n",
    "    \n",
    "    fig.suptitle('Horiziontal subplots')\n",
    "\n",
    "    plt.tight_layout()\n",
    "    \n",
    "    \n",
    "    #-----------------------------------------------------------------------------#\n",
    "\n",
    "#     plt.show()"
   ]
  },
  {
   "cell_type": "code",
   "execution_count": 6,
   "metadata": {},
   "outputs": [],
   "source": [
    "def show_pies(disp_df, authorname):\n",
    "    # Pie chart, where the slices will be ordered and plotted counter-clockwise:\n",
    "    labels = 'Viz Engagements', 'Non-Viz Engagements'\n",
    "    viz_engagements, non_viz_engagements = get_engagements(disp_df)\n",
    "    sizes = []\n",
    "    sizes.append(viz_engagements)\n",
    "    sizes.append(non_viz_engagements)\n",
    "    \n",
    "    viz_label = 'Viz engagements: ' + str(viz_engagements)\n",
    "    non_viz_label = 'Non-viz engagements: ' + str(non_viz_engagements)\n",
    "    \n",
    "    legend_labels_1 = viz_label, non_viz_label\n",
    "    \n",
    "    #----------------------------------------------------------------------------#\n",
    "    \n",
    "    # Pie chart, where the slices will be ordered and plotted counter-clockwise:\n",
    "    labels2 = 'Tweets with Viz', 'Tweets without Viz'\n",
    "    viz_tweets, non_viz_tweets = get_tweets(disp_df)\n",
    "    sizes_2 = []\n",
    "    sizes_2.append(viz_tweets)\n",
    "    sizes_2.append(non_viz_tweets)\n",
    "    \n",
    "    tweet_label = 'Tweets with viz: ' + str(viz_tweets)\n",
    "    no_tweet_label = 'Tweets without viz: ' + str(non_viz_tweets)\n",
    "    \n",
    "    legend_labels_2 = tweet_label, no_tweet_label\n",
    "    \n",
    "    #-----------------------------------------------------------------------------#\n",
    "    \n",
    "    fig, (ax1, ax2) = plt.subplots(1, 2)\n",
    "    ax1.pie(sizes, labels=labels, autopct='%1.1f%%',\n",
    "            shadow=True, startangle=90)\n",
    "    ax1.set_title(\"Proportion of Engagements\")\n",
    "    ax1.axis('equal')\n",
    "    ax1.legend(legend_labels_1)\n",
    "    \n",
    "    ax2.set_title(\"Tweets with or without visualizations\")\n",
    "    ax2.pie(sizes_2, labels=labels2, autopct='%1.1f%%',\n",
    "            shadow=True, startangle=90)\n",
    "    ax2.axis('equal')\n",
    "    ax2.legend(legend_labels_2)\n",
    "    \n",
    "#     fig.suptitle('Horiziontal subplots')\n",
    "    plt.tight_layout()\n",
    "    \n",
    "    \n",
    "\n",
    "#     plt.show()"
   ]
  },
  {
   "cell_type": "code",
   "execution_count": 41,
   "metadata": {},
   "outputs": [
    {
     "data": {
      "image/png": "[encoded data removed]",
      "text/plain": [
       "<Figure size 432x288 with 1 Axes>"
      ]
     },
     "metadata": {
      "needs_background": "light"
     },
     "output_type": "display_data"
    }
   ],
   "source": [
    "def show_bars(df, authors):\n",
    "    viz_df = df.loc[df[\"has_viz\"] == True]\n",
    "    no_viz_df = df.loc[df[\"has_viz\"] == False]\n",
    "    \n",
    "    viz_retweets = viz_df[\"retweets\"].sum()\n",
    "    viz_replies = viz_df[\"replies\"].sum()\n",
    "    viz_likes = viz_df[\"likes\"].sum()\n",
    "    viz_quotes = viz_df[\"quotes\"].sum()\n",
    "    \n",
    "    no_viz_retweets = no_viz_df[\"retweets\"].sum()\n",
    "    no_viz_replies = no_viz_df[\"replies\"].sum()\n",
    "    no_viz_likes = no_viz_df[\"likes\"].sum()\n",
    "    no_viz_quotes = no_viz_df[\"quotes\"].sum()\n",
    "    \n",
    "    viz_engagements = [viz_likes, viz_retweets, viz_replies, viz_quotes]\n",
    "    non_viz_engagements = [no_viz_likes, no_viz_retweets, no_viz_replies, no_viz_quotes]\n",
    "    \n",
    "    groups = [[viz_likes, no_viz_likes], \n",
    "              [viz_retweets, no_viz_retweets], \n",
    "              [viz_replies, no_viz_replies], \n",
    "              [viz_quotes, no_viz_quotes]]\n",
    "    \n",
    "    labels = [\"Likes\", \"Retweets\", \"Replies\", \"Quotes\"]\n",
    "    index_labels = [\"With Viz\", \"Without Viz\"]\n",
    "    \n",
    "    test_df = pd.DataFrame(groups, index=labels).T\n",
    "    test_df = test_df.rename(index={0: 'With Viz', 1: 'Without Viz'} )\n",
    "    \n",
    "    ax = test_df.plot.bar()\n",
    "    ax.set_title(\"Engagements with and without visualizations\")\n",
    "    ax.set_xlabel(\"Type of Engagement\")\n",
    "    ax.set_ylabel(\"Number of Engagement\")\n",
    "    \n",
    "\n",
    "# disp_df = df.loc[df[\"user\"] == \"CDCGov\"]\n",
    "# show_bars(disp_df, \"CDCGov\")    "
   ]
  },
  {
   "cell_type": "code",
   "execution_count": 42,
   "metadata": {},
   "outputs": [
    {
     "data": {
      "application/vnd.jupyter.widget-view+json": {
       "model_id": "508b95b13fd74da8800df5fe8c77b8fe",
       "version_major": 2,
       "version_minor": 0
      },
      "text/plain": [
       "interactive(children=(Dropdown(description='authors', options=('abmakulec', 'aetiology', 'alicesim', 'AmeshAA'…"
      ]
     },
     "metadata": {},
     "output_type": "display_data"
    }
   ],
   "source": [
    "def f(authors):\n",
    "    disp_df = df.loc[df[\"user\"] == authors]\n",
    "    show_pies(disp_df, authors)\n",
    "    show_bars(disp_df, authors)\n",
    "\n",
    "interact(f, authors=users);"
   ]
  },
  {
   "cell_type": "code",
   "execution_count": 9,
   "metadata": {
    "scrolled": true
   },
   "outputs": [
    {
     "data": {
      "image/png": "[encoded data removed]",
      "text/plain": [
       "<Figure size 432x288 with 2 Axes>"
      ]
     },
     "metadata": {},
     "output_type": "display_data"
    }
   ],
   "source": [
    "show_agg_pies(df)"
   ]
  },
  {
   "cell_type": "code",
   "execution_count": 11,
   "metadata": {},
   "outputs": [
    {
     "data": {
      "text/plain": [
       "'3.3.2'"
      ]
     },
     "execution_count": 11,
     "metadata": {},
     "output_type": "execute_result"
    }
   ],
   "source": [
    "matplotlib.__version__"
   ]
  },
  {
   "cell_type": "code",
   "execution_count": 10,
   "metadata": {},
   "outputs": [
    {
     "name": "stdout",
     "output_type": "stream",
     "text": [
      "^C\n",
      "\n",
      "Note: you may need to restart the kernel to use updated packages.\n"
     ]
    }
   ],
   "source": [
    "conda install matplotlib=3.5.2"
   ]
  },
  {
   "cell_type": "code",
   "execution_count": 52,
   "metadata": {
    "collapsed": true
   },
   "outputs": [
    {
     "name": "stdout",
     "output_type": "stream",
     "text": [
      "Collecting package metadata (current_repodata.json): ...working... done\n",
      "Solving environment: ...working... \n",
      "\n",
      "Updating matplotlib is constricted by \n",
      "\n",
      "anaconda -> requires matplotlib==3.3.2=0\n",
      "\n",
      "If you are sure you want an update of your package either try `conda update --all` or install a specific version of the package you want using `conda install <pkg>=<version>`\n",
      "\n",
      "Note: you may need to restart the kernel to use updated packages.\n",
      "done\n",
      "\n",
      "## Package Plan ##\n",
      "\n",
      "\n",
      "  environment location: C:\\Users\\ppate\\anaconda3\n",
      "\n",
      "  added / updated specs:\n",
      "    - matplotlib\n",
      "\n",
      "\n",
      "The following packages will be downloaded:\n",
      "\n",
      "    package                    |            build\n",
      "    ---------------------------|-----------------\n",
      "    backports.weakref-1.0.post1|  pyhd8ed1ab_1003          11 KB  conda-forge\n",
      "    importlib-metadata-2.0.0   |             py_1          28 KB  conda-forge\n",
      "    python_abi-3.8             |           2_cp38           4 KB  conda-forge\n",
      "    ------------------------------------------------------------\n",
      "                                           Total:          43 KB\n",
      "\n",
      "The following packages will be UPDATED:\n",
      "\n",
      "  backports.weakref  conda-forge/win-64::backports.weakref~ --> conda-forge/noarch::backports.weakref-1.0.post1-pyhd8ed1ab_1003\n",
      "  conda                               4.11.0-py38haa244fe_0 --> 4.12.0-py38haa244fe_0\n",
      "  python_abi                                     3.8-1_cp38 --> 3.8-2_cp38\n",
      "\n",
      "The following packages will be SUPERSEDED by a higher-priority channel:\n",
      "\n",
      "  importlib-metadata                              pkgs/main --> conda-forge\n",
      "\n",
      "\n",
      "\n",
      "Downloading and Extracting Packages\n",
      "\n",
      "importlib-metadata-2 | 28 KB     |            |   0% \n",
      "importlib-metadata-2 | 28 KB     | #####7     |  58% \n",
      "importlib-metadata-2 | 28 KB     | ########## | 100% \n",
      "importlib-metadata-2 | 28 KB     | ########## | 100% \n",
      "\n",
      "backports.weakref-1. | 11 KB     |            |   0% \n",
      "backports.weakref-1. | 11 KB     | ########## | 100% \n",
      "backports.weakref-1. | 11 KB     | ########## | 100% \n",
      "\n",
      "python_abi-3.8       | 4 KB      |            |   0% \n",
      "python_abi-3.8       | 4 KB      | ########## | 100% \n",
      "python_abi-3.8       | 4 KB      | ########## | 100% \n",
      "Preparing transaction: ...working... done\n",
      "Verifying transaction: ...working... done\n",
      "Executing transaction: ...working... done\n"
     ]
    }
   ],
   "source": [
    "conda update matplotlib"
   ]
  },
  {
   "cell_type": "code",
   "execution_count": null,
   "metadata": {},
   "outputs": [],
   "source": []
  },
  {
   "cell_type": "code",
   "execution_count": 6,
   "metadata": {},
   "outputs": [],
   "source": [
    "# def show_eng_pie(disp_df, authorname):\n",
    "#     # Pie chart, where the slices will be ordered and plotted counter-clockwise:\n",
    "#     labels = 'Viz Engagements', 'Non-Viz Engagements'\n",
    "#     viz_engagements, non_viz_engagements = get_engagements(disp_df)\n",
    "#     sizes = []\n",
    "#     sizes.append(viz_engagements)\n",
    "#     sizes.append(non_viz_engagements)\n",
    "    \n",
    "#     #generate legend \n",
    "# #     plt.legend(labels,loc=3)\n",
    "\n",
    "#     fig1, ax1 = plt.subplots()\n",
    "#     ax1.pie(sizes, labels=labels, autopct='%1.1f%%',\n",
    "#             shadow=True, startangle=90)\n",
    "#     ax1.axis('equal')  # Equal aspect ratio ensures that pie is drawn as a circle.\n",
    "#     plt.title(\"Proportion of Engagements\")\n",
    "\n",
    "#     plt.show()"
   ]
  },
  {
   "cell_type": "code",
   "execution_count": 7,
   "metadata": {},
   "outputs": [],
   "source": [
    "# def show_tweets_pie(disp_df, authorname):\n",
    "#     # Pie chart, where the slices will be ordered and plotted counter-clockwise:\n",
    "#     labels = 'With Viz', 'Without Viz'\n",
    "#     viz_tweets, non_viz_tweets = get_tweets(disp_df)\n",
    "#     sizes = []\n",
    "#     sizes.append(viz_tweets)\n",
    "#     sizes.append(non_viz_tweets)\n",
    "    \n",
    "#     #generate legend \n",
    "# #     plt.legend(labels,loc=3)\n",
    "\n",
    "#     fig1, ax1 = plt.subplots()\n",
    "#     ax1.pie(sizes, labels=labels, autopct='%1.1f%%',\n",
    "#             shadow=True, startangle=90)\n",
    "#     ax1.axis('equal')  # Equal aspect ratio ensures that pie is drawn as a circle.\n",
    "#     plt.title(\"Tweets with or without visualizations\")\n",
    "\n",
    "#     plt.show()"
   ]
  },
  {
   "cell_type": "code",
   "execution_count": 11,
   "metadata": {},
   "outputs": [],
   "source": [
    "# all_viz_tweets = df.loc[df[\"has_viz\"] == True]\n",
    "# no_viz_tweets = df.loc[df[\"has_viz\"] == False]"
   ]
  },
  {
   "cell_type": "code",
   "execution_count": 12,
   "metadata": {},
   "outputs": [],
   "source": [
    "# def all_tweet_pie(df):\n",
    "#     all_viz_tweets = df.loc[df[\"has_viz\"] == True]\n",
    "#     no_viz_tweets = df.loc[df[\"has_viz\"] == False]\n",
    "    \n",
    "#     labels = 'Total Viz Tweets', 'Total Non-Viz Tweets'\n",
    "#     all_viz_tweets = len(all_viz_tweets)\n",
    "#     no_viz_tweets = len(no_viz_tweets)\n",
    "    \n",
    "# #     all_viz_tweets, non_viz_tweets = len(all_viz_tweets), len(no_viz_tweets)\n",
    "#     sizes = []\n",
    "#     sizes.append(all_viz_tweets)\n",
    "#     sizes.append(no_viz_tweets)\n",
    "    \n",
    "#     fig1, ax1 = plt.subplots()\n",
    "#     ax1.pie(sizes, labels=labels, autopct='%1.1f%%',\n",
    "#             shadow=True, startangle=90)\n",
    "#     ax1.axis('equal')  # Equal aspect ratio ensures that pie is drawn as a circle.\n",
    "#     plt.title(\"All tweets distribution\")\n",
    "#     tweet_label = 'Tweets with viz: ' + str(all_viz_tweets)\n",
    "#     no_tweet_label = 'Tweets without viz: ' + str(no_viz_tweets)\n",
    "#     labels_test = tweet_label, no_tweet_label\n",
    "#     plt.legend(labels_test)\n",
    "\n",
    "#     plt.show()\n",
    "    \n",
    "# all_tweet_pie(df)"
   ]
  },
  {
   "cell_type": "code",
   "execution_count": 13,
   "metadata": {
    "scrolled": true
   },
   "outputs": [],
   "source": [
    "# def all_eng_pie(df):\n",
    "#     # Pie chart, where the slices will be ordered and plotted counter-clockwise:\n",
    "#     labels = 'Viz Engagements', 'Non-Viz Engagements'\n",
    "#     viz_engagements, non_viz_engagements = get_engagements(df)\n",
    "#     sizes = []\n",
    "#     sizes.append(viz_engagements)\n",
    "#     sizes.append(non_viz_engagements)\n",
    "    \n",
    "#     print(viz_engagements)\n",
    "#     print(non_viz_engagements)\n",
    "    \n",
    "#     #generate legend \n",
    "# #     plt.legend(labels,loc=3)\n",
    "\n",
    "#     fig1, ax1 = plt.subplots()\n",
    "#     ax1.pie(sizes, labels=labels, autopct='%1.1f%%',\n",
    "#             shadow=True, startangle=90)\n",
    "#     ax1.axis('equal')  # Equal aspect ratio ensures that pie is drawn as a circle.\n",
    "#     plt.title(\"Proportion of Engagements\")\n",
    "#     tweet_label = 'Viz engagements: ' + str(viz_engagements)\n",
    "#     no_tweet_label = 'Non-Viz engagements: ' + str(non_viz_engagements)\n",
    "#     legend_labels = tweet_label, no_tweet_label\n",
    "#     plt.legend(legend_labels)\n",
    "\n",
    "#     plt.show()\n",
    "\n",
    "# all_eng_pie(df)"
   ]
  },
  {
   "cell_type": "code",
   "execution_count": 14,
   "metadata": {},
   "outputs": [],
   "source": [
    "# df.columns"
   ]
  },
  {
   "cell_type": "code",
   "execution_count": 15,
   "metadata": {},
   "outputs": [],
   "source": [
    "# test_df = df.loc[df['user'] == \"aetiology\"]\n",
    "# test_df.head()"
   ]
  },
  {
   "cell_type": "code",
   "execution_count": 16,
   "metadata": {},
   "outputs": [],
   "source": [
    "# test_df"
   ]
  },
  {
   "cell_type": "code",
   "execution_count": 17,
   "metadata": {},
   "outputs": [],
   "source": [
    "# test_df[\"date\"] = test_df[\"date\"].astype(\"datetime64\")\n",
    "# # test_df = test_df.set_index(\"date\")"
   ]
  },
  {
   "cell_type": "code",
   "execution_count": 18,
   "metadata": {},
   "outputs": [],
   "source": [
    "# test_df"
   ]
  },
  {
   "cell_type": "code",
   "execution_count": 19,
   "metadata": {
    "scrolled": true
   },
   "outputs": [],
   "source": [
    "# test_df[\"dt\"],test_df[\"dt_m\"] = test_df[\"date\"].dt.year,test_df[\"date\"].dt.month\n",
    "# test_df[\"comb_date\"] = test_df.apply(lambda row: str(row[\"dt\"])+\"-\"+str(row[\"dt_m\"]),axis=1)\n",
    "# test_df"
   ]
  },
  {
   "cell_type": "code",
   "execution_count": 20,
   "metadata": {},
   "outputs": [],
   "source": [
    "# test_df[\"comb_date\"].unique()"
   ]
  },
  {
   "cell_type": "code",
   "execution_count": 21,
   "metadata": {
    "scrolled": true
   },
   "outputs": [],
   "source": [
    "# # Plot\n",
    "\n",
    "# plt.plot(test_df[\"likes\"], marker='o')\n",
    "\n",
    "# # Labelling \n",
    "\n",
    "# plt.xlabel(\"date\")\n",
    "# plt.ylabel(\"Number of Likes\")\n",
    "# plt.title(\"Pandas Time Series Plot\")\n",
    "\n",
    "# # Display\n",
    "\n",
    "# plt.show()"
   ]
  },
  {
   "cell_type": "code",
   "execution_count": 22,
   "metadata": {},
   "outputs": [],
   "source": [
    "# # Plot scatter\n",
    "\n",
    "# plt.scatter(test_df.index, test_df[\"likes\"])\n",
    "\n",
    "# # Labelling \n",
    "\n",
    "# plt.xlabel(\"Date\")\n",
    "# plt.ylabel(\"Number of Likes\")\n",
    "\n",
    "# # Auto space\n",
    "\n",
    "# plt.tight_layout()\n",
    "\n",
    "# # Display\n",
    "\n",
    "\n",
    "# plt.show()"
   ]
  }
 ],
 "metadata": {
  "kernelspec": {
   "display_name": "Python 3",
   "language": "python",
   "name": "python3"
  },
  "language_info": {
   "codemirror_mode": {
    "name": "ipython",
    "version": 3
   },
   "file_extension": ".py",
   "mimetype": "text/x-python",
   "name": "python",
   "nbconvert_exporter": "python",
   "pygments_lexer": "ipython3",
   "version": "3.8.5"
  }
 },
 "nbformat": 4,
 "nbformat_minor": 4
}

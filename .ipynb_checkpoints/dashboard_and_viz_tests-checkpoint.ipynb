{
 "cells": [
  {
   "cell_type": "code",
   "execution_count": 1,
   "metadata": {},
   "outputs": [],
   "source": [
    "import matplotlib.pyplot as plt\n",
    "import numpy as np\n",
    "from scipy.stats import norm\n",
    "import matplotlib.mlab as mlab\n",
    "import matplotlib.pyplot as plt\n",
    "import pandas as pd\n",
    "from ipywidgets import interact, interactive, fixed, interact_manual\n",
    "import ipywidgets as widgets"
   ]
  },
  {
   "cell_type": "code",
   "execution_count": 2,
   "metadata": {},
   "outputs": [],
   "source": [
    "df = pd.read_csv('data/combined_tweets.csv')\n",
    "users = df[\"user\"].unique()"
   ]
  },
  {
   "cell_type": "code",
   "execution_count": 49,
   "metadata": {},
   "outputs": [],
   "source": [
    "def get_engagements(df):\n",
    "    viz_df = df.loc[df[\"has_viz\"] == True]\n",
    "    no_viz_df = df.loc[df[\"has_viz\"] == False]\n",
    "    \n",
    "    viz_retweets = viz_df[\"retweets\"].sum()\n",
    "    viz_replies = viz_df[\"replies\"].sum()\n",
    "    viz_likes = viz_df[\"likes\"].sum()\n",
    "    viz_quotes = viz_df[\"quotes\"].sum()\n",
    "    \n",
    "    no_viz_retweets = no_viz_df[\"retweets\"].sum()\n",
    "    no_viz_replies = no_viz_df[\"replies\"].sum()\n",
    "    no_viz_likes = no_viz_df[\"likes\"].sum()\n",
    "    no_viz_quotes = no_viz_df[\"quotes\"].sum()\n",
    "    \n",
    "    viz_engagements = viz_retweets + viz_replies + viz_likes + viz_quotes\n",
    "    no_viz_engagements = no_viz_retweets + no_viz_replies + no_viz_likes + no_viz_quotes\n",
    "    \n",
    "    total_engagements = viz_engagements + no_viz_engagements\n",
    "    \n",
    "    non_viz_tweets = len(no_viz_df)\n",
    "    viz_tweets = len(viz_df)\n",
    "    \n",
    "    print(\"viz tweets:\", viz_tweets)\n",
    "    print(\"non viz tweets:\", non_viz_tweets)\n",
    "    \n",
    "#     print(\"visualization tweet engagements: \", viz_engagements)\n",
    "#     print(\"no visualization tweet engagements: \", no_viz_engagements)\n",
    "#     print(\"total engagements: \", total_engagements)\n",
    "    \n",
    "    return viz_engagements, no_viz_engagements "
   ]
  },
  {
   "cell_type": "code",
   "execution_count": 47,
   "metadata": {},
   "outputs": [],
   "source": [
    "def show_pie(disp_df, authorname):\n",
    "    # Pie chart, where the slices will be ordered and plotted counter-clockwise:\n",
    "    labels = 'With Viz', 'Without Viz'\n",
    "    viz_engagements, non_viz_engagements = get_engagements(disp_df)\n",
    "    sizes = []\n",
    "    sizes.append(viz_engagements)\n",
    "    sizes.append(non_viz_engagements)\n",
    "    \n",
    "    #generate legend \n",
    "#     plt.legend(labels,loc=3)\n",
    "\n",
    "    fig1, ax1 = plt.subplots()\n",
    "    ax1.pie(sizes, labels=labels, autopct='%1.1f%%',\n",
    "            shadow=True, startangle=90)\n",
    "    ax1.axis('equal')  # Equal aspect ratio ensures that pie is drawn as a circle.\n",
    "    plt.title(authorname)\n",
    "\n",
    "    plt.show()"
   ]
  },
  {
   "cell_type": "code",
   "execution_count": null,
   "metadata": {},
   "outputs": [],
   "source": []
  },
  {
   "cell_type": "code",
   "execution_count": 50,
   "metadata": {},
   "outputs": [
    {
     "data": {
      "application/vnd.jupyter.widget-view+json": {
       "model_id": "efac4bf694e6497e81ddd4e47af45ba2",
       "version_major": 2,
       "version_minor": 0
      },
      "text/plain": [
       "interactive(children=(Dropdown(description='authors', options=('BNONews', 'CDCGov', 'DrEricDing', 'DrTomFriede…"
      ]
     },
     "metadata": {},
     "output_type": "display_data"
    }
   ],
   "source": [
    "def f(authors):\n",
    "    disp_df = df.loc[df[\"user\"] == authors]\n",
    "    return show_pie(disp_df, authors)\n",
    "\n",
    "interact(f, authors=users);"
   ]
  },
  {
   "cell_type": "code",
   "execution_count": null,
   "metadata": {},
   "outputs": [],
   "source": []
  },
  {
   "cell_type": "code",
   "execution_count": null,
   "metadata": {},
   "outputs": [],
   "source": []
  }
 ],
 "metadata": {
  "kernelspec": {
   "display_name": "Python 3",
   "language": "python",
   "name": "python3"
  },
  "language_info": {
   "codemirror_mode": {
    "name": "ipython",
    "version": 3
   },
   "file_extension": ".py",
   "mimetype": "text/x-python",
   "name": "python",
   "nbconvert_exporter": "python",
   "pygments_lexer": "ipython3",
   "version": "3.8.5"
  }
 },
 "nbformat": 4,
 "nbformat_minor": 4
}

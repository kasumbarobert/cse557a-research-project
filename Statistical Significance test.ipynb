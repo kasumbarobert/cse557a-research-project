{
 "cells": [
  {
   "cell_type": "code",
   "execution_count": 13,
   "id": "49f2749c",
   "metadata": {},
   "outputs": [],
   "source": [
    "# For sending GET requests from the API\n",
    "import requests\n",
    "# For saving access tokens and for file management when creating and adding to the dataset\n",
    "import os\n",
    "# For dealing with json responses we receive from the API\n",
    "import json\n",
    "# For displaying the data after\n",
    "import pandas as pd\n",
    "# For saving the response data in CSV format\n",
    "import csv\n",
    "import numpy as np\n",
    "from scipy.stats import mannwhitneyu\n"
   ]
  },
  {
   "cell_type": "code",
   "execution_count": 14,
   "id": "48079a79",
   "metadata": {},
   "outputs": [],
   "source": [
    "df = pd.read_csv('data/combined_tweets_filtered.csv')"
   ]
  },
  {
   "cell_type": "code",
   "execution_count": 15,
   "id": "414a0bca",
   "metadata": {},
   "outputs": [],
   "source": [
    "df[\"total\"] =df[\"retweets\"]+df[\"replies\"]+df[\"likes\"]+df[\"quotes\"]\n"
   ]
  },
  {
   "cell_type": "code",
   "execution_count": 16,
   "id": "21c6d88b",
   "metadata": {},
   "outputs": [
    {
     "data": {
      "text/plain": [
       "MannwhitneyuResult(statistic=11265620.0, pvalue=5.9242040684803154e-201)"
      ]
     },
     "execution_count": 16,
     "metadata": {},
     "output_type": "execute_result"
    }
   ],
   "source": [
    "mannwhitneyu(df[df[\"has_viz\"]==False][\"total\"],df[df[\"has_viz\"]==True][\"total\"])"
   ]
  },
  {
   "cell_type": "code",
   "execution_count": 17,
   "id": "220a67eb",
   "metadata": {},
   "outputs": [
    {
     "data": {
      "text/plain": [
       "MannwhitneyuResult(statistic=8082524.0, pvalue=0.0)"
      ]
     },
     "execution_count": 17,
     "metadata": {},
     "output_type": "execute_result"
    }
   ],
   "source": [
    "mannwhitneyu(df[df[\"has_viz\"]==False][\"likes\"],df[df[\"has_viz\"]==True][\"likes\"])"
   ]
  },
  {
   "cell_type": "code",
   "execution_count": 18,
   "id": "60a3c93f",
   "metadata": {},
   "outputs": [
    {
     "data": {
      "text/plain": [
       "MannwhitneyuResult(statistic=13524594.5, pvalue=2.065212542896577e-85)"
      ]
     },
     "execution_count": 18,
     "metadata": {},
     "output_type": "execute_result"
    }
   ],
   "source": [
    "mannwhitneyu(df[df[\"has_viz\"]==False][\"retweets\"],df[df[\"has_viz\"]==True][\"retweets\"])"
   ]
  },
  {
   "cell_type": "code",
   "execution_count": 19,
   "id": "3ef0aeb4",
   "metadata": {},
   "outputs": [
    {
     "data": {
      "text/plain": [
       "MannwhitneyuResult(statistic=7575136.5, pvalue=0.0)"
      ]
     },
     "execution_count": 19,
     "metadata": {},
     "output_type": "execute_result"
    }
   ],
   "source": [
    "mannwhitneyu(df[df[\"has_viz\"]==False][\"replies\"],df[df[\"has_viz\"]==True][\"replies\"])"
   ]
  },
  {
   "cell_type": "code",
   "execution_count": 20,
   "id": "53926768",
   "metadata": {},
   "outputs": [
    {
     "data": {
      "text/plain": [
       "MannwhitneyuResult(statistic=8405570.0, pvalue=0.0)"
      ]
     },
     "execution_count": 20,
     "metadata": {},
     "output_type": "execute_result"
    }
   ],
   "source": [
    "mannwhitneyu(df[df[\"has_viz\"]==False][\"quotes\"],df[df[\"has_viz\"]==True][\"quotes\"])"
   ]
  }
 ],
 "metadata": {
  "kernelspec": {
   "display_name": "ipy-jupyter-venv3.9",
   "language": "python",
   "name": "myipy_jupter_env3.9"
  },
  "language_info": {
   "codemirror_mode": {
    "name": "ipython",
    "version": 3
   },
   "file_extension": ".py",
   "mimetype": "text/x-python",
   "name": "python",
   "nbconvert_exporter": "python",
   "pygments_lexer": "ipython3",
   "version": "3.9.7"
  }
 },
 "nbformat": 4,
 "nbformat_minor": 5
}

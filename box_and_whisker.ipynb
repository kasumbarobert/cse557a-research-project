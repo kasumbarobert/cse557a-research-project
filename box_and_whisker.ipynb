{
 "cells": [
  {
   "cell_type": "code",
   "execution_count": 1,
   "metadata": {},
   "outputs": [],
   "source": [
    "import matplotlib.pyplot as plt\n",
    "import numpy as np\n",
    "from scipy.stats import norm\n",
    "import matplotlib.mlab as mlab\n",
    "import matplotlib.pyplot as plt\n",
    "from matplotlib.ticker import PercentFormatter\n"
   ]
  },
  {
   "cell_type": "code",
   "execution_count": 2,
   "metadata": {},
   "outputs": [
    {
     "name": "stdout",
     "output_type": "stream",
     "text": [
      "Column names are tweet_id, user, text, date, retweets, replies, likes, quotes, has_viz\n"
     ]
    }
   ],
   "source": [
    "# Handle the data from the CSV\n",
    "import csv\n",
    "\n",
    "csv_data = []\n",
    "with open('data/combined_tweets.csv') as csv_file:\n",
    "    csv_reader = csv.reader(csv_file, delimiter=',')\n",
    "    line_count = 0\n",
    "    for row in csv_reader:\n",
    "        if line_count == 0:\n",
    "            print(f'Column names are {\", \".join(row)}')\n",
    "            line_count += 1\n",
    "        else:\n",
    "            csv_data.append(row)\n",
    "            line_count += 1\n"
   ]
  },
  {
   "cell_type": "code",
   "execution_count": 3,
   "metadata": {},
   "outputs": [],
   "source": [
    "# Get all of the tweets for all users and split between noviz and viz\n",
    "viz = []\n",
    "noviz = []\n",
    "\n",
    "for tweet in csv_data :\n",
    "    if tweet[-1] == \"True\":\n",
    "        viz.append(int(tweet[6]))\n",
    "    else:\n",
    "        noviz.append(int(tweet[6]))"
   ]
  },
  {
   "cell_type": "code",
   "execution_count": 4,
   "metadata": {},
   "outputs": [],
   "source": [
    "data = [noviz, viz]"
   ]
  },
  {
   "cell_type": "code",
   "execution_count": 22,
   "metadata": {},
   "outputs": [
    {
     "data": {
      "text/plain": [
       "<Figure size 2160x2160 with 0 Axes>"
      ]
     },
     "metadata": {},
     "output_type": "display_data"
    }
   ],
   "source": [
    "fig = plt.figure(figsize =(10, 7))"
   ]
  },
  {
   "cell_type": "code",
   "execution_count": 6,
   "metadata": {},
   "outputs": [
    {
     "data": {
      "image/png": "[encoded data removed]",
      "text/plain": [
       "<Figure size 432x288 with 1 Axes>"
      ]
     },
     "metadata": {
      "needs_background": "light"
     },
     "output_type": "display_data"
    }
   ],
   "source": [
    "# Creating plot\n",
    "plt.boxplot(data, notch=False, showfliers=False, labels=[\"no-viz\", \"viz\"])\n",
    "plt.ylabel(\"Retweets\")\n",
    " \n",
    "# show plot\n",
    "plt.show()"
   ]
  },
  {
   "cell_type": "code",
   "execution_count": 7,
   "metadata": {},
   "outputs": [],
   "source": [
    "a = np.histogram(viz)"
   ]
  },
  {
   "cell_type": "code",
   "execution_count": 8,
   "metadata": {},
   "outputs": [],
   "source": [
    "def buildBins(min = 0, spacing = 1, numbins = 10) :\n",
    "    ret = [min + float(x)*spacing for x in range(numbins)]\n",
    "    return ret\n",
    "\n",
    "def binCenters(bins):\n",
    "    mids = []\n",
    "    for i in range(len(bins)-1) :\n",
    "        lower = bins[i]\n",
    "        upper = bins[i+1]\n",
    "        mid = (lower + upper) / 2\n",
    "        mids.append(mid)\n",
    "    return mids"
   ]
  },
  {
   "cell_type": "code",
   "execution_count": 23,
   "metadata": {},
   "outputs": [
    {
     "data": {
      "image/png": "[encoded data removed]",
      "text/plain": [
       "<Figure size 432x288 with 2 Axes>"
      ]
     },
     "metadata": {
      "needs_background": "light"
     },
     "output_type": "display_data"
    }
   ],
   "source": [
    "# Build the bins by user pref\n",
    "bins = buildBins(min = 1, spacing = 100, numbins = 15)\n",
    "\n",
    "# The top subplot is classic histo\n",
    "plt.subplot(211)\n",
    "n, x, _ = plt.hist(data, bins = bins, density = True)\n",
    "\n",
    "#plt.close()\n",
    "\n",
    "# The bottom sublplot is a line \n",
    "plt.subplot(212)\n",
    "bin_centers = binCenters(bins)\n",
    "plt.gca().yaxis.set_major_formatter(PercentFormatter(1))\n",
    "plt.plot(bin_centers, n[1], '-', c='red', label=\"Viz\")\n",
    "plt.plot(bin_centers, n[0], '-', c='blue', label=\"No Viz\")\n",
    "plt.title(\"Percent of Tweets (Viz & No Viz) Classified by Number of Retweets\")\n",
    "plt.xlabel(\"Number of Retweets\")\n",
    "plt.ylabel(\"Percent of Tweets\")\n",
    "plt.legend(loc=\"upper right\")\n",
    "# Show the plots\n",
    "plt.show()"
   ]
  },
  {
   "cell_type": "code",
   "execution_count": 10,
   "metadata": {},
   "outputs": [
    {
     "name": "stdout",
     "output_type": "stream",
     "text": [
      "[[2.46543779e-03 1.91244240e-03 1.08294931e-03 7.60368664e-04\n",
      "  8.52534562e-04 4.37788018e-04 3.68663594e-04 3.68663594e-04\n",
      "  3.22580645e-04 2.76497696e-04 2.99539171e-04 2.76497696e-04\n",
      "  2.30414747e-04 3.45622120e-04]\n",
      " [2.39229025e-03 3.17460317e-03 1.56462585e-03 8.95691610e-04\n",
      "  7.70975057e-04 3.74149660e-04 1.81405896e-04 2.04081633e-04\n",
      "  1.47392290e-04 9.07029478e-05 5.66893424e-05 5.66893424e-05\n",
      "  5.66893424e-05 3.40136054e-05]]\n"
     ]
    }
   ],
   "source": [
    "print(n)"
   ]
  },
  {
   "cell_type": "code",
   "execution_count": null,
   "metadata": {},
   "outputs": [],
   "source": []
  }
 ],
 "metadata": {
  "kernelspec": {
   "display_name": "Python 3",
   "language": "python",
   "name": "python3"
  },
  "language_info": {
   "codemirror_mode": {
    "name": "ipython",
    "version": 3
   },
   "file_extension": ".py",
   "mimetype": "text/x-python",
   "name": "python",
   "nbconvert_exporter": "python",
   "pygments_lexer": "ipython3",
   "version": "3.8.5"
  }
 },
 "nbformat": 4,
 "nbformat_minor": 4
}

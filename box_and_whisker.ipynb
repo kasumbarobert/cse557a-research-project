{
 "cells": [
  {
   "cell_type": "code",
   "execution_count": 10,
   "metadata": {},
   "outputs": [],
   "source": [
    "import matplotlib.pyplot as plt\n",
    "import numpy as np\n",
    "import pandas as pd"
   ]
  },
  {
   "cell_type": "code",
   "execution_count": 3,
   "metadata": {},
   "outputs": [
    {
     "name": "stdout",
     "output_type": "stream",
     "text": [
      "Column names are tweet_id, user, text, date, retweets, replies, likes, quotes, has_viz\n"
     ]
    }
   ],
   "source": [
    "# Handle the data from the CSV\n",
    "import csv\n",
    "\n",
    "csv_data = []\n",
    "with open('data/combined_tweets.csv') as csv_file:\n",
    "    csv_reader = csv.reader(csv_file, delimiter=',')\n",
    "    line_count = 0\n",
    "    for row in csv_reader:\n",
    "        if line_count == 0:\n",
    "            print(f'Column names are {\", \".join(row)}')\n",
    "            line_count += 1\n",
    "        else:\n",
    "            csv_data.append(row)\n",
    "            line_count += 1\n"
   ]
  },
  {
   "cell_type": "code",
   "execution_count": 4,
   "metadata": {},
   "outputs": [],
   "source": [
    "# Get all of the tweets for all users and split between noviz and viz\n",
    "viz = []\n",
    "no_viz = []\n",
    "\n",
    "for tweet in csv_data :\n",
    "    if tweet[-1] == \"True\":\n",
    "        viz.append(int(tweet[6]))\n",
    "    else:\n",
    "        no_viz.append(int(tweet[6]))"
   ]
  },
  {
   "cell_type": "code",
   "execution_count": 5,
   "metadata": {},
   "outputs": [],
   "source": [
    "data = [no_viz, viz]"
   ]
  },
  {
   "cell_type": "code",
   "execution_count": 6,
   "metadata": {},
   "outputs": [
    {
     "data": {
      "text/plain": [
       "<Figure size 720x504 with 0 Axes>"
      ]
     },
     "metadata": {},
     "output_type": "display_data"
    }
   ],
   "source": [
    "fig = plt.figure(figsize =(10, 7))"
   ]
  },
  {
   "cell_type": "code",
   "execution_count": 7,
   "metadata": {},
   "outputs": [
    {
     "data": {
      "image/png": "[encoded data removed]",
      "text/plain": [
       "<Figure size 432x288 with 1 Axes>"
      ]
     },
     "metadata": {
      "needs_background": "light"
     },
     "output_type": "display_data"
    }
   ],
   "source": [
    "# Creating plot\n",
    "plt.boxplot(data, notch=False, showfliers=False, labels=[\"no-viz\", \"viz\"])\n",
    "plt.ylabel(\"Likes\")\n",
    " \n",
    "# show plot\n",
    "plt.show()"
   ]
  },
  {
   "cell_type": "code",
   "execution_count": 26,
   "metadata": {},
   "outputs": [
    {
     "data": {
      "text/html": [
       "<div>\n",
       "<style scoped>\n",
       "    .dataframe tbody tr th:only-of-type {\n",
       "        vertical-align: middle;\n",
       "    }\n",
       "\n",
       "    .dataframe tbody tr th {\n",
       "        vertical-align: top;\n",
       "    }\n",
       "\n",
       "    .dataframe thead th {\n",
       "        text-align: right;\n",
       "    }\n",
       "</style>\n",
       "<table border=\"1\" class=\"dataframe\">\n",
       "  <thead>\n",
       "    <tr style=\"text-align: right;\">\n",
       "      <th></th>\n",
       "      <th>tweet_id</th>\n",
       "      <th>user</th>\n",
       "      <th>text</th>\n",
       "      <th>date</th>\n",
       "      <th>retweets</th>\n",
       "      <th>replies</th>\n",
       "      <th>likes</th>\n",
       "      <th>quotes</th>\n",
       "      <th>has_viz</th>\n",
       "    </tr>\n",
       "  </thead>\n",
       "  <tbody>\n",
       "    <tr>\n",
       "      <th>0</th>\n",
       "      <td>1312029170772381697</td>\n",
       "      <td>BNONews</td>\n",
       "      <td>RT @BNODesk: NEW: Trump is experiencing \"mild ...</td>\n",
       "      <td>10/02/2020 13:58:25</td>\n",
       "      <td>276</td>\n",
       "      <td>0</td>\n",
       "      <td>0</td>\n",
       "      <td>0</td>\n",
       "      <td>False</td>\n",
       "    </tr>\n",
       "    <tr>\n",
       "      <th>1</th>\n",
       "      <td>1323902358808649731</td>\n",
       "      <td>BNONews</td>\n",
       "      <td>Republican David Andahl, who died from COVID-1...</td>\n",
       "      <td>11/04/2020 08:18:13</td>\n",
       "      <td>11392</td>\n",
       "      <td>2022</td>\n",
       "      <td>41170</td>\n",
       "      <td>25609</td>\n",
       "      <td>False</td>\n",
       "    </tr>\n",
       "    <tr>\n",
       "      <th>2</th>\n",
       "      <td>1353045636472516610</td>\n",
       "      <td>BNONews</td>\n",
       "      <td>RT @BNODesk: Legendary talk show host Larry Ki...</td>\n",
       "      <td>01/23/2021 18:23:12</td>\n",
       "      <td>106</td>\n",
       "      <td>0</td>\n",
       "      <td>0</td>\n",
       "      <td>0</td>\n",
       "      <td>True</td>\n",
       "    </tr>\n",
       "    <tr>\n",
       "      <th>3</th>\n",
       "      <td>1506774290993233925</td>\n",
       "      <td>BNONews</td>\n",
       "      <td>RT @BNODesk: Stephen Wilhite, creator of the G...</td>\n",
       "      <td>03/23/2022 23:26:00</td>\n",
       "      <td>1118</td>\n",
       "      <td>0</td>\n",
       "      <td>0</td>\n",
       "      <td>0</td>\n",
       "      <td>False</td>\n",
       "    </tr>\n",
       "    <tr>\n",
       "      <th>4</th>\n",
       "      <td>1365736465876025349</td>\n",
       "      <td>CDCGov</td>\n",
       "      <td>Remember: When using household cleaners and di...</td>\n",
       "      <td>02/27/2021 18:52:02</td>\n",
       "      <td>62</td>\n",
       "      <td>20</td>\n",
       "      <td>156</td>\n",
       "      <td>5</td>\n",
       "      <td>True</td>\n",
       "    </tr>\n",
       "    <tr>\n",
       "      <th>...</th>\n",
       "      <td>...</td>\n",
       "      <td>...</td>\n",
       "      <td>...</td>\n",
       "      <td>...</td>\n",
       "      <td>...</td>\n",
       "      <td>...</td>\n",
       "      <td>...</td>\n",
       "      <td>...</td>\n",
       "      <td>...</td>\n",
       "    </tr>\n",
       "    <tr>\n",
       "      <th>1799</th>\n",
       "      <td>1513199483424854026</td>\n",
       "      <td>ScottGottliebMD</td>\n",
       "      <td>RT @StephenMcDonell: All provinces in #China h...</td>\n",
       "      <td>04/10/2022 16:57:25</td>\n",
       "      <td>332</td>\n",
       "      <td>0</td>\n",
       "      <td>0</td>\n",
       "      <td>0</td>\n",
       "      <td>False</td>\n",
       "    </tr>\n",
       "    <tr>\n",
       "      <th>1800</th>\n",
       "      <td>1513157130550972419</td>\n",
       "      <td>ScottGottliebMD</td>\n",
       "      <td>We should do more to make certain COVID booste...</td>\n",
       "      <td>04/10/2022 14:09:07</td>\n",
       "      <td>63</td>\n",
       "      <td>58</td>\n",
       "      <td>257</td>\n",
       "      <td>6</td>\n",
       "      <td>True</td>\n",
       "    </tr>\n",
       "    <tr>\n",
       "      <th>1801</th>\n",
       "      <td>1512604569351725058</td>\n",
       "      <td>ScottGottliebMD</td>\n",
       "      <td>@ChristinaPushaw @BNONews Fair, sorry for taki...</td>\n",
       "      <td>04/09/2022 01:33:26</td>\n",
       "      <td>7</td>\n",
       "      <td>13</td>\n",
       "      <td>82</td>\n",
       "      <td>2</td>\n",
       "      <td>False</td>\n",
       "    </tr>\n",
       "    <tr>\n",
       "      <th>1802</th>\n",
       "      <td>1512583292847108099</td>\n",
       "      <td>ScottGottliebMD</td>\n",
       "      <td>RT @caroljoynt: There are fresh questions abou...</td>\n",
       "      <td>04/09/2022 00:08:54</td>\n",
       "      <td>4</td>\n",
       "      <td>0</td>\n",
       "      <td>0</td>\n",
       "      <td>0</td>\n",
       "      <td>False</td>\n",
       "    </tr>\n",
       "    <tr>\n",
       "      <th>1803</th>\n",
       "      <td>1512573080098463745</td>\n",
       "      <td>ScottGottliebMD</td>\n",
       "      <td>RT @margbrennan: COVID IN SHANGHAI: @StateDept...</td>\n",
       "      <td>04/08/2022 23:28:19</td>\n",
       "      <td>34</td>\n",
       "      <td>0</td>\n",
       "      <td>0</td>\n",
       "      <td>0</td>\n",
       "      <td>False</td>\n",
       "    </tr>\n",
       "  </tbody>\n",
       "</table>\n",
       "<p>1804 rows × 9 columns</p>\n",
       "</div>"
      ],
      "text/plain": [
       "                 tweet_id             user  \\\n",
       "0     1312029170772381697          BNONews   \n",
       "1     1323902358808649731          BNONews   \n",
       "2     1353045636472516610          BNONews   \n",
       "3     1506774290993233925          BNONews   \n",
       "4     1365736465876025349           CDCGov   \n",
       "...                   ...              ...   \n",
       "1799  1513199483424854026  ScottGottliebMD   \n",
       "1800  1513157130550972419  ScottGottliebMD   \n",
       "1801  1512604569351725058  ScottGottliebMD   \n",
       "1802  1512583292847108099  ScottGottliebMD   \n",
       "1803  1512573080098463745  ScottGottliebMD   \n",
       "\n",
       "                                                   text                 date  \\\n",
       "0     RT @BNODesk: NEW: Trump is experiencing \"mild ...  10/02/2020 13:58:25   \n",
       "1     Republican David Andahl, who died from COVID-1...  11/04/2020 08:18:13   \n",
       "2     RT @BNODesk: Legendary talk show host Larry Ki...  01/23/2021 18:23:12   \n",
       "3     RT @BNODesk: Stephen Wilhite, creator of the G...  03/23/2022 23:26:00   \n",
       "4     Remember: When using household cleaners and di...  02/27/2021 18:52:02   \n",
       "...                                                 ...                  ...   \n",
       "1799  RT @StephenMcDonell: All provinces in #China h...  04/10/2022 16:57:25   \n",
       "1800  We should do more to make certain COVID booste...  04/10/2022 14:09:07   \n",
       "1801  @ChristinaPushaw @BNONews Fair, sorry for taki...  04/09/2022 01:33:26   \n",
       "1802  RT @caroljoynt: There are fresh questions abou...  04/09/2022 00:08:54   \n",
       "1803  RT @margbrennan: COVID IN SHANGHAI: @StateDept...  04/08/2022 23:28:19   \n",
       "\n",
       "      retweets  replies  likes  quotes  has_viz  \n",
       "0          276        0      0       0    False  \n",
       "1        11392     2022  41170   25609    False  \n",
       "2          106        0      0       0     True  \n",
       "3         1118        0      0       0    False  \n",
       "4           62       20    156       5     True  \n",
       "...        ...      ...    ...     ...      ...  \n",
       "1799       332        0      0       0    False  \n",
       "1800        63       58    257       6     True  \n",
       "1801         7       13     82       2    False  \n",
       "1802         4        0      0       0    False  \n",
       "1803        34        0      0       0    False  \n",
       "\n",
       "[1804 rows x 9 columns]"
      ]
     },
     "execution_count": 26,
     "metadata": {},
     "output_type": "execute_result"
    }
   ],
   "source": [
    "tweets = pd.read_csv(\"data/combined_tweets.csv\")\n",
    "tweets"
   ]
  },
  {
   "cell_type": "code",
   "execution_count": 45,
   "metadata": {},
   "outputs": [
    {
     "data": {
      "text/plain": [
       "<AxesSubplot:xlabel='has_viz'>"
      ]
     },
     "execution_count": 45,
     "metadata": {},
     "output_type": "execute_result"
    },
    {
     "data": {
      "image/png": "[encoded data removed]",
      "text/plain": [
       "<Figure size 432x288 with 1 Axes>"
      ]
     },
     "metadata": {
      "needs_background": "light"
     },
     "output_type": "display_data"
    }
   ],
   "source": [
    "tweets[[\"has_viz\",\"tweet_id\"]].groupby(\"has_viz\").agg([\"count\"]).plot(kind=\"bar\",label='index',legend=None, colormap='Paired')\n",
    "# plt.legend()"
   ]
  },
  {
   "cell_type": "code",
   "execution_count": 51,
   "metadata": {},
   "outputs": [
    {
     "data": {
      "text/html": [
       "<div>\n",
       "<style scoped>\n",
       "    .dataframe tbody tr th:only-of-type {\n",
       "        vertical-align: middle;\n",
       "    }\n",
       "\n",
       "    .dataframe tbody tr th {\n",
       "        vertical-align: top;\n",
       "    }\n",
       "\n",
       "    .dataframe thead tr th {\n",
       "        text-align: left;\n",
       "    }\n",
       "</style>\n",
       "<table border=\"1\" class=\"dataframe\">\n",
       "  <thead>\n",
       "    <tr>\n",
       "      <th></th>\n",
       "      <th>has_viz</th>\n",
       "      <th>tweet_id</th>\n",
       "    </tr>\n",
       "    <tr>\n",
       "      <th></th>\n",
       "      <th></th>\n",
       "      <th>count</th>\n",
       "    </tr>\n",
       "  </thead>\n",
       "  <tbody>\n",
       "    <tr>\n",
       "      <th>0</th>\n",
       "      <td>False</td>\n",
       "      <td>896</td>\n",
       "    </tr>\n",
       "    <tr>\n",
       "      <th>1</th>\n",
       "      <td>True</td>\n",
       "      <td>908</td>\n",
       "    </tr>\n",
       "  </tbody>\n",
       "</table>\n",
       "</div>"
      ],
      "text/plain": [
       "  has_viz tweet_id\n",
       "             count\n",
       "0   False      896\n",
       "1    True      908"
      ]
     },
     "execution_count": 51,
     "metadata": {},
     "output_type": "execute_result"
    }
   ],
   "source": [
    "tweets[[\"has_viz\",\"tweet_id\"]].groupby(\"has_viz\").agg([\"count\"]).reset_index()"
   ]
  },
  {
   "cell_type": "code",
   "execution_count": null,
   "metadata": {},
   "outputs": [],
   "source": []
  },
  {
   "cell_type": "code",
   "execution_count": null,
   "metadata": {},
   "outputs": [],
   "source": []
  }
 ],
 "metadata": {
  "kernelspec": {
   "display_name": "Python 3 (ipykernel)",
   "language": "python",
   "name": "python3"
  },
  "language_info": {
   "codemirror_mode": {
    "name": "ipython",
    "version": 3
   },
   "file_extension": ".py",
   "mimetype": "text/x-python",
   "name": "python",
   "nbconvert_exporter": "python",
   "pygments_lexer": "ipython3",
   "version": "3.9.7"
  }
 },
 "nbformat": 4,
 "nbformat_minor": 4
}

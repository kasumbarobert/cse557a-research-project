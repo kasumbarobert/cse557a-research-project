{
 "cells": [
  {
   "cell_type": "code",
   "execution_count": 1,
   "metadata": {},
   "outputs": [],
   "source": [
    "import matplotlib as mpl\n",
    "import matplotlib.pyplot as plt\n",
    "import numpy as np\n",
    "from scipy.stats import norm\n",
    "import matplotlib.mlab as mlab\n",
    "import matplotlib.pyplot as plt\n",
    "from matplotlib.ticker import PercentFormatter\n",
    "import seaborn\n",
    "from matplotlib.patches import Rectangle\n"
   ]
  },
  {
   "cell_type": "code",
   "execution_count": 2,
   "metadata": {},
   "outputs": [
    {
     "name": "stdout",
     "output_type": "stream",
     "text": [
      "Column names are tweet_id, user, text, date, retweets, replies, likes, quotes, has_viz\n"
     ]
    }
   ],
   "source": [
    "# Handle the data from the CSV\n",
    "import csv\n",
    "\n",
    "csv_data = []\n",
    "with open('data/combined_tweets.csv') as csv_file:\n",
    "    csv_reader = csv.reader(csv_file, delimiter=',')\n",
    "    line_count = 0\n",
    "    for row in csv_reader:\n",
    "        if line_count == 0:\n",
    "            print(f'Column names are {\", \".join(row)}')\n",
    "            line_count += 1\n",
    "        else:\n",
    "            csv_data.append(row)\n",
    "            line_count += 1\n"
   ]
  },
  {
   "cell_type": "code",
   "execution_count": 58,
   "metadata": {},
   "outputs": [],
   "source": [
    "# Remove zero-retweet tweets\n",
    "def screendata(data, threshold = 1) :\n",
    "    ret = []\n",
    "    for vizornoviz in data :\n",
    "        ret.append([])\n",
    "        for dat in vizornoviz :\n",
    "            if dat >= threshold :\n",
    "                ret[-1].append(dat)\n",
    "    return ret"
   ]
  },
  {
   "cell_type": "code",
   "execution_count": 3,
   "metadata": {},
   "outputs": [],
   "source": [
    "# Get all of the tweets for all users and split between noviz and viz\n",
    "viz = []\n",
    "noviz = []\n",
    "\n",
    "for tweet in csv_data :\n",
    "    if tweet[-1] == \"True\":\n",
    "        viz.append(int(tweet[6]))\n",
    "    else:\n",
    "        noviz.append(int(tweet[6]))"
   ]
  },
  {
   "cell_type": "code",
   "execution_count": 4,
   "metadata": {},
   "outputs": [],
   "source": [
    "data = [noviz, viz]"
   ]
  },
  {
   "cell_type": "code",
   "execution_count": 5,
   "metadata": {},
   "outputs": [
    {
     "data": {
      "text/plain": [
       "<Figure size 720x504 with 0 Axes>"
      ]
     },
     "metadata": {},
     "output_type": "display_data"
    }
   ],
   "source": [
    "fig = plt.figure(figsize =(10, 7))"
   ]
  },
  {
   "cell_type": "code",
   "execution_count": 56,
   "metadata": {},
   "outputs": [
    {
     "data": {
      "image/png": "[encoded data removed]",
      "text/plain": [
       "<Figure size 432x288 with 1 Axes>"
      ]
     },
     "metadata": {
      "needs_background": "light"
     },
     "output_type": "display_data"
    }
   ],
   "source": [
    "# Creating plot\n",
    "plt.boxplot(data, notch=False, showfliers=False, labels=[\"no-viz\", \"viz\"])\n",
    "plt.ylabel(\"Retweets\")\n",
    "plt.title(\"Response to All Tweets\")\n",
    " \n",
    "# show plot\n",
    "plt.show()"
   ]
  },
  {
   "cell_type": "code",
   "execution_count": 60,
   "metadata": {},
   "outputs": [
    {
     "data": {
      "image/png": "[encoded data removed]",
      "text/plain": [
       "<Figure size 432x288 with 1 Axes>"
      ]
     },
     "metadata": {
      "needs_background": "light"
     },
     "output_type": "display_data"
    }
   ],
   "source": [
    "# Creating SCREENED plot\n",
    "plt.boxplot(screendata(data), notch=False, showfliers=False, labels=[\"no-viz\", \"viz\"])\n",
    "plt.ylabel(\"Retweets\")\n",
    "plt.title(\"Response to All Tweets : Retweets > 0\")\n",
    " \n",
    "# show plot\n",
    "plt.show()"
   ]
  },
  {
   "cell_type": "code",
   "execution_count": 7,
   "metadata": {},
   "outputs": [],
   "source": [
    "a = np.histogram(viz)"
   ]
  },
  {
   "cell_type": "code",
   "execution_count": 8,
   "metadata": {},
   "outputs": [],
   "source": [
    "def buildBins(min = 0, spacing = 1, numbins = 10) :\n",
    "    ret = [min + float(x)*spacing for x in range(numbins)]\n",
    "    return ret\n",
    "\n",
    "def binCenters(bins):\n",
    "    mids = []\n",
    "    for i in range(len(bins)-1) :\n",
    "        lower = bins[i]\n",
    "        upper = bins[i+1]\n",
    "        mid = (lower + upper) / 2\n",
    "        mids.append(mid)\n",
    "    return mids\n",
    "\n"
   ]
  },
  {
   "cell_type": "code",
   "execution_count": 9,
   "metadata": {},
   "outputs": [
    {
     "name": "stdout",
     "output_type": "stream",
     "text": [
      "0.01999999999999999\n"
     ]
    },
    {
     "data": {
      "image/png": "[encoded data removed]",
      "text/plain": [
       "<Figure size 432x288 with 1 Axes>"
      ]
     },
     "metadata": {
      "needs_background": "light"
     },
     "output_type": "display_data"
    }
   ],
   "source": [
    "# Build the bins by user pref\n",
    "bins = buildBins(min = 1, spacing = 50, numbins = 30)\n",
    "\n",
    "# The top subplot is classic histo\n",
    "n, x, _ = plt.hist(data, bins = bins, density = True)\n",
    "\n",
    "colors = [\"orange\", \"blue\"]\n",
    "handles = [Rectangle((0, 0), 1, 1, color=c, ec=\"k\") for c in colors]\n",
    "labels = [\"Viz\", \"No Viz\"]\n",
    "plt.legend(handles, labels)\n",
    "\n",
    "print(sum(n[1]))\n",
    "#plt.close()\n",
    "\n",
    "# # The bottom sublplot is a line \n",
    "# plt.subplot(212)\n",
    "# bin_centers = binCenters(bins)\n",
    "# plt.gca().yaxis.set_major_formatter(PercentFormatter(1))\n",
    "# plt.plot(bin_centers, n[1], '-', c='red', label=\"Viz\")\n",
    "# plt.plot(bin_centers, n[0], '-', c='blue', label=\"No Viz\")\n",
    "# plt.title(\"Percent of Tweets (Viz & No Viz) Classified by Number of Retweets\")\n",
    "# plt.xlabel(\"Number of Retweets\")\n",
    "# plt.ylabel(\"Percent of Tweets\")\n",
    "# plt.legend(loc=\"upper right\")\n",
    "# # Show the plots\n",
    "plt.show()"
   ]
  },
  {
   "cell_type": "code",
   "execution_count": 10,
   "metadata": {},
   "outputs": [
    {
     "name": "stdout",
     "output_type": "stream",
     "text": [
      "[[1.18957226e-02 2.36902050e-03 1.41230068e-03 8.90913693e-04\n",
      "  5.16324981e-04 4.20146798e-04 3.56871678e-04 2.58162491e-04\n",
      "  2.45507466e-04 1.89825361e-04 1.59453303e-04 1.31612250e-04\n",
      "  1.11364212e-04 1.11364212e-04 9.61781827e-05 9.61781827e-05\n",
      "  9.61781827e-05 8.60541635e-05 6.07441154e-05 6.32751202e-05\n",
      "  7.08681346e-05 5.82131106e-05 4.55580866e-05 3.79650721e-05\n",
      "  3.54340673e-05 3.54340673e-05 4.04960769e-05 5.56821058e-05\n",
      "  5.31511010e-05]\n",
      " [5.34120251e-03 3.62965695e-03 2.56731833e-03 1.79269642e-03\n",
      "  1.29841387e-03 8.18886020e-04 7.22980450e-04 6.19697529e-04\n",
      "  4.64773146e-04 3.98376983e-04 3.61490225e-04 2.21320546e-04\n",
      "  2.06565843e-04 2.36075249e-04 1.62301734e-04 1.40169679e-04\n",
      "  1.47547031e-04 9.59055699e-05 9.59055699e-05 1.03282921e-04\n",
      "  7.37735153e-05 1.03282921e-04 8.11508668e-05 6.63961638e-05\n",
      "  7.37735153e-05 6.63961638e-05 4.42641092e-05 3.68867577e-05\n",
      "  2.95094061e-05]]\n"
     ]
    }
   ],
   "source": [
    "print(n)"
   ]
  },
  {
   "cell_type": "code",
   "execution_count": 11,
   "metadata": {},
   "outputs": [
    {
     "data": {
      "image/png": "[encoded data removed]",
      "text/plain": [
       "<Figure size 432x288 with 1 Axes>"
      ]
     },
     "metadata": {
      "needs_background": "light"
     },
     "output_type": "display_data"
    }
   ],
   "source": [
    "hp = seaborn.histplot(data,element=\"step\",binrange=(0,300),stat='density', common_norm=False, fill=False)\n",
    "#hp = plt.hist(data, density = True, binrange=(100,1500))\n",
    "plt.legend(handles, labels)\n",
    "plt.xlabel(\"Number of Retweets\")\n",
    "#plt.xticks(np.arange(0, 110, 20))\n",
    "plt.title(r\"Retweet Occurrence for Tweets : Retweets$\\leq$100\")\n",
    "#plt.title(r'$\\alpha\\leq\\beta$')\n",
    "plt.show(hp)\n"
   ]
  },
  {
   "cell_type": "code",
   "execution_count": 12,
   "metadata": {},
   "outputs": [],
   "source": [
    "# Get all of the tweets for all users and split between noviz and viz\n",
    "def splitdata(csv_data) :\n",
    "    viz = []\n",
    "    noviz = []\n",
    "    for tweet in csv_data :\n",
    "        if tweet[-1] == \"True\":\n",
    "            viz.append(int(tweet[6]))\n",
    "        else:\n",
    "            noviz.append(int(tweet[6]))\n",
    "    return [noviz, viz]\n",
    "#### Returns noviz first"
   ]
  },
  {
   "cell_type": "code",
   "execution_count": 49,
   "metadata": {},
   "outputs": [],
   "source": [
    "def baw(checkname, screen = False, screenvalue = 1) :\n",
    "    print(\"---\")\n",
    "    print(checkname)\n",
    "    sgmd = []\n",
    "    for line in csv_data:\n",
    "        name = line[1]\n",
    "        if name == checkname :\n",
    "            sgmd.append(line)\n",
    "\n",
    "    splitSGMD = splitdata(sgmd)\n",
    "    \n",
    "    if screen == True :\n",
    "        splitSGMD = screendata(splitSGMD, screenvalue)\n",
    "\n",
    "    # Creating plot\n",
    "    print(\"noviz n = \" + str(len(splitSGMD[0])))\n",
    "    print(\"viz n = \" + str(len(splitSGMD[1])))\n",
    "    plt.boxplot(splitSGMD, notch=False, showfliers=False, labels=[\"no-viz (n=\" + str(len(splitSGMD[0])) + \")\", \"viz(n=\" + str(len(splitSGMD[1])) + \")\"])\n",
    "    plt.ylabel(\"Retweets\")\n",
    "    plt.title(\"Response to Tweets by @\"+checkname)\n",
    "\n",
    "    # show plot\n",
    "    plt.show()"
   ]
  },
  {
   "cell_type": "code",
   "execution_count": 14,
   "metadata": {},
   "outputs": [
    {
     "name": "stdout",
     "output_type": "stream",
     "text": [
      "5.013550135501355\n"
     ]
    }
   ],
   "source": [
    "novizt = data[0]\n",
    "vizt = data[1]\n",
    "summer = 0\n",
    "for dat in vizt:\n",
    "    if dat > 1400:\n",
    "        summer+=1\n",
    "print(summer/len(vizt) * 100)"
   ]
  },
  {
   "cell_type": "code",
   "execution_count": 15,
   "metadata": {},
   "outputs": [
    {
     "data": {
      "text/plain": [
       "Text(0.5, 1.0, 'Breakdown of Analyzed Tweets')"
      ]
     },
     "execution_count": 15,
     "metadata": {},
     "output_type": "execute_result"
    },
    {
     "data": {
      "image/png": "[encoded data removed]",
      "text/plain": [
       "<Figure size 432x288 with 1 Axes>"
      ]
     },
     "metadata": {},
     "output_type": "display_data"
    }
   ],
   "source": [
    "plt.pie([len(novizt), len(vizt)] , labels = [\"NoViz (n =\"+str(len(novizt))+\")\", \"Viz (n =\"+str(len(vizt))+\")\"], autopct='%.1f%%')\n",
    "\n",
    "plt.title(\"Breakdown of Analyzed Tweets\")"
   ]
  },
  {
   "cell_type": "code",
   "execution_count": 68,
   "metadata": {},
   "outputs": [
    {
     "name": "stdout",
     "output_type": "stream",
     "text": [
      "---\n",
      "Surgeon_General\n",
      "noviz n = 593\n",
      "viz n = 259\n"
     ]
    },
    {
     "data": {
      "image/png": "[encoded data removed]",
      "text/plain": [
       "<Figure size 432x288 with 1 Axes>"
      ]
     },
     "metadata": {
      "needs_background": "light"
     },
     "output_type": "display_data"
    },
    {
     "name": "stdout",
     "output_type": "stream",
     "text": [
      "---\n",
      "ScottGottliebMD\n",
      "noviz n = 212\n",
      "viz n = 25\n"
     ]
    },
    {
     "data": {
      "image/png": "[encoded data removed]",
      "text/plain": [
       "<Figure size 432x288 with 1 Axes>"
      ]
     },
     "metadata": {
      "needs_background": "light"
     },
     "output_type": "display_data"
    },
    {
     "name": "stdout",
     "output_type": "stream",
     "text": [
      "---\n",
      "DrTomFrieden\n",
      "noviz n = 626\n",
      "viz n = 68\n"
     ]
    },
    {
     "data": {
      "image/png": "[encoded data removed]",
      "text/plain": [
       "<Figure size 432x288 with 1 Axes>"
      ]
     },
     "metadata": {
      "needs_background": "light"
     },
     "output_type": "display_data"
    },
    {
     "name": "stdout",
     "output_type": "stream",
     "text": [
      "---\n",
      "JohnsHopkinsSPH\n",
      "noviz n = 446\n",
      "viz n = 47\n"
     ]
    },
    {
     "data": {
      "image/png": "[encoded data removed]",
      "text/plain": [
       "<Figure size 432x288 with 1 Axes>"
      ]
     },
     "metadata": {
      "needs_background": "light"
     },
     "output_type": "display_data"
    },
    {
     "name": "stdout",
     "output_type": "stream",
     "text": [
      "---\n",
      "WHO\n",
      "noviz n = 159\n",
      "viz n = 50\n"
     ]
    },
    {
     "data": {
      "image/png": "[encoded data removed]",
      "text/plain": [
       "<Figure size 432x288 with 1 Axes>"
      ]
     },
     "metadata": {
      "needs_background": "light"
     },
     "output_type": "display_data"
    },
    {
     "name": "stdout",
     "output_type": "stream",
     "text": [
      "---\n",
      "CDCgov\n",
      "noviz n = 0\n",
      "viz n = 0\n"
     ]
    },
    {
     "data": {
      "image/png": "[encoded data removed]",
      "text/plain": [
       "<Figure size 432x288 with 1 Axes>"
      ]
     },
     "metadata": {
      "needs_background": "light"
     },
     "output_type": "display_data"
    }
   ],
   "source": [
    "baw(\"Surgeon_General\")\n",
    "baw(\"ScottGottliebMD\")\n",
    "baw(\"DrTomFrieden\")\n",
    "baw(\"JohnsHopkinsSPH\")\n",
    "baw(\"WHO\")\n",
    "baw(\"CDCgov\")\n",
    "\n"
   ]
  },
  {
   "cell_type": "code",
   "execution_count": 22,
   "metadata": {},
   "outputs": [],
   "source": [
    "def pmorethan(dataset, cutoff) :\n",
    "    counter = 0\n",
    "    for dat in dataset :\n",
    "        if dat > cutoff :\n",
    "            counter += 1\n",
    "    return counter / len(dataset)"
   ]
  },
  {
   "cell_type": "code",
   "execution_count": 34,
   "metadata": {},
   "outputs": [
    {
     "name": "stdout",
     "output_type": "stream",
     "text": [
      "0.2135118868492326\n",
      "0.5552168021680217\n",
      "0.08599157387902498\n",
      "0.1565040650406504\n",
      "0.03408065001504664\n",
      "0.03556910569105691\n",
      "0.0422810713210954\n",
      "0.04573170731707317\n"
     ]
    }
   ],
   "source": [
    "print(pmorethan(noviz, 100))\n",
    "print(pmorethan(viz, 100))\n",
    "print(pmorethan(noviz, 500))\n",
    "print(pmorethan(viz, 500))\n",
    "print(pmorethan(noviz, 2000))\n",
    "print(pmorethan(viz, 2000))\n",
    "\n",
    "print(pmorethan(noviz, 1500))\n",
    "print(pmorethan(viz, 1500))"
   ]
  },
  {
   "cell_type": "code",
   "execution_count": 45,
   "metadata": {},
   "outputs": [
    {
     "name": "stdout",
     "output_type": "stream",
     "text": [
      "0.004965392717424014\n",
      "0.0037262872628726286\n"
     ]
    }
   ],
   "source": [
    "print(pmorethan(noviz, 10000))\n",
    "print(pmorethan(viz, 10000))"
   ]
  },
  {
   "cell_type": "code",
   "execution_count": 31,
   "metadata": {},
   "outputs": [
    {
     "data": {
      "text/plain": [
       "16244"
      ]
     },
     "execution_count": 31,
     "metadata": {},
     "output_type": "execute_result"
    }
   ],
   "source": [
    "len(viz) + len(noviz)"
   ]
  },
  {
   "cell_type": "code",
   "execution_count": 33,
   "metadata": {},
   "outputs": [
    {
     "name": "stdout",
     "output_type": "stream",
     "text": [
      "0.36247366837195305\n",
      "0.03285907859078596\n"
     ]
    }
   ],
   "source": [
    "print(1-pmorethan(noviz, 0))\n",
    "print(1-pmorethan(viz, 0))"
   ]
  },
  {
   "cell_type": "code",
   "execution_count": 40,
   "metadata": {},
   "outputs": [
    {
     "data": {
      "image/png": "[encoded data removed]",
      "text/plain": [
       "<Figure size 432x288 with 1 Axes>"
      ]
     },
     "metadata": {
      "needs_background": "light"
     },
     "output_type": "display_data"
    }
   ],
   "source": [
    "ax = seaborn.violinplot(data=data)"
   ]
  },
  {
   "cell_type": "code",
   "execution_count": 72,
   "metadata": {},
   "outputs": [
    {
     "ename": "SyntaxError",
     "evalue": "invalid syntax (<ipython-input-72-5d3f493852da>, line 7)",
     "output_type": "error",
     "traceback": [
      "\u001b[0;36m  File \u001b[0;32m\"<ipython-input-72-5d3f493852da>\"\u001b[0;36m, line \u001b[0;32m7\u001b[0m\n\u001b[0;31m    lib[user] = [[][]]\u001b[0m\n\u001b[0m                    ^\u001b[0m\n\u001b[0;31mSyntaxError\u001b[0m\u001b[0;31m:\u001b[0m invalid syntax\n"
     ]
    }
   ],
   "source": [
    "lib = {}\n",
    "for line in csv_data:\n",
    "    user = line[1]\n",
    "    retweets = line[4]\n",
    "    viz = line[-1]\n",
    "    if user not in lib:\n",
    "        lib[user] = [[],[]]\n",
    "    if viz == \"True\" :\n",
    "        lib[user][1].append(retweets)\n",
    "    else:\n",
    "        lib[user][0].append(retweets)\n",
    "        \n",
    "print(lib)\n",
    "\n",
    "        "
   ]
  },
  {
   "cell_type": "code",
   "execution_count": null,
   "metadata": {},
   "outputs": [],
   "source": []
  }
 ],
 "metadata": {
  "kernelspec": {
   "display_name": "Python 3",
   "language": "python",
   "name": "python3"
  },
  "language_info": {
   "codemirror_mode": {
    "name": "ipython",
    "version": 3
   },
   "file_extension": ".py",
   "mimetype": "text/x-python",
   "name": "python",
   "nbconvert_exporter": "python",
   "pygments_lexer": "ipython3",
   "version": "3.8.5"
  }
 },
 "nbformat": 4,
 "nbformat_minor": 4
}

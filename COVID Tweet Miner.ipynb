{
 "cells": [
  {
   "cell_type": "code",
   "execution_count": 28,
   "id": "49f2749c",
   "metadata": {},
   "outputs": [],
   "source": [
    "# For sending GET requests from the API\n",
    "import requests\n",
    "# For saving access tokens and for file management when creating and adding to the dataset\n",
    "import os\n",
    "# For dealing with json responses we receive from the API\n",
    "import json\n",
    "# For displaying the data after\n",
    "import pandas as pd\n",
    "# For saving the response data in CSV format\n",
    "import csv\n",
    "# For parsing the dates received from twitter in readable formats\n",
    "import datetime\n",
    "from datetime import date\n",
    "import dateutil.parser\n",
    "from dateutil.relativedelta import relativedelta\n",
    "import unicodedata\n",
    "from os.path import exists as file_exists\n",
    "#To add wait time between requests\n",
    "import time\n",
    "import tweepy"
   ]
  },
  {
   "cell_type": "code",
   "execution_count": 29,
   "id": "da879ba8",
   "metadata": {},
   "outputs": [],
   "source": [
    "# # your bearer token\n",
    "MY_BEARER_TOKEN = \"AAAAAAAAAAAAAAAAAAAAALgAbgEAAAAAx4tZoUWczbnuJ9NqinRBNNWrwac%3DvbWz10MQjanuN5wHE8putCUzkLkeoh8FpvOPYO2zYtRQWS3b2E\"\n",
    "# create your client \n",
    "client = tweepy.Client(bearer_token=MY_BEARER_TOKEN)\n",
    "\n",
    "consumer_key= 'VXpzQlNVNzMtcURQeERzcEF2UFE6MTpjaQ'\n",
    "consumer_secret= 'ayfPsW_L3fApjqvwbEz--lcsCHWvKQXao6dU2loDMpFox6IyF1'\n",
    "access_token= '2971070979-x8hcqcy2A2AjTKTVwS5zA5ciSSYsBMW0NqoJFsc'\n",
    "access_token_secret= '3CZNw4gK63S4a0tyjEgKZiaXRQpyoipa63SfNgSGkwolJ'\n",
    "\n",
    "client = tweepy.Client(bearer_token=MY_BEARER_TOKEN,consumer_key= consumer_key,consumer_secret= consumer_secret,access_token= access_token,access_token_secret= access_token_secret,\n",
    "                      )"
   ]
  },
  {
   "cell_type": "code",
   "execution_count": 30,
   "id": "91a512a1",
   "metadata": {},
   "outputs": [],
   "source": [
    "search_query = \"#covid19 -in:retweets\""
   ]
  },
  {
   "cell_type": "code",
   "execution_count": 31,
   "id": "6861a788",
   "metadata": {},
   "outputs": [],
   "source": [
    "def extract_info(t):\n",
    "    metrics = t.public_metrics \n",
    "    \n",
    "    result =[t.id,t.text,t.created_at.strftime(\"%m/%d/%Y %H:%M:%S\"),\n",
    "             metrics[\"retweet_count\"],metrics[\"reply_count\"],metrics[\"like_count\"],\n",
    "            metrics[\"quote_count\"],t.attachments != None]\n",
    "    result ={\n",
    "        \n",
    "        \"tweet_id\":t.id,\n",
    "        \"user\":curr_username,\n",
    "        \"text\":t.text,\n",
    "        \"date\":t.created_at.strftime(\"%m/%d/%Y %H:%M:%S\"),\n",
    "        \"retweets\":metrics[\"retweet_count\"],\n",
    "        \"replies\":metrics[\"reply_count\"],\n",
    "        \"likes\":metrics[\"like_count\"],\n",
    "        \"quotes\":metrics[\"quote_count\"],\n",
    "        \"has_viz\":t.attachments != None}\n",
    "    return result"
   ]
  },
  {
   "cell_type": "code",
   "execution_count": 32,
   "id": "7e933807",
   "metadata": {},
   "outputs": [
    {
     "data": {
      "text/plain": [
       "['DrEricDing',\n",
       " 'CDCGov',\n",
       " 'CNN',\n",
       " 'BNONews',\n",
       " 'ScottGottliebMD',\n",
       " 'DrTomFrieden',\n",
       " 'DNC',\n",
       " 'JeromeAdamsMD',\n",
       " 'Surgeon_General',\n",
       " 'JohnsHopkinsSPH',\n",
       " 'EricTopol',\n",
       " 'BillGates',\n",
       " 'drsanjaygupta',\n",
       " 'WHO',\n",
       " 'MackayIM',\n",
       " 'abmakulec',\n",
       " 'Bob_Wachter',\n",
       " 'nytimes',\n",
       " 'washingtonpost',\n",
       " 'DrTedros',\n",
       " 'T_Inglesby',\n",
       " 'JeremyKonyndyk',\n",
       " 'mlipsitch',\n",
       " 'DrNancyM_CDC',\n",
       " 'profvrr',\n",
       " 'chngin_the_wrld',\n",
       " 'aetiology',\n",
       " 'florian_krammer',\n",
       " 'ashishkjha',\n",
       " 'SueDHellmann',\n",
       " 'bogochisaac',\n",
       " 'VirusWhisperer',\n",
       " 'trvrb',\n",
       " 'angie_rasmussen',\n",
       " 'alicesim',\n",
       " 'michaelmina_lab',\n",
       " 'BhadeliaMD',\n",
       " 'PaulSaxMD',\n",
       " 'syramadad',\n",
       " 'PsampathkumarMD',\n",
       " 'KrutikaKuppalli',\n",
       " 'SCBriand',\n",
       " 'AmeshAA',\n",
       " 'scottjbecker',\n",
       " 'APHAPHN',\n",
       " 'ArthurCaplan',\n",
       " 'laurahelmuth',\n",
       " 'HelenBranswell',\n",
       " 'sxbegle',\n",
       " 'carolynyjohnson',\n",
       " 'amymaxmen',\n",
       " 'Laurie_Garrett',\n",
       " 'skarlamangla',\n",
       " 'picardonhealth',\n",
       " 'CarolineYLChen',\n",
       " 'AndrewJacobsNYT',\n",
       " 'megtirrell']"
      ]
     },
     "execution_count": 32,
     "metadata": {},
     "output_type": "execute_result"
    }
   ],
   "source": [
    "usernames = [\"DrEricDing\",\"CDCGov\",\"CNN\",\"BNONews\",\"ScottGottliebMD\",\"DrTomFrieden\",\"DNC\",\n",
    "             \"JeromeAdamsMD\",\"Surgeon_General\",\"JohnsHopkinsSPH\",\"EricTopol\",\n",
    "             \"BillGates\",\"drsanjaygupta\",\"WHO\",\"MackayIM\",\"abmakulec\",\n",
    "             \"Bob_Wachter\",\"nytimes\",\"washingtonpost\",\"DrTedros\",\n",
    "             \"T_Inglesby\",\"JeremyKonyndyk\",\"mlipsitch\",\"DrNancyM_CDC\",\n",
    "             \"profvrr\",\"chngin_the_wrld\",\"aetiology\",\"florian_krammer\",\n",
    "             \"ashishkjha\",\"SueDHellmann\",\"bogochisaac\",\"VirusWhisperer\",\"trvrb\",\"angie_rasmussen\",\n",
    "             \"alicesim\",\"michaelmina_lab\",\"BhadeliaMD\",\"PaulSaxMD\",\"syramadad\",\n",
    "             \"PsampathkumarMD\",\"KrutikaKuppalli\",\"SCBriand\",\n",
    "             \"AmeshAA\",\"scottjbecker\",\"APHAPHN\",\"ArthurCaplan\",\"laurahelmuth\",\n",
    "            \"HelenBranswell\",\"sxbegle\",\"carolynyjohnson\",\"amymaxmen\",\n",
    "             \"Laurie_Garrett\",\"skarlamangla\",\"picardonhealth\",\"CarolineYLChen\",\"AndrewJacobsNYT\",\"megtirrell\"]\n",
    "usernames"
   ]
  },
  {
   "cell_type": "code",
   "execution_count": 33,
   "id": "257cd2f5",
   "metadata": {},
   "outputs": [],
   "source": [
    "for user in usernames: # check for duplicate usernames\n",
    "    if usernames.count(user)>1:\n",
    "        print (user)"
   ]
  },
  {
   "cell_type": "code",
   "execution_count": 34,
   "id": "2bddcc60",
   "metadata": {},
   "outputs": [
    {
     "name": "stdout",
     "output_type": "stream",
     "text": [
      "18831926\n",
      "DrEricDing month 1 : 2019-12-01T00:00:00Z to 2019-12-31T00:00:00Z \n"
     ]
    },
    {
     "ename": "TooManyRequests",
     "evalue": "429 Too Many Requests",
     "output_type": "error",
     "traceback": [
      "\u001b[0;31m---------------------------------------------------------------------------\u001b[0m",
      "\u001b[0;31mTooManyRequests\u001b[0m                           Traceback (most recent call last)",
      "\u001b[0;32m/var/folders/3c/_0y9cx353xn6v72xlqkb219h0000gn/T/ipykernel_46708/4067717015.py\u001b[0m in \u001b[0;36m<module>\u001b[0;34m\u001b[0m\n\u001b[1;32m     15\u001b[0m             \u001b[0;32mcontinue\u001b[0m\u001b[0;34m;\u001b[0m\u001b[0;34m\u001b[0m\u001b[0;34m\u001b[0m\u001b[0m\n\u001b[1;32m     16\u001b[0m         \u001b[0mprint\u001b[0m\u001b[0;34m(\u001b[0m\u001b[0;34mf\"{curr_username} month {i+1} : {start_date.strftime(tweet_date_format)} to {end_date.strftime(tweet_date_format)} \"\u001b[0m\u001b[0;34m)\u001b[0m\u001b[0;34m\u001b[0m\u001b[0;34m\u001b[0m\u001b[0m\n\u001b[0;32m---> 17\u001b[0;31m         tweets = client.get_users_tweets(id=curr_id,\n\u001b[0m\u001b[1;32m     18\u001b[0m                                          \u001b[0mstart_time\u001b[0m\u001b[0;34m=\u001b[0m\u001b[0mstart_date\u001b[0m\u001b[0;34m.\u001b[0m\u001b[0mstrftime\u001b[0m\u001b[0;34m(\u001b[0m\u001b[0mtweet_date_format\u001b[0m\u001b[0;34m)\u001b[0m\u001b[0;34m,\u001b[0m\u001b[0;34m\u001b[0m\u001b[0;34m\u001b[0m\u001b[0m\n\u001b[1;32m     19\u001b[0m                                          \u001b[0mend_time\u001b[0m\u001b[0;34m=\u001b[0m\u001b[0mend_date\u001b[0m\u001b[0;34m.\u001b[0m\u001b[0mstrftime\u001b[0m\u001b[0;34m(\u001b[0m\u001b[0mtweet_date_format\u001b[0m\u001b[0;34m)\u001b[0m\u001b[0;34m,\u001b[0m\u001b[0;34m\u001b[0m\u001b[0;34m\u001b[0m\u001b[0m\n",
      "\u001b[0;32m/Library/Frameworks/Python.framework/Versions/3.9/lib/python3.9/site-packages/tweepy/client.py\u001b[0m in \u001b[0;36mget_users_tweets\u001b[0;34m(self, id, user_auth, **params)\u001b[0m\n\u001b[1;32m   1458\u001b[0m         \u001b[0;34m.\u001b[0m\u001b[0;34m.\u001b[0m \u001b[0m_here\u001b[0m\u001b[0;34m:\u001b[0m \u001b[0mhttps\u001b[0m\u001b[0;34m:\u001b[0m\u001b[0;34m//\u001b[0m\u001b[0mdeveloper\u001b[0m\u001b[0;34m.\u001b[0m\u001b[0mtwitter\u001b[0m\u001b[0;34m.\u001b[0m\u001b[0mcom\u001b[0m\u001b[0;34m/\u001b[0m\u001b[0men\u001b[0m\u001b[0;34m/\u001b[0m\u001b[0mdocs\u001b[0m\u001b[0;34m/\u001b[0m\u001b[0mtwitter\u001b[0m\u001b[0;34m-\u001b[0m\u001b[0mids\u001b[0m\u001b[0;34m\u001b[0m\u001b[0;34m\u001b[0m\u001b[0m\n\u001b[1;32m   1459\u001b[0m         \"\"\"\n\u001b[0;32m-> 1460\u001b[0;31m         return self._make_request(\n\u001b[0m\u001b[1;32m   1461\u001b[0m             \u001b[0;34m\"GET\"\u001b[0m\u001b[0;34m,\u001b[0m \u001b[0;34mf\"/2/users/{id}/tweets\"\u001b[0m\u001b[0;34m,\u001b[0m \u001b[0mparams\u001b[0m\u001b[0;34m=\u001b[0m\u001b[0mparams\u001b[0m\u001b[0;34m,\u001b[0m\u001b[0;34m\u001b[0m\u001b[0;34m\u001b[0m\u001b[0m\n\u001b[1;32m   1462\u001b[0m             endpoint_parameters=(\n",
      "\u001b[0;32m/Library/Frameworks/Python.framework/Versions/3.9/lib/python3.9/site-packages/tweepy/client.py\u001b[0m in \u001b[0;36m_make_request\u001b[0;34m(self, method, route, params, endpoint_parameters, json, data_type, user_auth)\u001b[0m\n\u001b[1;32m    124\u001b[0m         \u001b[0mrequest_params\u001b[0m \u001b[0;34m=\u001b[0m \u001b[0mself\u001b[0m\u001b[0;34m.\u001b[0m\u001b[0m_process_params\u001b[0m\u001b[0;34m(\u001b[0m\u001b[0mparams\u001b[0m\u001b[0;34m,\u001b[0m \u001b[0mendpoint_parameters\u001b[0m\u001b[0;34m)\u001b[0m\u001b[0;34m\u001b[0m\u001b[0;34m\u001b[0m\u001b[0m\n\u001b[1;32m    125\u001b[0m \u001b[0;34m\u001b[0m\u001b[0m\n\u001b[0;32m--> 126\u001b[0;31m         response = self.request(method, route, params=request_params,\n\u001b[0m\u001b[1;32m    127\u001b[0m                                 json=json, user_auth=user_auth)\n\u001b[1;32m    128\u001b[0m \u001b[0;34m\u001b[0m\u001b[0m\n",
      "\u001b[0;32m/Library/Frameworks/Python.framework/Versions/3.9/lib/python3.9/site-packages/tweepy/client.py\u001b[0m in \u001b[0;36mrequest\u001b[0;34m(self, method, route, params, json, user_auth)\u001b[0m\n\u001b[1;32m    112\u001b[0m                     \u001b[0;32mreturn\u001b[0m \u001b[0mself\u001b[0m\u001b[0;34m.\u001b[0m\u001b[0mrequest\u001b[0m\u001b[0;34m(\u001b[0m\u001b[0mmethod\u001b[0m\u001b[0;34m,\u001b[0m \u001b[0mroute\u001b[0m\u001b[0;34m,\u001b[0m \u001b[0mparams\u001b[0m\u001b[0;34m,\u001b[0m \u001b[0mjson\u001b[0m\u001b[0;34m,\u001b[0m \u001b[0muser_auth\u001b[0m\u001b[0;34m)\u001b[0m\u001b[0;34m\u001b[0m\u001b[0;34m\u001b[0m\u001b[0m\n\u001b[1;32m    113\u001b[0m                 \u001b[0;32melse\u001b[0m\u001b[0;34m:\u001b[0m\u001b[0;34m\u001b[0m\u001b[0;34m\u001b[0m\u001b[0m\n\u001b[0;32m--> 114\u001b[0;31m                     \u001b[0;32mraise\u001b[0m \u001b[0mTooManyRequests\u001b[0m\u001b[0;34m(\u001b[0m\u001b[0mresponse\u001b[0m\u001b[0;34m)\u001b[0m\u001b[0;34m\u001b[0m\u001b[0;34m\u001b[0m\u001b[0m\n\u001b[0m\u001b[1;32m    115\u001b[0m             \u001b[0;32mif\u001b[0m \u001b[0mresponse\u001b[0m\u001b[0;34m.\u001b[0m\u001b[0mstatus_code\u001b[0m \u001b[0;34m>=\u001b[0m \u001b[0;36m500\u001b[0m\u001b[0;34m:\u001b[0m\u001b[0;34m\u001b[0m\u001b[0;34m\u001b[0m\u001b[0m\n\u001b[1;32m    116\u001b[0m                 \u001b[0;32mraise\u001b[0m \u001b[0mTwitterServerError\u001b[0m\u001b[0;34m(\u001b[0m\u001b[0mresponse\u001b[0m\u001b[0;34m)\u001b[0m\u001b[0;34m\u001b[0m\u001b[0;34m\u001b[0m\u001b[0m\n",
      "\u001b[0;31mTooManyRequests\u001b[0m: 429 Too Many Requests"
     ]
    }
   ],
   "source": [
    "\n",
    "ids =client.get_users(usernames =usernames)\n",
    "\n",
    "for j in range(len(usernames)):\n",
    "    curr_id = ids.data[j].id\n",
    "    curr_username = usernames[j]\n",
    "    print(curr_id)\n",
    "    start_date = date(2019,12,1)\n",
    "    end_date = date(2019,12,31)\n",
    "    tweet_date_format = \"%Y-%m-%dT%H:%M:%SZ\"\n",
    "    for i in range(29):\n",
    "        filename = f\"data/{curr_username}_month{i+1}.csv\"\n",
    "        if file_exists(filename):\n",
    "            start_date += relativedelta(months=1)\n",
    "            end_date += relativedelta(months=1)\n",
    "            continue;\n",
    "        print(f\"{curr_username} month {i+1} : {start_date.strftime(tweet_date_format)} to {end_date.strftime(tweet_date_format)} \")\n",
    "        tweets = client.get_users_tweets(id=curr_id,\n",
    "                                         start_time=start_date.strftime(tweet_date_format),\n",
    "                                         end_time=end_date.strftime(tweet_date_format),\n",
    "                                         #tweet_fields=[\"public_metrics\"],\n",
    "                                         tweet_fields = [\"public_metrics\",\"created_at\", \"text\", \"source\",\"attachments\",\"entities\"],\n",
    "                                         user_fields = [\"name\", \"username\", \"location\", \"verified\", \"description\"],\n",
    "                                         max_results = 100,\n",
    "                                         expansions=[\"author_id\",'attachments.media_keys'],\n",
    "                                         media_fields =[\"type\",\"preview_image_url\",\"public_metrics\"]\n",
    "                                         )\n",
    "        #next month\n",
    "        start_date += relativedelta(months=1)\n",
    "        end_date += relativedelta(months=1)\n",
    "\n",
    "        if tweets.data is None:\n",
    "            continue\n",
    "        data = list(map(lambda t:extract_info(t)  if str.__contains__(t.text.lower(),\"covid\") or str.__contains__(t.text.lower(),\"pandemic\") or str.__contains__(t.text.lower(),\"corona\") else None ,tweets.data))\n",
    "        data_df = pd.DataFrame(list(filter(None, data)))\n",
    "        data_df.to_csv(filename,index=False)\n",
    "# "
   ]
  },
  {
   "cell_type": "code",
   "execution_count": null,
   "id": "8d807b32",
   "metadata": {},
   "outputs": [],
   "source": []
  },
  {
   "cell_type": "code",
   "execution_count": null,
   "id": "ddd30e9d",
   "metadata": {},
   "outputs": [],
   "source": []
  }
 ],
 "metadata": {
  "kernelspec": {
   "display_name": "ipy-jupyter-venv3.9",
   "language": "python",
   "name": "myipy_jupter_env3.9"
  },
  "language_info": {
   "codemirror_mode": {
    "name": "ipython",
    "version": 3
   },
   "file_extension": ".py",
   "mimetype": "text/x-python",
   "name": "python",
   "nbconvert_exporter": "python",
   "pygments_lexer": "ipython3",
   "version": "3.9.7"
  }
 },
 "nbformat": 4,
 "nbformat_minor": 5
}

{
 "cells": [
  {
   "cell_type": "code",
   "execution_count": 1,
   "metadata": {},
   "outputs": [],
   "source": [
    "import matplotlib as mpl\n",
    "import matplotlib.pyplot as plt\n",
    "import numpy as np\n",
    "from scipy.stats import norm\n",
    "import matplotlib.mlab as mlab\n",
    "import matplotlib.pyplot as plt\n",
    "from matplotlib.ticker import PercentFormatter\n",
    "import seaborn\n",
    "from matplotlib.patches import Rectangle\n",
    "import pandas as pd"
   ]
  },
  {
   "cell_type": "code",
   "execution_count": 2,
   "metadata": {
    "scrolled": true
   },
   "outputs": [
    {
     "data": {
      "text/html": [
       "<div>\n",
       "<style scoped>\n",
       "    .dataframe tbody tr th:only-of-type {\n",
       "        vertical-align: middle;\n",
       "    }\n",
       "\n",
       "    .dataframe tbody tr th {\n",
       "        vertical-align: top;\n",
       "    }\n",
       "\n",
       "    .dataframe thead th {\n",
       "        text-align: right;\n",
       "    }\n",
       "</style>\n",
       "<table border=\"1\" class=\"dataframe\">\n",
       "  <thead>\n",
       "    <tr style=\"text-align: right;\">\n",
       "      <th></th>\n",
       "      <th>tweet_id</th>\n",
       "      <th>user</th>\n",
       "      <th>text</th>\n",
       "      <th>date</th>\n",
       "      <th>retweets</th>\n",
       "      <th>replies</th>\n",
       "      <th>likes</th>\n",
       "      <th>quotes</th>\n",
       "      <th>has_viz</th>\n",
       "      <th>num_tweets</th>\n",
       "    </tr>\n",
       "  </thead>\n",
       "  <tbody>\n",
       "    <tr>\n",
       "      <th>0</th>\n",
       "      <td>1331672421636726791</td>\n",
       "      <td>abmakulec</td>\n",
       "      <td>@AlbertoCairo Clearly my brain operates on a s...</td>\n",
       "      <td>11/25/2020 18:53:41</td>\n",
       "      <td>0</td>\n",
       "      <td>1</td>\n",
       "      <td>1</td>\n",
       "      <td>0</td>\n",
       "      <td>False</td>\n",
       "      <td>234</td>\n",
       "    </tr>\n",
       "    <tr>\n",
       "      <th>1</th>\n",
       "      <td>1331629580558487552</td>\n",
       "      <td>abmakulec</td>\n",
       "      <td>@AlbertoCairo The vaccine misinformation being...</td>\n",
       "      <td>11/25/2020 16:03:27</td>\n",
       "      <td>0</td>\n",
       "      <td>1</td>\n",
       "      <td>4</td>\n",
       "      <td>0</td>\n",
       "      <td>False</td>\n",
       "      <td>234</td>\n",
       "    </tr>\n",
       "    <tr>\n",
       "      <th>2</th>\n",
       "      <td>1331616851319730180</td>\n",
       "      <td>abmakulec</td>\n",
       "      <td>@sanjaygreddy @FILWD @AlexKale17 @CGDev @RANDC...</td>\n",
       "      <td>11/25/2020 15:12:52</td>\n",
       "      <td>0</td>\n",
       "      <td>0</td>\n",
       "      <td>1</td>\n",
       "      <td>0</td>\n",
       "      <td>False</td>\n",
       "      <td>234</td>\n",
       "    </tr>\n",
       "    <tr>\n",
       "      <th>3</th>\n",
       "      <td>1331599424880058369</td>\n",
       "      <td>abmakulec</td>\n",
       "      <td>@FILWD @AlexKale17 @CGDev @RANDCorporation @bm...</td>\n",
       "      <td>11/25/2020 14:03:37</td>\n",
       "      <td>0</td>\n",
       "      <td>0</td>\n",
       "      <td>1</td>\n",
       "      <td>0</td>\n",
       "      <td>False</td>\n",
       "      <td>234</td>\n",
       "    </tr>\n",
       "    <tr>\n",
       "      <th>4</th>\n",
       "      <td>1331597345235083264</td>\n",
       "      <td>abmakulec</td>\n",
       "      <td>@FILWD @AlexKale17 @CGDev .@RANDCorporation ma...</td>\n",
       "      <td>11/25/2020 13:55:21</td>\n",
       "      <td>0</td>\n",
       "      <td>1</td>\n",
       "      <td>1</td>\n",
       "      <td>0</td>\n",
       "      <td>False</td>\n",
       "      <td>234</td>\n",
       "    </tr>\n",
       "  </tbody>\n",
       "</table>\n",
       "</div>"
      ],
      "text/plain": [
       "              tweet_id       user  \\\n",
       "0  1331672421636726791  abmakulec   \n",
       "1  1331629580558487552  abmakulec   \n",
       "2  1331616851319730180  abmakulec   \n",
       "3  1331599424880058369  abmakulec   \n",
       "4  1331597345235083264  abmakulec   \n",
       "\n",
       "                                                text                 date  \\\n",
       "0  @AlbertoCairo Clearly my brain operates on a s...  11/25/2020 18:53:41   \n",
       "1  @AlbertoCairo The vaccine misinformation being...  11/25/2020 16:03:27   \n",
       "2  @sanjaygreddy @FILWD @AlexKale17 @CGDev @RANDC...  11/25/2020 15:12:52   \n",
       "3  @FILWD @AlexKale17 @CGDev @RANDCorporation @bm...  11/25/2020 14:03:37   \n",
       "4  @FILWD @AlexKale17 @CGDev .@RANDCorporation ma...  11/25/2020 13:55:21   \n",
       "\n",
       "   retweets  replies  likes  quotes  has_viz  num_tweets  \n",
       "0         0        1      1       0    False         234  \n",
       "1         0        1      4       0    False         234  \n",
       "2         0        0      1       0    False         234  \n",
       "3         0        0      1       0    False         234  \n",
       "4         0        1      1       0    False         234  "
      ]
     },
     "execution_count": 2,
     "metadata": {},
     "output_type": "execute_result"
    }
   ],
   "source": [
    "df = pd.read_csv('data/combined_tweets_filtered.csv')\n",
    "df.head()"
   ]
  },
  {
   "cell_type": "code",
   "execution_count": 3,
   "metadata": {},
   "outputs": [
    {
     "data": {
      "text/plain": [
       "0           2\n",
       "1           5\n",
       "2           1\n",
       "3           1\n",
       "4           2\n",
       "         ... \n",
       "15222      76\n",
       "15223     947\n",
       "15224     257\n",
       "15225     297\n",
       "15226    3298\n",
       "Name: engagements, Length: 15227, dtype: int64"
      ]
     },
     "execution_count": 3,
     "metadata": {},
     "output_type": "execute_result"
    }
   ],
   "source": [
    "sum_rt = df[\"retweets\"].tolist()\n",
    "sum_rep = df[\"replies\"].tolist()\n",
    "sum_likes = df[\"likes\"].tolist()\n",
    "sum_quotes = df[\"quotes\"].tolist()\n",
    "\n",
    "engagements = []\n",
    "\n",
    "for index in range(len(sum_rt)):\n",
    "    sum_eng = sum_rt[index] + sum_rep[index] + sum_likes[index] + sum_quotes[index]\n",
    "    engagements.append(sum_eng)\n",
    "\n",
    "df[\"engagements\"] = engagements\n",
    "df[\"engagements\"]"
   ]
  },
  {
   "cell_type": "code",
   "execution_count": 4,
   "metadata": {},
   "outputs": [],
   "source": [
    "viz_df = df.loc[df[\"has_viz\"] == True]\n",
    "nonviz_df = df.loc[df[\"has_viz\"] == False]"
   ]
  },
  {
   "cell_type": "code",
   "execution_count": 5,
   "metadata": {},
   "outputs": [
    {
     "data": {
      "text/plain": [
       "Index(['tweet_id', 'user', 'text', 'date', 'retweets', 'replies', 'likes',\n",
       "       'quotes', 'has_viz', 'num_tweets', 'engagements'],\n",
       "      dtype='object')"
      ]
     },
     "execution_count": 5,
     "metadata": {},
     "output_type": "execute_result"
    }
   ],
   "source": [
    "nonviz_df.columns"
   ]
  },
  {
   "cell_type": "code",
   "execution_count": 6,
   "metadata": {},
   "outputs": [],
   "source": [
    "noviz = nonviz_df[\"engagements\"].tolist()\n",
    "viz = viz_df[\"engagements\"].tolist()\n",
    "\n",
    "data = [noviz, viz]"
   ]
  },
  {
   "cell_type": "code",
   "execution_count": 7,
   "metadata": {},
   "outputs": [
    {
     "data": {
      "text/plain": [
       "<Figure size 720x504 with 0 Axes>"
      ]
     },
     "metadata": {},
     "output_type": "display_data"
    }
   ],
   "source": [
    "fig = plt.figure(figsize =(10, 7))"
   ]
  },
  {
   "cell_type": "code",
   "execution_count": 8,
   "metadata": {},
   "outputs": [
    {
     "data": {
      "image/png": "[encoded data removed]",
      "text/plain": [
       "<Figure size 432x288 with 1 Axes>"
      ]
     },
     "metadata": {
      "needs_background": "light"
     },
     "output_type": "display_data"
    }
   ],
   "source": [
    "# Creating plot\n",
    "plt.boxplot(data, notch=False, showfliers=False, labels=[\"no-viz\", \"viz\"])\n",
    "plt.ylabel(\"Engagements\")\n",
    " \n",
    "# show plot\n",
    "plt.show()"
   ]
  },
  {
   "cell_type": "code",
   "execution_count": 9,
   "metadata": {},
   "outputs": [],
   "source": [
    "a = np.histogram(viz)"
   ]
  },
  {
   "cell_type": "code",
   "execution_count": 10,
   "metadata": {},
   "outputs": [],
   "source": [
    "def buildBins(min = 0, spacing = 1, numbins = 10) :\n",
    "    ret = [min + float(x)*spacing for x in range(numbins)]\n",
    "    return ret\n",
    "\n",
    "def binCenters(bins):\n",
    "    mids = []\n",
    "    for i in range(len(bins)-1) :\n",
    "        lower = bins[i]\n",
    "        upper = bins[i+1]\n",
    "        mid = (lower + upper) / 2\n",
    "        mids.append(mid)\n",
    "    return mids\n",
    "\n"
   ]
  },
  {
   "cell_type": "code",
   "execution_count": 11,
   "metadata": {},
   "outputs": [
    {
     "name": "stdout",
     "output_type": "stream",
     "text": [
      "0.019999999999999997\n"
     ]
    },
    {
     "data": {
      "image/png": "[encoded data removed]",
      "text/plain": [
       "<Figure size 432x288 with 1 Axes>"
      ]
     },
     "metadata": {
      "needs_background": "light"
     },
     "output_type": "display_data"
    }
   ],
   "source": [
    "# Build the bins by user pref\n",
    "bins = buildBins(min = 1, spacing = 50, numbins = 30)\n",
    "\n",
    "# The top subplot is classic histo\n",
    "n, x, _ = plt.hist(data, bins = bins, density = True)\n",
    "\n",
    "colors = [\"orange\", \"blue\"]\n",
    "handles = [Rectangle((0, 0), 1, 1, color=c, ec=\"k\") for c in colors]\n",
    "labels = [\"Viz\", \"No Viz\"]\n",
    "plt.legend(handles, labels)\n",
    "\n",
    "print(sum(n[1]))\n",
    "#plt.close()\n",
    "\n",
    "# # The bottom sublplot is a line \n",
    "# plt.subplot(212)\n",
    "# bin_centers = binCenters(bins)\n",
    "# plt.gca().yaxis.set_major_formatter(PercentFormatter(1))\n",
    "# plt.plot(bin_centers, n[1], '-', c='red', label=\"Viz\")\n",
    "# plt.plot(bin_centers, n[0], '-', c='blue', label=\"No Viz\")\n",
    "# plt.title(\"Percent of Tweets (Viz & No Viz) Classified by Number of Retweets\")\n",
    "# plt.xlabel(\"Number of Retweets\")\n",
    "# plt.ylabel(\"Percent of Tweets\")\n",
    "# plt.legend(loc=\"upper right\")\n",
    "# # Show the plots\n",
    "plt.show()"
   ]
  },
  {
   "cell_type": "code",
   "execution_count": 12,
   "metadata": {},
   "outputs": [
    {
     "name": "stdout",
     "output_type": "stream",
     "text": [
      "[[1.10061783e-02 2.59488085e-03 1.41571050e-03 9.14386584e-04\n",
      "  6.93733451e-04 4.88967343e-04 3.72462489e-04 3.37157988e-04\n",
      "  2.64783760e-04 2.50661959e-04 1.69461606e-04 1.44748455e-04\n",
      "  1.46513680e-04 1.30626655e-04 1.16504854e-04 1.02383054e-04\n",
      "  9.35569285e-05 9.70873786e-05 1.07678729e-04 5.82524272e-05\n",
      "  5.64872021e-05 6.70785525e-05 6.88437776e-05 6.35481024e-05\n",
      "  5.29567520e-05 5.82524272e-05 4.76610768e-05 4.41306267e-05\n",
      "  3.53045013e-05]\n",
      " [4.31714719e-03 2.33687405e-03 2.14719272e-03 1.90440061e-03\n",
      "  1.51745068e-03 1.21396055e-03 8.04248862e-04 7.96661608e-04\n",
      "  7.20789074e-04 4.55235205e-04 4.02124431e-04 4.32473445e-04\n",
      "  3.03490137e-04 3.18664643e-04 2.65553869e-04 3.26251897e-04\n",
      "  2.65553869e-04 1.59332322e-04 2.12443096e-04 1.59332322e-04\n",
      "  1.66919575e-04 6.82852807e-05 1.21396055e-04 1.28983308e-04\n",
      "  1.13808801e-04 1.21396055e-04 9.86342944e-05 6.82852807e-05\n",
      "  5.31107739e-05]]\n"
     ]
    }
   ],
   "source": [
    "print(n)"
   ]
  },
  {
   "cell_type": "code",
   "execution_count": 18,
   "metadata": {},
   "outputs": [
    {
     "data": {
      "image/png": "[encoded data removed]",
      "text/plain": [
       "<Figure size 432x288 with 1 Axes>"
      ]
     },
     "metadata": {
      "needs_background": "light"
     },
     "output_type": "display_data"
    }
   ],
   "source": [
    "brs = {\"Low\": (0,500), \"Middle\": (200,1500), \"High\": (5000, 30000)}\n",
    "binrange = brs[\"Low\"]\n",
    "hp = seaborn.histplot(data,element=\"step\",binrange=binrange,stat='density', common_norm=False, fill=False)\n",
    "\n",
    "#hp = plt.hist(data, density = True, binrange=(100,1500))\n",
    "plt.legend(handles, labels)\n",
    "plt.xlabel(\"Number of Retweets\")\n",
    "#plt.xticks(np.arange(100, 1400, 200))\n",
    "plt.title(r\"Engagement Value Density for Tweets : $\" +str(binrange[0])+\"\\leq$Engagements<\"+str(binrange[1]))\n",
    "#plt.title(r'$\\alpha\\leq\\beta$')\n",
    "plt.show(hp)\n"
   ]
  },
  {
   "cell_type": "code",
   "execution_count": 14,
   "metadata": {
    "collapsed": true
   },
   "outputs": [
    {
     "name": "stdout",
     "output_type": "stream",
     "text": [
      "noviz n = 141\n",
      "viz n = 753\n"
     ]
    },
    {
     "data": {
      "image/png": "[encoded data removed]",
      "text/plain": [
       "<Figure size 432x288 with 1 Axes>"
      ]
     },
     "metadata": {
      "needs_background": "light"
     },
     "output_type": "display_data"
    }
   ],
   "source": [
    "def baw_likes(authorname):\n",
    "    noviz_func_df = nonviz_df.loc[nonviz_df[\"user\"] == authorname]\n",
    "    viz_func_df = viz_df.loc[viz_df[\"user\"] == authorname]\n",
    "    \n",
    "    noviz = noviz_func_df[\"likes\"].tolist()\n",
    "    viz = viz_func_df[\"likes\"].tolist()\n",
    "\n",
    "    data = [noviz, viz]\n",
    "    \n",
    "    # Creating plot\n",
    "    print(\"noviz n = \" + str(len(data[0])))\n",
    "    print(\"viz n = \" + str(len(data[1])))\n",
    "    plt.boxplot(data, notch=False, showfliers=False, labels=[\"no-viz (n=\" + str(len(data[0])) + \")\", \"viz(n=\" + str(len(data[1])) + \")\"])\n",
    "    plt.ylabel(\"Likes\")\n",
    "    plt.title(\"Response to Tweets by @\"+authorname)\n",
    "\n",
    "    # show plot\n",
    "    plt.show()\n",
    "    \n",
    "baw_likes(\"CDCGov\")"
   ]
  },
  {
   "cell_type": "code",
   "execution_count": 15,
   "metadata": {
    "collapsed": true
   },
   "outputs": [
    {
     "name": "stdout",
     "output_type": "stream",
     "text": [
      "noviz n = 593\n",
      "viz n = 259\n"
     ]
    },
    {
     "data": {
      "image/png": "[encoded data removed]",
      "text/plain": [
       "<Figure size 432x288 with 1 Axes>"
      ]
     },
     "metadata": {
      "needs_background": "light"
     },
     "output_type": "display_data"
    },
    {
     "name": "stdout",
     "output_type": "stream",
     "text": [
      "noviz n = 212\n",
      "viz n = 25\n"
     ]
    },
    {
     "data": {
      "image/png": "[encoded data removed]",
      "text/plain": [
       "<Figure size 432x288 with 1 Axes>"
      ]
     },
     "metadata": {
      "needs_background": "light"
     },
     "output_type": "display_data"
    },
    {
     "name": "stdout",
     "output_type": "stream",
     "text": [
      "noviz n = 626\n",
      "viz n = 68\n"
     ]
    },
    {
     "data": {
      "image/png": "[encoded data removed]",
      "text/plain": [
       "<Figure size 432x288 with 1 Axes>"
      ]
     },
     "metadata": {
      "needs_background": "light"
     },
     "output_type": "display_data"
    },
    {
     "name": "stdout",
     "output_type": "stream",
     "text": [
      "noviz n = 446\n",
      "viz n = 47\n"
     ]
    },
    {
     "data": {
      "image/png": "[encoded data removed]",
      "text/plain": [
       "<Figure size 432x288 with 1 Axes>"
      ]
     },
     "metadata": {
      "needs_background": "light"
     },
     "output_type": "display_data"
    }
   ],
   "source": [
    "baw_likes(\"Surgeon_General\")\n",
    "baw_likes(\"ScottGottliebMD\")\n",
    "baw_likes(\"DrTomFrieden\")\n",
    "baw_likes(\"JohnsHopkinsSPH\")"
   ]
  },
  {
   "cell_type": "code",
   "execution_count": null,
   "metadata": {},
   "outputs": [],
   "source": []
  },
  {
   "cell_type": "code",
   "execution_count": 16,
   "metadata": {},
   "outputs": [
    {
     "name": "stdout",
     "output_type": "stream",
     "text": [
      "7.840392019600979\n"
     ]
    }
   ],
   "source": [
    "novizt = data[0]\n",
    "vizt = data[1]\n",
    "summer = 0\n",
    "for dat in vizt:\n",
    "    if dat > 1400:\n",
    "        summer+=1\n",
    "print(summer/len(vizt) * 100)"
   ]
  },
  {
   "cell_type": "code",
   "execution_count": 20,
   "metadata": {
    "collapsed": true
   },
   "outputs": [
    {
     "data": {
      "text/plain": [
       "Text(0.5, 1.0, 'Breakdown of Analyzed Tweets')"
      ]
     },
     "execution_count": 20,
     "metadata": {},
     "output_type": "execute_result"
    },
    {
     "data": {
      "image/png": "[encoded data removed]",
      "text/plain": [
       "<Figure size 432x288 with 1 Axes>"
      ]
     },
     "metadata": {},
     "output_type": "display_data"
    }
   ],
   "source": [
    "plt.pie([len(novizt), len(vizt)] , labels = [\"NoViz (n =\"+str(len(novizt))+\")\", \"Viz (n =\"+str(len(vizt))+\")\"], autopct='%.1f%%')\n",
    "\n",
    "plt.title(\"Breakdown of Analyzed Tweets\")"
   ]
  },
  {
   "cell_type": "code",
   "execution_count": 21,
   "metadata": {},
   "outputs": [
    {
     "data": {
      "text/plain": [
       "15227"
      ]
     },
     "execution_count": 21,
     "metadata": {},
     "output_type": "execute_result"
    }
   ],
   "source": [
    "len(novizt)+len(vizt)"
   ]
  },
  {
   "cell_type": "code",
   "execution_count": null,
   "metadata": {},
   "outputs": [],
   "source": []
  }
 ],
 "metadata": {
  "kernelspec": {
   "display_name": "Python 3",
   "language": "python",
   "name": "python3"
  },
  "language_info": {
   "codemirror_mode": {
    "name": "ipython",
    "version": 3
   },
   "file_extension": ".py",
   "mimetype": "text/x-python",
   "name": "python",
   "nbconvert_exporter": "python",
   "pygments_lexer": "ipython3",
   "version": "3.8.5"
  }
 },
 "nbformat": 4,
 "nbformat_minor": 4
}

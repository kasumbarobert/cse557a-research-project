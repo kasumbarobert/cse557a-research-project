{
 "cells": [
  {
   "cell_type": "code",
   "execution_count": 1,
   "metadata": {},
   "outputs": [],
   "source": [
    "import matplotlib.pyplot as plt\n",
    "import numpy as np\n",
    "from scipy.stats import norm\n",
    "import matplotlib.mlab as mlab\n",
    "import matplotlib.pyplot as plt\n",
    "import pandas as pd\n",
    "from ipywidgets import interact, interactive, fixed, interact_manual\n",
    "import ipywidgets as widgets"
   ]
  },
  {
   "cell_type": "code",
   "execution_count": 2,
   "metadata": {},
   "outputs": [],
   "source": [
    "df = pd.read_csv('data/combined_tweets.csv')\n",
    "users = df[\"user\"].unique()"
   ]
  },
  {
   "cell_type": "code",
   "execution_count": 3,
   "metadata": {},
   "outputs": [],
   "source": [
    "def get_engagements(df):\n",
    "    viz_df = df.loc[df[\"has_viz\"] == True]\n",
    "    no_viz_df = df.loc[df[\"has_viz\"] == False]\n",
    "    \n",
    "    viz_retweets = viz_df[\"retweets\"].sum()\n",
    "    viz_replies = viz_df[\"replies\"].sum()\n",
    "    viz_likes = viz_df[\"likes\"].sum()\n",
    "    viz_quotes = viz_df[\"quotes\"].sum()\n",
    "    \n",
    "    no_viz_retweets = no_viz_df[\"retweets\"].sum()\n",
    "    no_viz_replies = no_viz_df[\"replies\"].sum()\n",
    "    no_viz_likes = no_viz_df[\"likes\"].sum()\n",
    "    no_viz_quotes = no_viz_df[\"quotes\"].sum()\n",
    "    \n",
    "    viz_engagements = viz_retweets + viz_replies + viz_likes + viz_quotes\n",
    "    no_viz_engagements = no_viz_retweets + no_viz_replies + no_viz_likes + no_viz_quotes\n",
    "    \n",
    "    total_engagements = viz_engagements + no_viz_engagements\n",
    "    \n",
    "    non_viz_tweets = len(no_viz_df)\n",
    "    viz_tweets = len(viz_df)\n",
    "    \n",
    "    print(\"viz tweets:\", viz_tweets)\n",
    "    print(\"non viz tweets:\", non_viz_tweets)\n",
    "    \n",
    "    print(\"visualization tweet engagements: \", viz_engagements)\n",
    "    print(\"no visualization tweet engagements: \", no_viz_engagements)\n",
    "    print(\"total engagements: \", total_engagements)\n",
    "    \n",
    "    return total_engagements"
   ]
  },
  {
   "cell_type": "code",
   "execution_count": 4,
   "metadata": {},
   "outputs": [
    {
     "name": "stdout",
     "output_type": "stream",
     "text": [
      "viz tweets: 1\n",
      "non viz tweets: 3\n",
      "visualization tweet engagements:  106\n",
      "no visualization tweet engagements:  81587\n",
      "total engagements:  81693\n"
     ]
    },
    {
     "data": {
      "application/vnd.jupyter.widget-view+json": {
       "model_id": "b340e3e8a0dc489bbcf511be8806f3e3",
       "version_major": 2,
       "version_minor": 0
      },
      "text/plain": [
       "Dropdown(description='Author: ', options=('BNONews', 'CDCGov', 'DrEricDing', 'DrTomFrieden', 'ScottGottliebMD'…"
      ]
     },
     "metadata": {},
     "output_type": "display_data"
    },
    {
     "name": "stdout",
     "output_type": "stream",
     "text": [
      "---------------------------------\n",
      "changed to CDCGov\n",
      "viz tweets: 801\n",
      "non viz tweets: 143\n",
      "visualization tweet engagements:  447412\n",
      "no visualization tweet engagements:  123316\n",
      "total engagements:  570728\n",
      "---------------------------------\n",
      "changed to DrEricDing\n",
      "viz tweets: 15\n",
      "non viz tweets: 43\n",
      "visualization tweet engagements:  44165\n",
      "no visualization tweet engagements:  54510\n",
      "total engagements:  98675\n",
      "---------------------------------\n",
      "changed to DrTomFrieden\n",
      "viz tweets: 67\n",
      "non viz tweets: 527\n",
      "visualization tweet engagements:  28504\n",
      "no visualization tweet engagements:  1684024\n",
      "total engagements:  1712528\n",
      "---------------------------------\n",
      "changed to ScottGottliebMD\n",
      "viz tweets: 24\n",
      "non viz tweets: 180\n",
      "visualization tweet engagements:  28614\n",
      "no visualization tweet engagements:  60467\n",
      "total engagements:  89081\n"
     ]
    }
   ],
   "source": [
    "#https://stackoverflow.com/questions/34020789/ipywidgets-dropdown-widgets-what-is-the-onchange-event\n",
    "\n",
    "dropdown = widgets.Dropdown(\n",
    "    options=users,\n",
    "    value = \"BNONews\",\n",
    "    description='Author: ',\n",
    ")\n",
    "\n",
    "disp_df = df.loc[df[\"user\"] == dropdown.value]\n",
    "get_engagements(disp_df)\n",
    "\n",
    "def on_change(change):\n",
    "    if change['type'] == 'change' and change['name'] == 'value':\n",
    "        print(\"---------------------------------\")\n",
    "        print(\"changed to %s\" % change['new'])\n",
    "        disp_df = df.loc[df[\"user\"] == change['new']]\n",
    "        get_engagements(disp_df)\n",
    "        \n",
    "        \n",
    "dropdown.observe(on_change)\n",
    "\n",
    "display(dropdown)"
   ]
  },
  {
   "cell_type": "code",
   "execution_count": 5,
   "metadata": {},
   "outputs": [
    {
     "data": {
      "text/html": [
       "<div>\n",
       "<style scoped>\n",
       "    .dataframe tbody tr th:only-of-type {\n",
       "        vertical-align: middle;\n",
       "    }\n",
       "\n",
       "    .dataframe tbody tr th {\n",
       "        vertical-align: top;\n",
       "    }\n",
       "\n",
       "    .dataframe thead th {\n",
       "        text-align: right;\n",
       "    }\n",
       "</style>\n",
       "<table border=\"1\" class=\"dataframe\">\n",
       "  <thead>\n",
       "    <tr style=\"text-align: right;\">\n",
       "      <th></th>\n",
       "      <th>tweet_id</th>\n",
       "      <th>user</th>\n",
       "      <th>text</th>\n",
       "      <th>date</th>\n",
       "      <th>retweets</th>\n",
       "      <th>replies</th>\n",
       "      <th>likes</th>\n",
       "      <th>quotes</th>\n",
       "      <th>has_viz</th>\n",
       "    </tr>\n",
       "  </thead>\n",
       "  <tbody>\n",
       "    <tr>\n",
       "      <th>0</th>\n",
       "      <td>1312029170772381697</td>\n",
       "      <td>BNONews</td>\n",
       "      <td>RT @BNODesk: NEW: Trump is experiencing \"mild ...</td>\n",
       "      <td>10/02/2020 13:58:25</td>\n",
       "      <td>276</td>\n",
       "      <td>0</td>\n",
       "      <td>0</td>\n",
       "      <td>0</td>\n",
       "      <td>False</td>\n",
       "    </tr>\n",
       "    <tr>\n",
       "      <th>1</th>\n",
       "      <td>1323902358808649731</td>\n",
       "      <td>BNONews</td>\n",
       "      <td>Republican David Andahl, who died from COVID-1...</td>\n",
       "      <td>11/04/2020 08:18:13</td>\n",
       "      <td>11392</td>\n",
       "      <td>2022</td>\n",
       "      <td>41170</td>\n",
       "      <td>25609</td>\n",
       "      <td>False</td>\n",
       "    </tr>\n",
       "    <tr>\n",
       "      <th>2</th>\n",
       "      <td>1353045636472516610</td>\n",
       "      <td>BNONews</td>\n",
       "      <td>RT @BNODesk: Legendary talk show host Larry Ki...</td>\n",
       "      <td>01/23/2021 18:23:12</td>\n",
       "      <td>106</td>\n",
       "      <td>0</td>\n",
       "      <td>0</td>\n",
       "      <td>0</td>\n",
       "      <td>True</td>\n",
       "    </tr>\n",
       "    <tr>\n",
       "      <th>3</th>\n",
       "      <td>1506774290993233925</td>\n",
       "      <td>BNONews</td>\n",
       "      <td>RT @BNODesk: Stephen Wilhite, creator of the G...</td>\n",
       "      <td>03/23/2022 23:26:00</td>\n",
       "      <td>1118</td>\n",
       "      <td>0</td>\n",
       "      <td>0</td>\n",
       "      <td>0</td>\n",
       "      <td>False</td>\n",
       "    </tr>\n",
       "  </tbody>\n",
       "</table>\n",
       "</div>"
      ],
      "text/plain": [
       "              tweet_id     user  \\\n",
       "0  1312029170772381697  BNONews   \n",
       "1  1323902358808649731  BNONews   \n",
       "2  1353045636472516610  BNONews   \n",
       "3  1506774290993233925  BNONews   \n",
       "\n",
       "                                                text                 date  \\\n",
       "0  RT @BNODesk: NEW: Trump is experiencing \"mild ...  10/02/2020 13:58:25   \n",
       "1  Republican David Andahl, who died from COVID-1...  11/04/2020 08:18:13   \n",
       "2  RT @BNODesk: Legendary talk show host Larry Ki...  01/23/2021 18:23:12   \n",
       "3  RT @BNODesk: Stephen Wilhite, creator of the G...  03/23/2022 23:26:00   \n",
       "\n",
       "   retweets  replies  likes  quotes  has_viz  \n",
       "0       276        0      0       0    False  \n",
       "1     11392     2022  41170   25609    False  \n",
       "2       106        0      0       0     True  \n",
       "3      1118        0      0       0    False  "
      ]
     },
     "execution_count": 5,
     "metadata": {},
     "output_type": "execute_result"
    }
   ],
   "source": [
    "disp_df"
   ]
  },
  {
   "cell_type": "code",
   "execution_count": 6,
   "metadata": {},
   "outputs": [
    {
     "name": "stdout",
     "output_type": "stream",
     "text": [
      "12892\n"
     ]
    }
   ],
   "source": [
    "print(disp_df[\"retweets\"].sum())"
   ]
  }
 ],
 "metadata": {
  "kernelspec": {
   "display_name": "Python 3 (ipykernel)",
   "language": "python",
   "name": "python3"
  },
  "language_info": {
   "codemirror_mode": {
    "name": "ipython",
    "version": 3
   },
   "file_extension": ".py",
   "mimetype": "text/x-python",
   "name": "python",
   "nbconvert_exporter": "python",
   "pygments_lexer": "ipython3",
   "version": "3.9.7"
  }
 },
 "nbformat": 4,
 "nbformat_minor": 4
}

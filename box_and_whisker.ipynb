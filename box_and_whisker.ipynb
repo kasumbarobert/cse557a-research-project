{
 "cells": [
  {
   "cell_type": "code",
   "execution_count": 1,
   "metadata": {},
   "outputs": [],
   "source": [
    "import matplotlib.pyplot as plt\n",
    "import numpy as np\n",
    "from scipy.stats import norm\n",
    "import matplotlib.mlab as mlab\n",
    "import matplotlib.pyplot as plt\n",
    "from matplotlib.ticker import PercentFormatter\n",
    "import seaborn\n",
    "from matplotlib.patches import Rectangle\n"
   ]
  },
  {
   "cell_type": "code",
   "execution_count": 2,
   "metadata": {},
   "outputs": [
    {
     "name": "stdout",
     "output_type": "stream",
     "text": [
      "Column names are tweet_id, user, text, date, retweets, replies, likes, quotes, has_viz\n"
     ]
    }
   ],
   "source": [
    "# Handle the data from the CSV\n",
    "import csv\n",
    "\n",
    "csv_data = []\n",
    "with open('data/combined_tweets.csv') as csv_file:\n",
    "    csv_reader = csv.reader(csv_file, delimiter=',')\n",
    "    line_count = 0\n",
    "    for row in csv_reader:\n",
    "        if line_count == 0:\n",
    "            print(f'Column names are {\", \".join(row)}')\n",
    "            line_count += 1\n",
    "        else:\n",
    "            csv_data.append(row)\n",
    "            line_count += 1\n"
   ]
  },
  {
   "cell_type": "code",
   "execution_count": 3,
   "metadata": {},
   "outputs": [],
   "source": [
    "# Get all of the tweets for all users and split between noviz and viz\n",
    "viz = []\n",
    "noviz = []\n",
    "\n",
    "for tweet in csv_data :\n",
    "    if tweet[-1] == \"True\":\n",
    "        viz.append(int(tweet[6]))\n",
    "    else:\n",
    "        noviz.append(int(tweet[6]))"
   ]
  },
  {
   "cell_type": "code",
   "execution_count": 4,
   "metadata": {},
   "outputs": [],
   "source": [
    "data = [noviz, viz]"
   ]
  },
  {
   "cell_type": "code",
<<<<<<< HEAD
   "execution_count": 5,
=======
   "execution_count": 22,
>>>>>>> 1ceaa4ea3c60462e16da2181f5fae1121023d15c
   "metadata": {},
   "outputs": [
    {
     "data": {
      "text/plain": [
       "<Figure size 720x504 with 0 Axes>"
      ]
     },
     "metadata": {},
     "output_type": "display_data"
    }
   ],
   "source": [
    "fig = plt.figure(figsize =(10, 7))"
   ]
  },
  {
   "cell_type": "code",
   "execution_count": 6,
   "metadata": {},
   "outputs": [
    {
     "data": {
      "image/png": "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\n",
      "text/plain": [
       "<Figure size 432x288 with 1 Axes>"
      ]
     },
     "metadata": {
      "needs_background": "light"
     },
     "output_type": "display_data"
    }
   ],
   "source": [
    "# Creating plot\n",
    "plt.boxplot(data, notch=False, showfliers=False, labels=[\"no-viz\", \"viz\"])\n",
    "plt.ylabel(\"Retweets\")\n",
    " \n",
    "# show plot\n",
    "plt.show()"
   ]
  },
  {
   "cell_type": "code",
   "execution_count": 7,
   "metadata": {},
   "outputs": [],
   "source": [
    "a = np.histogram(viz)"
   ]
  },
  {
   "cell_type": "code",
   "execution_count": 8,
   "metadata": {},
   "outputs": [],
   "source": [
    "def buildBins(min = 0, spacing = 1, numbins = 10) :\n",
    "    ret = [min + float(x)*spacing for x in range(numbins)]\n",
<<<<<<< HEAD
    "    return ret"
   ]
  },
  {
   "cell_type": "code",
   "execution_count": 9,
   "metadata": {},
   "outputs": [],
   "source": [
    "bins = buildBins(min = 1, spacing = 100, numbins = 15)"
=======
    "    return ret\n",
    "\n",
    "def binCenters(bins):\n",
    "    mids = []\n",
    "    for i in range(len(bins)-1) :\n",
    "        lower = bins[i]\n",
    "        upper = bins[i+1]\n",
    "        mid = (lower + upper) / 2\n",
    "        mids.append(mid)\n",
    "    return mids"
>>>>>>> 1ceaa4ea3c60462e16da2181f5fae1121023d15c
   ]
  },
  {
   "cell_type": "code",
<<<<<<< HEAD
   "execution_count": 10,
=======
   "execution_count": 23,
>>>>>>> 1ceaa4ea3c60462e16da2181f5fae1121023d15c
   "metadata": {},
   "outputs": [
    {
     "name": "stdout",
     "output_type": "stream",
     "text": [
      "0.019999999999999987\n"
     ]
    },
    {
     "data": {
      "image/png": "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\n",
      "text/plain": [
<<<<<<< HEAD
       "<function matplotlib.pyplot.show(close=None, block=None)>"
      ]
     },
     "execution_count": 10,
     "metadata": {},
     "output_type": "execute_result"
    },
    {
     "data": {
      "image/png": "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\n",
      "text/plain": [
       "<Figure size 432x288 with 1 Axes>"
=======
       "<Figure size 432x288 with 2 Axes>"
>>>>>>> 1ceaa4ea3c60462e16da2181f5fae1121023d15c
      ]
     },
     "metadata": {
      "needs_background": "light"
     },
     "output_type": "display_data"
    }
   ],
   "source": [
    "# Build the bins by user pref\n",
    "bins = buildBins(min = 1, spacing = 50, numbins = 30)\n",
    "\n",
    "# The top subplot is classic histo\n",
    "n, x, _ = plt.hist(data, bins = bins, density = True)\n",
    "\n",
    "colors = [\"orange\", \"blue\"]\n",
    "handles = [Rectangle((0, 0), 1, 1, color=c, ec=\"k\") for c in colors]\n",
    "labels = [\"Viz\", \"No Viz\"]\n",
    "plt.legend(handles, labels)\n",
    "\n",
    "print(sum(n[1]))\n",
    "#plt.close()\n",
    "\n",
    "# # The bottom sublplot is a line \n",
    "# plt.subplot(212)\n",
    "# bin_centers = binCenters(bins)\n",
    "# plt.gca().yaxis.set_major_formatter(PercentFormatter(1))\n",
    "# plt.plot(bin_centers, n[1], '-', c='red', label=\"Viz\")\n",
    "# plt.plot(bin_centers, n[0], '-', c='blue', label=\"No Viz\")\n",
    "# plt.title(\"Percent of Tweets (Viz & No Viz) Classified by Number of Retweets\")\n",
    "# plt.xlabel(\"Number of Retweets\")\n",
    "# plt.ylabel(\"Percent of Tweets\")\n",
    "# plt.legend(loc=\"upper right\")\n",
    "# # Show the plots\n",
    "plt.show()"
   ]
  },
  {
   "cell_type": "code",
   "execution_count": 10,
   "metadata": {},
   "outputs": [
    {
     "name": "stdout",
     "output_type": "stream",
     "text": [
      "[[2.23234624e-03 2.64236902e-03 1.91343964e-03 1.86788155e-03\n",
      "  8.20045558e-04 1.32118451e-03 7.28929385e-04 7.74487472e-04\n",
      "  9.11161731e-04 7.74487472e-04 4.10022779e-04 4.55580866e-04\n",
      "  2.73348519e-04 4.55580866e-04 4.10022779e-04 3.18906606e-04\n",
      "  3.64464692e-04 2.73348519e-04 2.73348519e-04 2.73348519e-04\n",
      "  2.27790433e-04 3.64464692e-04 3.64464692e-04 1.82232346e-04\n",
      "  1.82232346e-04 2.73348519e-04 2.27790433e-04 4.55580866e-04\n",
      "  2.27790433e-04]\n",
      " [1.08720272e-03 3.69195923e-03 3.69195923e-03 2.65005663e-03\n",
      "  1.74405436e-03 1.38165345e-03 1.13250283e-03 6.56851642e-04\n",
      "  7.70101925e-04 7.70101925e-04 3.39750849e-04 4.07701019e-04\n",
      "  1.81200453e-04 1.81200453e-04 1.81200453e-04 2.26500566e-04\n",
      "  2.03850510e-04 9.06002265e-05 1.13250283e-04 6.79501699e-05\n",
      "  9.06002265e-05 2.26500566e-05 6.79501699e-05 4.53001133e-05\n",
      "  2.26500566e-05 9.06002265e-05 4.53001133e-05 2.26500566e-05\n",
      "  2.26500566e-05]]\n"
     ]
    }
   ],
   "source": [
    "print(n)"
   ]
  },
  {
   "cell_type": "code",
   "execution_count": 46,
   "metadata": {},
   "outputs": [
    {
     "data": {
      "image/png": "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\n",
      "text/plain": [
       "<Figure size 432x288 with 1 Axes>"
      ]
     },
     "metadata": {
      "needs_background": "light"
     },
     "output_type": "display_data"
    },
    {
     "ename": "TypeError",
     "evalue": "savefig() takes 2 positional arguments but 3 were given",
     "output_type": "error",
     "traceback": [
      "\u001b[0;31m---------------------------------------------------------------------------\u001b[0m",
      "\u001b[0;31mTypeError\u001b[0m                                 Traceback (most recent call last)",
      "\u001b[0;32m<ipython-input-46-cd668cc86976>\u001b[0m in \u001b[0;36m<module>\u001b[0;34m\u001b[0m\n\u001b[1;32m      4\u001b[0m \u001b[0mplt\u001b[0m\u001b[0;34m.\u001b[0m\u001b[0mxlabel\u001b[0m\u001b[0;34m(\u001b[0m\u001b[0;34m\"Number of Retweets\"\u001b[0m\u001b[0;34m)\u001b[0m\u001b[0;34m\u001b[0m\u001b[0;34m\u001b[0m\u001b[0m\n\u001b[1;32m      5\u001b[0m \u001b[0mplt\u001b[0m\u001b[0;34m.\u001b[0m\u001b[0mshow\u001b[0m\u001b[0;34m(\u001b[0m\u001b[0mhp\u001b[0m\u001b[0;34m)\u001b[0m\u001b[0;34m\u001b[0m\u001b[0;34m\u001b[0m\u001b[0m\n\u001b[0;32m----> 6\u001b[0;31m \u001b[0mplt\u001b[0m\u001b[0;34m.\u001b[0m\u001b[0msavefig\u001b[0m\u001b[0;34m(\u001b[0m\u001b[0mhp\u001b[0m\u001b[0;34m,\u001b[0m\u001b[0;34m'outputs/my_plot.png'\u001b[0m\u001b[0;34m)\u001b[0m\u001b[0;34m\u001b[0m\u001b[0;34m\u001b[0m\u001b[0m\n\u001b[0m",
      "\u001b[0;32m~/opt/anaconda3/lib/python3.8/site-packages/matplotlib/pyplot.py\u001b[0m in \u001b[0;36msavefig\u001b[0;34m(*args, **kwargs)\u001b[0m\n\u001b[1;32m    857\u001b[0m \u001b[0;32mdef\u001b[0m \u001b[0msavefig\u001b[0m\u001b[0;34m(\u001b[0m\u001b[0;34m*\u001b[0m\u001b[0margs\u001b[0m\u001b[0;34m,\u001b[0m \u001b[0;34m**\u001b[0m\u001b[0mkwargs\u001b[0m\u001b[0;34m)\u001b[0m\u001b[0;34m:\u001b[0m\u001b[0;34m\u001b[0m\u001b[0;34m\u001b[0m\u001b[0m\n\u001b[1;32m    858\u001b[0m     \u001b[0mfig\u001b[0m \u001b[0;34m=\u001b[0m \u001b[0mgcf\u001b[0m\u001b[0;34m(\u001b[0m\u001b[0;34m)\u001b[0m\u001b[0;34m\u001b[0m\u001b[0;34m\u001b[0m\u001b[0m\n\u001b[0;32m--> 859\u001b[0;31m     \u001b[0mres\u001b[0m \u001b[0;34m=\u001b[0m \u001b[0mfig\u001b[0m\u001b[0;34m.\u001b[0m\u001b[0msavefig\u001b[0m\u001b[0;34m(\u001b[0m\u001b[0;34m*\u001b[0m\u001b[0margs\u001b[0m\u001b[0;34m,\u001b[0m \u001b[0;34m**\u001b[0m\u001b[0mkwargs\u001b[0m\u001b[0;34m)\u001b[0m\u001b[0;34m\u001b[0m\u001b[0;34m\u001b[0m\u001b[0m\n\u001b[0m\u001b[1;32m    860\u001b[0m     \u001b[0mfig\u001b[0m\u001b[0;34m.\u001b[0m\u001b[0mcanvas\u001b[0m\u001b[0;34m.\u001b[0m\u001b[0mdraw_idle\u001b[0m\u001b[0;34m(\u001b[0m\u001b[0;34m)\u001b[0m   \u001b[0;31m# need this if 'transparent=True' to reset colors\u001b[0m\u001b[0;34m\u001b[0m\u001b[0;34m\u001b[0m\u001b[0m\n\u001b[1;32m    861\u001b[0m     \u001b[0;32mreturn\u001b[0m \u001b[0mres\u001b[0m\u001b[0;34m\u001b[0m\u001b[0;34m\u001b[0m\u001b[0m\n",
      "\u001b[0;31mTypeError\u001b[0m: savefig() takes 2 positional arguments but 3 were given"
     ]
    },
    {
     "data": {
      "text/plain": [
       "<Figure size 432x288 with 0 Axes>"
      ]
     },
     "metadata": {},
     "output_type": "display_data"
    }
   ],
   "source": [
    "hp = seaborn.histplot(data,element=\"step\",binrange=(0,1400),stat='density')\n",
    "#seaborn.histplot([i for i in data[1] if i != 0])\n",
    "plt.legend(handles, labels)\n",
    "plt.xlabel(\"Number of Retweets\")\n",
    "plt.show(hp)\n"
   ]
  },
  {
   "cell_type": "code",
   "execution_count": 50,
   "metadata": {},
   "outputs": [],
   "source": [
    "# Get all of the tweets for all users and split between noviz and viz\n",
    "def splitdata(csv_data) :\n",
    "    viz = []\n",
    "    noviz = []\n",
    "    for tweet in csv_data :\n",
    "        if tweet[-1] == \"True\":\n",
    "            viz.append(int(tweet[6]))\n",
    "        else:\n",
    "            noviz.append(int(tweet[6]))\n",
    "    return [noviz, viz]\n",
    "#### Returns noviz first"
   ]
  },
  {
   "cell_type": "code",
   "execution_count": 70,
   "metadata": {},
   "outputs": [
    {
     "data": {
      "image/png": "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\n",
      "text/plain": [
       "<Figure size 432x288 with 1 Axes>"
      ]
     },
     "metadata": {
      "needs_background": "light"
     },
     "output_type": "display_data"
    }
   ],
   "source": [
    "sgmd = []\n",
    "for line in csv_data:\n",
    "    name = line[1]\n",
    "    if name == \"CDCGov\" :\n",
    "        sgmd.append(line)\n",
    "\n",
    "splitSGMD = splitdata(sgmd)\n",
    "\n",
    "# Creating plot\n",
    "plt.boxplot(splitSGMD, notch=False, showfliers=False, labels=[\"no-viz (n=143)\", \"viz(n=801)\"])\n",
    "plt.ylabel(\"Retweets\")\n",
    "plt.title(\"Response to Tweets by @CDCGov\")\n",
    " \n",
    "# show plot\n",
    "plt.show()"
   ]
  },
  {
   "cell_type": "code",
   "execution_count": 69,
   "metadata": {},
   "outputs": [
    {
     "name": "stdout",
     "output_type": "stream",
     "text": [
      "143\n",
      "801\n"
     ]
    }
   ],
   "source": [
    "print(len(splitSGMD[0]))\n",
    "print(len(splitSGMD[1]))"
   ]
  },
  {
   "cell_type": "code",
   "execution_count": 73,
   "metadata": {},
   "outputs": [
    {
     "name": "stdout",
     "output_type": "stream",
     "text": [
      "2.4229074889867843\n"
     ]
    }
   ],
   "source": [
    "novizt = data[0]\n",
    "vizt = data[1]\n",
    "summer = 0\n",
    "for dat in vizt:\n",
    "    if dat > 1400:\n",
    "        summer+=1\n",
    "print(summer/len(vizt) * 100)"
   ]
  },
  {
   "cell_type": "code",
   "execution_count": 75,
   "metadata": {},
   "outputs": [
    {
     "data": {
      "text/plain": [
       "([<matplotlib.patches.Wedge at 0x7fa183067f70>,\n",
       "  <matplotlib.patches.Wedge at 0x7fa1833d7490>],\n",
       " [Text(0.01149341156094834, 1.0999399535841448, 'NoViz'),\n",
       "  Text(-0.01149341156094823, -1.0999399535841448, 'Viz')])"
      ]
     },
     "execution_count": 75,
     "metadata": {},
     "output_type": "execute_result"
    },
    {
     "data": {
      "image/png": "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\n",
      "text/plain": [
       "<Figure size 432x288 with 1 Axes>"
      ]
     },
     "metadata": {},
     "output_type": "display_data"
    }
   ],
   "source": [
    "plt.pie([len(novizt), len(vizt)] , labels = [\"NoViz\", \"Viz\"])"
   ]
  },
  {
   "cell_type": "code",
   "execution_count": null,
   "metadata": {},
   "outputs": [],
   "source": []
  }
 ],
 "metadata": {
  "kernelspec": {
   "display_name": "Python 3",
   "language": "python",
   "name": "python3"
  },
  "language_info": {
   "codemirror_mode": {
    "name": "ipython",
    "version": 3
   },
   "file_extension": ".py",
   "mimetype": "text/x-python",
   "name": "python",
   "nbconvert_exporter": "python",
   "pygments_lexer": "ipython3",
   "version": "3.8.5"
  }
 },
 "nbformat": 4,
 "nbformat_minor": 4
}

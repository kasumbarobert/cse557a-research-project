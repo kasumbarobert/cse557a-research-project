{
 "cells": [
  {
   "cell_type": "code",
   "execution_count": 1,
   "metadata": {},
   "outputs": [],
   "source": [
    "import matplotlib as mpl\n",
    "import matplotlib.pyplot as plt\n",
    "import numpy as np\n",
    "from scipy.stats import norm\n",
    "import matplotlib.mlab as mlab\n",
    "import matplotlib.pyplot as plt\n",
    "from matplotlib.ticker import PercentFormatter\n",
    "import seaborn\n",
    "from matplotlib.patches import Rectangle\n",
    "import pandas as pd"
   ]
  },
  {
   "cell_type": "code",
   "execution_count": 2,
   "metadata": {
    "scrolled": true
   },
   "outputs": [
    {
     "data": {
      "text/html": [
       "<div>\n",
       "<style scoped>\n",
       "    .dataframe tbody tr th:only-of-type {\n",
       "        vertical-align: middle;\n",
       "    }\n",
       "\n",
       "    .dataframe tbody tr th {\n",
       "        vertical-align: top;\n",
       "    }\n",
       "\n",
       "    .dataframe thead th {\n",
       "        text-align: right;\n",
       "    }\n",
       "</style>\n",
       "<table border=\"1\" class=\"dataframe\">\n",
       "  <thead>\n",
       "    <tr style=\"text-align: right;\">\n",
       "      <th></th>\n",
       "      <th>tweet_id</th>\n",
       "      <th>user</th>\n",
       "      <th>text</th>\n",
       "      <th>date</th>\n",
       "      <th>retweets</th>\n",
       "      <th>replies</th>\n",
       "      <th>likes</th>\n",
       "      <th>quotes</th>\n",
       "      <th>has_viz</th>\n",
       "    </tr>\n",
       "  </thead>\n",
       "  <tbody>\n",
       "    <tr>\n",
       "      <th>0</th>\n",
       "      <td>1331672421636726791</td>\n",
       "      <td>abmakulec</td>\n",
       "      <td>@AlbertoCairo Clearly my brain operates on a s...</td>\n",
       "      <td>11/25/2020 18:53:41</td>\n",
       "      <td>0</td>\n",
       "      <td>1</td>\n",
       "      <td>1</td>\n",
       "      <td>0</td>\n",
       "      <td>False</td>\n",
       "    </tr>\n",
       "    <tr>\n",
       "      <th>1</th>\n",
       "      <td>1331629580558487552</td>\n",
       "      <td>abmakulec</td>\n",
       "      <td>@AlbertoCairo The vaccine misinformation being...</td>\n",
       "      <td>11/25/2020 16:03:27</td>\n",
       "      <td>0</td>\n",
       "      <td>1</td>\n",
       "      <td>4</td>\n",
       "      <td>0</td>\n",
       "      <td>False</td>\n",
       "    </tr>\n",
       "    <tr>\n",
       "      <th>2</th>\n",
       "      <td>1331616851319730180</td>\n",
       "      <td>abmakulec</td>\n",
       "      <td>@sanjaygreddy @FILWD @AlexKale17 @CGDev @RANDC...</td>\n",
       "      <td>11/25/2020 15:12:52</td>\n",
       "      <td>0</td>\n",
       "      <td>0</td>\n",
       "      <td>1</td>\n",
       "      <td>0</td>\n",
       "      <td>False</td>\n",
       "    </tr>\n",
       "    <tr>\n",
       "      <th>3</th>\n",
       "      <td>1331599424880058369</td>\n",
       "      <td>abmakulec</td>\n",
       "      <td>@FILWD @AlexKale17 @CGDev @RANDCorporation @bm...</td>\n",
       "      <td>11/25/2020 14:03:37</td>\n",
       "      <td>0</td>\n",
       "      <td>0</td>\n",
       "      <td>1</td>\n",
       "      <td>0</td>\n",
       "      <td>False</td>\n",
       "    </tr>\n",
       "    <tr>\n",
       "      <th>4</th>\n",
       "      <td>1331597345235083264</td>\n",
       "      <td>abmakulec</td>\n",
       "      <td>@FILWD @AlexKale17 @CGDev .@RANDCorporation ma...</td>\n",
       "      <td>11/25/2020 13:55:21</td>\n",
       "      <td>0</td>\n",
       "      <td>1</td>\n",
       "      <td>1</td>\n",
       "      <td>0</td>\n",
       "      <td>False</td>\n",
       "    </tr>\n",
       "  </tbody>\n",
       "</table>\n",
       "</div>"
      ],
      "text/plain": [
       "              tweet_id       user  \\\n",
       "0  1331672421636726791  abmakulec   \n",
       "1  1331629580558487552  abmakulec   \n",
       "2  1331616851319730180  abmakulec   \n",
       "3  1331599424880058369  abmakulec   \n",
       "4  1331597345235083264  abmakulec   \n",
       "\n",
       "                                                text                 date  \\\n",
       "0  @AlbertoCairo Clearly my brain operates on a s...  11/25/2020 18:53:41   \n",
       "1  @AlbertoCairo The vaccine misinformation being...  11/25/2020 16:03:27   \n",
       "2  @sanjaygreddy @FILWD @AlexKale17 @CGDev @RANDC...  11/25/2020 15:12:52   \n",
       "3  @FILWD @AlexKale17 @CGDev @RANDCorporation @bm...  11/25/2020 14:03:37   \n",
       "4  @FILWD @AlexKale17 @CGDev .@RANDCorporation ma...  11/25/2020 13:55:21   \n",
       "\n",
       "   retweets  replies  likes  quotes  has_viz  \n",
       "0         0        1      1       0    False  \n",
       "1         0        1      4       0    False  \n",
       "2         0        0      1       0    False  \n",
       "3         0        0      1       0    False  \n",
       "4         0        1      1       0    False  "
      ]
     },
     "execution_count": 2,
     "metadata": {},
     "output_type": "execute_result"
    }
   ],
   "source": [
    "df = pd.read_csv('data/combined_tweets.csv')\n",
    "df.head()"
   ]
  },
  {
   "cell_type": "code",
   "execution_count": 3,
   "metadata": {},
   "outputs": [
    {
     "data": {
      "text/plain": [
       "0           2\n",
       "1           5\n",
       "2           1\n",
       "3           1\n",
       "4           2\n",
       "         ... \n",
       "16239      76\n",
       "16240     947\n",
       "16241     257\n",
       "16242     297\n",
       "16243    3298\n",
       "Name: engagements, Length: 16244, dtype: int64"
      ]
     },
     "execution_count": 3,
     "metadata": {},
     "output_type": "execute_result"
    }
   ],
   "source": [
    "sum_rt = df[\"retweets\"].tolist()\n",
    "sum_rep = df[\"replies\"].tolist()\n",
    "sum_likes = df[\"likes\"].tolist()\n",
    "sum_quotes = df[\"quotes\"].tolist()\n",
    "\n",
    "engagements = []\n",
    "\n",
    "for index in range(len(sum_rt)):\n",
    "    sum_eng = sum_rt[index] + sum_rep[index] + sum_likes[index] + sum_quotes[index]\n",
    "    engagements.append(sum_eng)\n",
    "\n",
    "df[\"engagements\"] = engagements\n",
    "df[\"engagements\"]"
   ]
  },
  {
   "cell_type": "code",
   "execution_count": 4,
   "metadata": {},
   "outputs": [],
   "source": [
    "viz_df = df.loc[df[\"has_viz\"] == True]\n",
    "nonviz_df = df.loc[df[\"has_viz\"] == False]"
   ]
  },
  {
   "cell_type": "code",
   "execution_count": 5,
   "metadata": {},
   "outputs": [
    {
     "data": {
      "text/plain": [
       "Index(['tweet_id', 'user', 'text', 'date', 'retweets', 'replies', 'likes',\n",
       "       'quotes', 'has_viz', 'engagements'],\n",
       "      dtype='object')"
      ]
     },
     "execution_count": 5,
     "metadata": {},
     "output_type": "execute_result"
    }
   ],
   "source": [
    "nonviz_df.columns"
   ]
  },
  {
   "cell_type": "code",
   "execution_count": 6,
   "metadata": {},
   "outputs": [],
   "source": [
    "noviz = nonviz_df[\"likes\"].tolist()\n",
    "viz = viz_df[\"likes\"].tolist()\n",
    "\n",
    "data = [noviz, viz]"
   ]
  },
  {
   "cell_type": "code",
   "execution_count": 7,
   "metadata": {},
   "outputs": [
    {
     "data": {
      "text/plain": [
       "<Figure size 720x504 with 0 Axes>"
      ]
     },
     "metadata": {},
     "output_type": "display_data"
    }
   ],
   "source": [
    "fig = plt.figure(figsize =(10, 7))"
   ]
  },
  {
   "cell_type": "code",
   "execution_count": 8,
   "metadata": {},
   "outputs": [
    {
     "data": {
      "image/png": "[encoded data removed]",
      "text/plain": [
       "<Figure size 432x288 with 1 Axes>"
      ]
     },
     "metadata": {
      "needs_background": "light"
     },
     "output_type": "display_data"
    }
   ],
   "source": [
    "# Creating plot\n",
    "plt.boxplot(data, notch=False, showfliers=False, labels=[\"no-viz\", \"viz\"])\n",
    "plt.ylabel(\"Retweets\")\n",
    " \n",
    "# show plot\n",
    "plt.show()"
   ]
  },
  {
   "cell_type": "code",
   "execution_count": 9,
   "metadata": {},
   "outputs": [],
   "source": [
    "a = np.histogram(viz)"
   ]
  },
  {
   "cell_type": "code",
   "execution_count": 10,
   "metadata": {},
   "outputs": [],
   "source": [
    "def buildBins(min = 0, spacing = 1, numbins = 10) :\n",
    "    ret = [min + float(x)*spacing for x in range(numbins)]\n",
    "    return ret\n",
    "\n",
    "def binCenters(bins):\n",
    "    mids = []\n",
    "    for i in range(len(bins)-1) :\n",
    "        lower = bins[i]\n",
    "        upper = bins[i+1]\n",
    "        mid = (lower + upper) / 2\n",
    "        mids.append(mid)\n",
    "    return mids\n",
    "\n"
   ]
  },
  {
   "cell_type": "code",
   "execution_count": 11,
   "metadata": {},
   "outputs": [
    {
     "name": "stdout",
     "output_type": "stream",
     "text": [
      "0.01999999999999999\n"
     ]
    },
    {
     "data": {
      "image/png": "[encoded data removed]",
      "text/plain": [
       "<Figure size 432x288 with 1 Axes>"
      ]
     },
     "metadata": {
      "needs_background": "light"
     },
     "output_type": "display_data"
    }
   ],
   "source": [
    "# Build the bins by user pref\n",
    "bins = buildBins(min = 1, spacing = 50, numbins = 30)\n",
    "\n",
    "# The top subplot is classic histo\n",
    "n, x, _ = plt.hist(data, bins = bins, density = True)\n",
    "\n",
    "colors = [\"orange\", \"blue\"]\n",
    "handles = [Rectangle((0, 0), 1, 1, color=c, ec=\"k\") for c in colors]\n",
    "labels = [\"Viz\", \"No Viz\"]\n",
    "plt.legend(handles, labels)\n",
    "\n",
    "print(sum(n[1]))\n",
    "#plt.close()\n",
    "\n",
    "# # The bottom sublplot is a line \n",
    "# plt.subplot(212)\n",
    "# bin_centers = binCenters(bins)\n",
    "# plt.gca().yaxis.set_major_formatter(PercentFormatter(1))\n",
    "# plt.plot(bin_centers, n[1], '-', c='red', label=\"Viz\")\n",
    "# plt.plot(bin_centers, n[0], '-', c='blue', label=\"No Viz\")\n",
    "# plt.title(\"Percent of Tweets (Viz & No Viz) Classified by Number of Retweets\")\n",
    "# plt.xlabel(\"Number of Retweets\")\n",
    "# plt.ylabel(\"Percent of Tweets\")\n",
    "# plt.legend(loc=\"upper right\")\n",
    "# # Show the plots\n",
    "plt.show()"
   ]
  },
  {
   "cell_type": "code",
   "execution_count": 12,
   "metadata": {},
   "outputs": [
    {
     "name": "stdout",
     "output_type": "stream",
     "text": [
      "[[1.18957226e-02 2.36902050e-03 1.41230068e-03 8.90913693e-04\n",
      "  5.16324981e-04 4.20146798e-04 3.56871678e-04 2.58162491e-04\n",
      "  2.45507466e-04 1.89825361e-04 1.59453303e-04 1.31612250e-04\n",
      "  1.11364212e-04 1.11364212e-04 9.61781827e-05 9.61781827e-05\n",
      "  9.61781827e-05 8.60541635e-05 6.07441154e-05 6.32751202e-05\n",
      "  7.08681346e-05 5.82131106e-05 4.55580866e-05 3.79650721e-05\n",
      "  3.54340673e-05 3.54340673e-05 4.04960769e-05 5.56821058e-05\n",
      "  5.31511010e-05]\n",
      " [5.34120251e-03 3.62965695e-03 2.56731833e-03 1.79269642e-03\n",
      "  1.29841387e-03 8.18886020e-04 7.22980450e-04 6.19697529e-04\n",
      "  4.64773146e-04 3.98376983e-04 3.61490225e-04 2.21320546e-04\n",
      "  2.06565843e-04 2.36075249e-04 1.62301734e-04 1.40169679e-04\n",
      "  1.47547031e-04 9.59055699e-05 9.59055699e-05 1.03282921e-04\n",
      "  7.37735153e-05 1.03282921e-04 8.11508668e-05 6.63961638e-05\n",
      "  7.37735153e-05 6.63961638e-05 4.42641092e-05 3.68867577e-05\n",
      "  2.95094061e-05]]\n"
     ]
    }
   ],
   "source": [
    "print(n)"
   ]
  },
  {
   "cell_type": "code",
   "execution_count": 13,
   "metadata": {},
   "outputs": [
    {
     "data": {
      "image/png": "[encoded data removed]",
      "text/plain": [
       "<Figure size 432x288 with 1 Axes>"
      ]
     },
     "metadata": {
      "needs_background": "light"
     },
     "output_type": "display_data"
    }
   ],
   "source": [
    "hp = seaborn.histplot(data,element=\"step\",binrange=(100,1500),stat='density', common_norm=False, fill=False)\n",
    "#hp = plt.hist(data, density = True, binrange=(100,1500))\n",
    "plt.legend(handles, labels)\n",
    "plt.xlabel(\"Number of Retweets\")\n",
    "plt.xticks(np.arange(100, 1400, 200))\n",
    "plt.title(r\"Retweet Occurrence for Tweets : $100\\leq$Retweets$\\leq$1500\")\n",
    "#plt.title(r'$\\alpha\\leq\\beta$')\n",
    "plt.show(hp)\n"
   ]
  },
  {
   "cell_type": "code",
   "execution_count": 27,
   "metadata": {},
   "outputs": [
    {
     "name": "stdout",
     "output_type": "stream",
     "text": [
      "[26, 0, 0, 42, 0, 41, 0, 0, 0, 0, 48, 0, 95, 0, 37, 126, 0, 31, 0, 42, 40, 0, 106, 0, 0, 39, 0, 0, 0, 1447, 16106, 60, 184, 119, 44, 126, 58, 160, 126, 212, 1811, 45, 0, 132, 1080, 0, 893, 32, 78, 68, 56, 0, 0, 572, 0, 48, 285, 104, 87, 58, 42, 70, 454, 111, 669, 409, 174, 30, 480, 82, 73, 52, 393, 26, 426, 0, 492, 98, 93, 0, 2759, 2326, 710, 112, 0, 351, 213, 2017, 407, 265, 0, 293, 221, 0, 139, 25, 39, 17, 13, 13, 53, 32, 33, 46, 189, 551, 277, 51, 70, 204, 0, 49, 0, 929, 36, 268, 351, 78, 156, 31, 2774, 0, 102, 0, 109, 45, 51, 145, 87, 0, 0, 108, 0, 133, 59, 0, 34, 0, 0, 104, 0]\n",
      "noviz n = 141\n",
      "viz n = 753\n"
     ]
    },
    {
     "data": {
      "image/png": "[encoded data removed]",
      "text/plain": [
       "<Figure size 432x288 with 1 Axes>"
      ]
     },
     "metadata": {
      "needs_background": "light"
     },
     "output_type": "display_data"
    }
   ],
   "source": [
    "def baw_likes(authorname):\n",
    "    noviz_func_df = nonviz_df.loc[nonviz_df[\"user\"] == authorname]\n",
    "    viz_func_df = viz_df.loc[viz_df[\"user\"] == authorname]\n",
    "    \n",
    "    noviz = noviz_func_df[\"likes\"].tolist()\n",
    "    viz = viz_func_df[\"likes\"].tolist()\n",
    "    \n",
    "    print(noviz)\n",
    "\n",
    "    data = [noviz, viz]\n",
    "    \n",
    "    # Creating plot\n",
    "    print(\"noviz n = \" + str(len(data[0])))\n",
    "    print(\"viz n = \" + str(len(data[1])))\n",
    "    plt.boxplot(data, notch=False, showfliers=False, labels=[\"no-viz (n=\" + str(len(data[0])) + \")\", \"viz(n=\" + str(len(data[1])) + \")\"])\n",
    "    plt.ylabel(\"Likes\")\n",
    "    plt.title(\"Response to Tweets by @\"+authorname)\n",
    "\n",
    "    # show plot\n",
    "    plt.show()\n",
    "    \n",
    "baw_likes(\"CDCGov\")"
   ]
  },
  {
   "cell_type": "code",
   "execution_count": 15,
   "metadata": {
    "collapsed": true
   },
   "outputs": [
    {
     "name": "stdout",
     "output_type": "stream",
     "text": [
      "noviz n = 593\n",
      "viz n = 259\n"
     ]
    },
    {
     "data": {
      "image/png": "[encoded data removed]",
      "text/plain": [
       "<Figure size 432x288 with 1 Axes>"
      ]
     },
     "metadata": {
      "needs_background": "light"
     },
     "output_type": "display_data"
    },
    {
     "name": "stdout",
     "output_type": "stream",
     "text": [
      "noviz n = 212\n",
      "viz n = 25\n"
     ]
    },
    {
     "data": {
      "image/png": "[encoded data removed]",
      "text/plain": [
       "<Figure size 432x288 with 1 Axes>"
      ]
     },
     "metadata": {
      "needs_background": "light"
     },
     "output_type": "display_data"
    },
    {
     "name": "stdout",
     "output_type": "stream",
     "text": [
      "noviz n = 626\n",
      "viz n = 68\n"
     ]
    },
    {
     "data": {
      "image/png": "[encoded data removed]",
      "text/plain": [
       "<Figure size 432x288 with 1 Axes>"
      ]
     },
     "metadata": {
      "needs_background": "light"
     },
     "output_type": "display_data"
    },
    {
     "name": "stdout",
     "output_type": "stream",
     "text": [
      "noviz n = 446\n",
      "viz n = 47\n"
     ]
    },
    {
     "data": {
      "image/png": "[encoded data removed]",
      "text/plain": [
       "<Figure size 432x288 with 1 Axes>"
      ]
     },
     "metadata": {
      "needs_background": "light"
     },
     "output_type": "display_data"
    }
   ],
   "source": [
    "baw_likes(\"Surgeon_General\")\n",
    "baw_likes(\"ScottGottliebMD\")\n",
    "baw_likes(\"DrTomFrieden\")\n",
    "baw_likes(\"JohnsHopkinsSPH\")"
   ]
  },
  {
   "cell_type": "code",
   "execution_count": 19,
   "metadata": {
    "collapsed": true
   },
   "outputs": [
    {
     "data": {
      "text/html": [
       "<div>\n",
       "<style scoped>\n",
       "    .dataframe tbody tr th:only-of-type {\n",
       "        vertical-align: middle;\n",
       "    }\n",
       "\n",
       "    .dataframe tbody tr th {\n",
       "        vertical-align: top;\n",
       "    }\n",
       "\n",
       "    .dataframe thead th {\n",
       "        text-align: right;\n",
       "    }\n",
       "</style>\n",
       "<table border=\"1\" class=\"dataframe\">\n",
       "  <thead>\n",
       "    <tr style=\"text-align: right;\">\n",
       "      <th></th>\n",
       "      <th>tweet_id</th>\n",
       "      <th>user</th>\n",
       "      <th>text</th>\n",
       "      <th>date</th>\n",
       "      <th>retweets</th>\n",
       "      <th>replies</th>\n",
       "      <th>likes</th>\n",
       "      <th>quotes</th>\n",
       "      <th>has_viz</th>\n",
       "      <th>engagements</th>\n",
       "    </tr>\n",
       "  </thead>\n",
       "  <tbody>\n",
       "    <tr>\n",
       "      <th>0</th>\n",
       "      <td>1331672421636726791</td>\n",
       "      <td>abmakulec</td>\n",
       "      <td>@AlbertoCairo Clearly my brain operates on a s...</td>\n",
       "      <td>11/25/2020 18:53:41</td>\n",
       "      <td>0</td>\n",
       "      <td>1</td>\n",
       "      <td>1</td>\n",
       "      <td>0</td>\n",
       "      <td>False</td>\n",
       "      <td>2</td>\n",
       "    </tr>\n",
       "    <tr>\n",
       "      <th>1</th>\n",
       "      <td>1331629580558487552</td>\n",
       "      <td>abmakulec</td>\n",
       "      <td>@AlbertoCairo The vaccine misinformation being...</td>\n",
       "      <td>11/25/2020 16:03:27</td>\n",
       "      <td>0</td>\n",
       "      <td>1</td>\n",
       "      <td>4</td>\n",
       "      <td>0</td>\n",
       "      <td>False</td>\n",
       "      <td>5</td>\n",
       "    </tr>\n",
       "    <tr>\n",
       "      <th>2</th>\n",
       "      <td>1331616851319730180</td>\n",
       "      <td>abmakulec</td>\n",
       "      <td>@sanjaygreddy @FILWD @AlexKale17 @CGDev @RANDC...</td>\n",
       "      <td>11/25/2020 15:12:52</td>\n",
       "      <td>0</td>\n",
       "      <td>0</td>\n",
       "      <td>1</td>\n",
       "      <td>0</td>\n",
       "      <td>False</td>\n",
       "      <td>1</td>\n",
       "    </tr>\n",
       "    <tr>\n",
       "      <th>3</th>\n",
       "      <td>1331599424880058369</td>\n",
       "      <td>abmakulec</td>\n",
       "      <td>@FILWD @AlexKale17 @CGDev @RANDCorporation @bm...</td>\n",
       "      <td>11/25/2020 14:03:37</td>\n",
       "      <td>0</td>\n",
       "      <td>0</td>\n",
       "      <td>1</td>\n",
       "      <td>0</td>\n",
       "      <td>False</td>\n",
       "      <td>1</td>\n",
       "    </tr>\n",
       "    <tr>\n",
       "      <th>4</th>\n",
       "      <td>1331597345235083264</td>\n",
       "      <td>abmakulec</td>\n",
       "      <td>@FILWD @AlexKale17 @CGDev .@RANDCorporation ma...</td>\n",
       "      <td>11/25/2020 13:55:21</td>\n",
       "      <td>0</td>\n",
       "      <td>1</td>\n",
       "      <td>1</td>\n",
       "      <td>0</td>\n",
       "      <td>False</td>\n",
       "      <td>2</td>\n",
       "    </tr>\n",
       "    <tr>\n",
       "      <th>...</th>\n",
       "      <td>...</td>\n",
       "      <td>...</td>\n",
       "      <td>...</td>\n",
       "      <td>...</td>\n",
       "      <td>...</td>\n",
       "      <td>...</td>\n",
       "      <td>...</td>\n",
       "      <td>...</td>\n",
       "      <td>...</td>\n",
       "      <td>...</td>\n",
       "    </tr>\n",
       "    <tr>\n",
       "      <th>16236</th>\n",
       "      <td>1518978521699389441</td>\n",
       "      <td>WHO</td>\n",
       "      <td>@DrTedros @ECDC_EU \"But this [#COVID19] virus ...</td>\n",
       "      <td>04/26/2022 15:41:15</td>\n",
       "      <td>55</td>\n",
       "      <td>6</td>\n",
       "      <td>76</td>\n",
       "      <td>8</td>\n",
       "      <td>False</td>\n",
       "      <td>145</td>\n",
       "    </tr>\n",
       "    <tr>\n",
       "      <th>16237</th>\n",
       "      <td>1518978209496326144</td>\n",
       "      <td>WHO</td>\n",
       "      <td>@DrTedros @ECDC_EU \"Globally, reported #COVID1...</td>\n",
       "      <td>04/26/2022 15:40:01</td>\n",
       "      <td>24</td>\n",
       "      <td>8</td>\n",
       "      <td>66</td>\n",
       "      <td>1</td>\n",
       "      <td>False</td>\n",
       "      <td>99</td>\n",
       "    </tr>\n",
       "    <tr>\n",
       "      <th>16238</th>\n",
       "      <td>1518974430185021440</td>\n",
       "      <td>WHO</td>\n",
       "      <td>LIVE: Media briefing on #COVID19 and other glo...</td>\n",
       "      <td>04/26/2022 15:24:59</td>\n",
       "      <td>210</td>\n",
       "      <td>136</td>\n",
       "      <td>517</td>\n",
       "      <td>28</td>\n",
       "      <td>False</td>\n",
       "      <td>891</td>\n",
       "    </tr>\n",
       "    <tr>\n",
       "      <th>16240</th>\n",
       "      <td>1518677420483784704</td>\n",
       "      <td>WHO</td>\n",
       "      <td>RT @WHO: Vaccines accompany us through our lif...</td>\n",
       "      <td>04/25/2022 19:44:47</td>\n",
       "      <td>947</td>\n",
       "      <td>0</td>\n",
       "      <td>0</td>\n",
       "      <td>0</td>\n",
       "      <td>False</td>\n",
       "      <td>947</td>\n",
       "    </tr>\n",
       "    <tr>\n",
       "      <th>16243</th>\n",
       "      <td>1518489644161277952</td>\n",
       "      <td>WHO</td>\n",
       "      <td>Vaccines accompany us through our life-course ...</td>\n",
       "      <td>04/25/2022 07:18:37</td>\n",
       "      <td>947</td>\n",
       "      <td>140</td>\n",
       "      <td>2140</td>\n",
       "      <td>71</td>\n",
       "      <td>False</td>\n",
       "      <td>3298</td>\n",
       "    </tr>\n",
       "  </tbody>\n",
       "</table>\n",
       "<p>13292 rows × 10 columns</p>\n",
       "</div>"
      ],
      "text/plain": [
       "                  tweet_id       user  \\\n",
       "0      1331672421636726791  abmakulec   \n",
       "1      1331629580558487552  abmakulec   \n",
       "2      1331616851319730180  abmakulec   \n",
       "3      1331599424880058369  abmakulec   \n",
       "4      1331597345235083264  abmakulec   \n",
       "...                    ...        ...   \n",
       "16236  1518978521699389441        WHO   \n",
       "16237  1518978209496326144        WHO   \n",
       "16238  1518974430185021440        WHO   \n",
       "16240  1518677420483784704        WHO   \n",
       "16243  1518489644161277952        WHO   \n",
       "\n",
       "                                                    text                 date  \\\n",
       "0      @AlbertoCairo Clearly my brain operates on a s...  11/25/2020 18:53:41   \n",
       "1      @AlbertoCairo The vaccine misinformation being...  11/25/2020 16:03:27   \n",
       "2      @sanjaygreddy @FILWD @AlexKale17 @CGDev @RANDC...  11/25/2020 15:12:52   \n",
       "3      @FILWD @AlexKale17 @CGDev @RANDCorporation @bm...  11/25/2020 14:03:37   \n",
       "4      @FILWD @AlexKale17 @CGDev .@RANDCorporation ma...  11/25/2020 13:55:21   \n",
       "...                                                  ...                  ...   \n",
       "16236  @DrTedros @ECDC_EU \"But this [#COVID19] virus ...  04/26/2022 15:41:15   \n",
       "16237  @DrTedros @ECDC_EU \"Globally, reported #COVID1...  04/26/2022 15:40:01   \n",
       "16238  LIVE: Media briefing on #COVID19 and other glo...  04/26/2022 15:24:59   \n",
       "16240  RT @WHO: Vaccines accompany us through our lif...  04/25/2022 19:44:47   \n",
       "16243  Vaccines accompany us through our life-course ...  04/25/2022 07:18:37   \n",
       "\n",
       "       retweets  replies  likes  quotes  has_viz  engagements  \n",
       "0             0        1      1       0    False            2  \n",
       "1             0        1      4       0    False            5  \n",
       "2             0        0      1       0    False            1  \n",
       "3             0        0      1       0    False            1  \n",
       "4             0        1      1       0    False            2  \n",
       "...         ...      ...    ...     ...      ...          ...  \n",
       "16236        55        6     76       8    False          145  \n",
       "16237        24        8     66       1    False           99  \n",
       "16238       210      136    517      28    False          891  \n",
       "16240       947        0      0       0    False          947  \n",
       "16243       947      140   2140      71    False         3298  \n",
       "\n",
       "[13292 rows x 10 columns]"
      ]
     },
     "execution_count": 19,
     "metadata": {},
     "output_type": "execute_result"
    }
   ],
   "source": [
    "nonviz_df"
   ]
  },
  {
   "cell_type": "code",
   "execution_count": 30,
   "metadata": {},
   "outputs": [
    {
     "name": "stdout",
     "output_type": "stream",
     "text": [
      "noviz n = 141\n",
      "viz n = 753\n"
     ]
    },
    {
     "data": {
      "image/png": "[encoded data removed]",
      "text/plain": [
       "<Figure size 432x288 with 1 Axes>"
      ]
     },
     "metadata": {
      "needs_background": "light"
     },
     "output_type": "display_data"
    }
   ],
   "source": [
    "def baw_eng(authorname):\n",
    "    noviz_func_df = nonviz_df.loc[nonviz_df[\"user\"] == authorname]\n",
    "    viz_func_df = viz_df.loc[viz_df[\"user\"] == authorname]\n",
    "    \n",
    "    noviz = noviz_func_df[\"engagements\"].tolist()\n",
    "    viz = viz_func_df[\"engagements\"].tolist()\n",
    "\n",
    "#     print(noviz)\n",
    "    \n",
    "    data = [noviz, viz]\n",
    "    \n",
    "    # Creating plot\n",
    "    print(\"noviz n = \" + str(len(data[0])))\n",
    "    print(\"viz n = \" + str(len(data[1])))\n",
    "    plt.boxplot(data, notch=False, showfliers=False, labels=[\"no-viz (n=\" + str(len(noviz)) + \")\", \"viz(n=\" + str(len(data[1])) + \")\"])\n",
    "    plt.ylabel(\"Engagements\")\n",
    "    plt.title(\"Response to Tweets by @\"+authorname)\n",
    "\n",
    "    # show plot\n",
    "    plt.show()\n",
    "    \n",
    "baw_eng(\"CDCGov\")"
   ]
  },
  {
   "cell_type": "code",
   "execution_count": 21,
   "metadata": {},
   "outputs": [
    {
     "name": "stdout",
     "output_type": "stream",
     "text": [
      "noviz n = 141\n",
      "viz n = 753\n"
     ]
    },
    {
     "data": {
      "image/png": "[encoded data removed]",
      "text/plain": [
       "<Figure size 432x288 with 1 Axes>"
      ]
     },
     "metadata": {
      "needs_background": "light"
     },
     "output_type": "display_data"
    }
   ],
   "source": [
    "baw_likes(\"CDCGov\")"
   ]
  },
  {
   "cell_type": "code",
   "execution_count": 17,
   "metadata": {},
   "outputs": [
    {
     "name": "stdout",
     "output_type": "stream",
     "text": [
      "5.013550135501355\n"
     ]
    }
   ],
   "source": [
    "novizt = data[0]\n",
    "vizt = data[1]\n",
    "summer = 0\n",
    "for dat in vizt:\n",
    "    if dat > 1400:\n",
    "        summer+=1\n",
    "print(summer/len(vizt) * 100)"
   ]
  },
  {
   "cell_type": "code",
   "execution_count": 18,
   "metadata": {
    "scrolled": true
   },
   "outputs": [
    {
     "data": {
      "text/plain": [
       "Text(0.5, 1.0, 'Breakdown of Analyzed Tweets')"
      ]
     },
     "execution_count": 18,
     "metadata": {},
     "output_type": "execute_result"
    },
    {
     "data": {
      "image/png": "[encoded data removed]",
      "text/plain": [
       "<Figure size 432x288 with 1 Axes>"
      ]
     },
     "metadata": {},
     "output_type": "display_data"
    }
   ],
   "source": [
    "plt.pie([len(novizt), len(vizt)] , labels = [\"NoViz (n = 1781)\", \"Viz (n = 1193)\"], autopct='%.1f%%')\n",
    "\n",
    "plt.title(\"Breakdown of Analyzed Tweets\")"
   ]
  },
  {
   "cell_type": "code",
   "execution_count": null,
   "metadata": {},
   "outputs": [],
   "source": []
  }
 ],
 "metadata": {
  "kernelspec": {
   "display_name": "Python 3",
   "language": "python",
   "name": "python3"
  },
  "language_info": {
   "codemirror_mode": {
    "name": "ipython",
    "version": 3
   },
   "file_extension": ".py",
   "mimetype": "text/x-python",
   "name": "python",
   "nbconvert_exporter": "python",
   "pygments_lexer": "ipython3",
   "version": "3.8.5"
  }
 },
 "nbformat": 4,
 "nbformat_minor": 4
}

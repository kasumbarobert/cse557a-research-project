{
 "cells": [
  {
   "cell_type": "code",
   "execution_count": 128,
   "metadata": {},
   "outputs": [],
   "source": [
    "import matplotlib.pyplot as plt\n",
    "import numpy as np\n",
    "from scipy.stats import norm\n",
    "import matplotlib\n",
    "import matplotlib.mlab as mlab\n",
    "import matplotlib.pyplot as plt\n",
    "import pandas as pd\n",
    "from ipywidgets import interact, interactive, fixed, interact_manual\n",
    "import ipywidgets as widgets\n",
    "import datetime\n",
    "import warnings\n",
    "warnings.filterwarnings('ignore')\n",
    "plt.rcParams[\"figure.figsize\"] = (16,7)\n",
    "\n",
    "# MAKE SURE ALL OF THESE ARE INSTALLED"
   ]
  },
  {
   "cell_type": "code",
   "execution_count": 129,
   "metadata": {},
   "outputs": [],
   "source": [
    "df = pd.read_csv('data/combined_tweets_filtered.csv')\n",
    "users = df[\"user\"].unique()"
   ]
  },
  {
   "cell_type": "code",
   "execution_count": 130,
   "metadata": {},
   "outputs": [],
   "source": [
    "def get_engagements(df):\n",
    "    viz_df = df.loc[df[\"has_viz\"] == True]\n",
    "    no_viz_df = df.loc[df[\"has_viz\"] == False]\n",
    "    \n",
    "    viz_retweets = viz_df[\"retweets\"].sum()\n",
    "    viz_replies = viz_df[\"replies\"].sum()\n",
    "    viz_likes = viz_df[\"likes\"].sum()\n",
    "    viz_quotes = viz_df[\"quotes\"].sum()\n",
    "    \n",
    "    no_viz_retweets = no_viz_df[\"retweets\"].sum()\n",
    "    no_viz_replies = no_viz_df[\"replies\"].sum()\n",
    "    no_viz_likes = no_viz_df[\"likes\"].sum()\n",
    "    no_viz_quotes = no_viz_df[\"quotes\"].sum()\n",
    "    \n",
    "    viz_engagements = viz_retweets + viz_replies + viz_likes + viz_quotes\n",
    "    no_viz_engagements = no_viz_retweets + no_viz_replies + no_viz_likes + no_viz_quotes\n",
    "    \n",
    "    total_engagements = viz_engagements + no_viz_engagements\n",
    "    \n",
    "    non_viz_tweets = len(no_viz_df)\n",
    "    viz_tweets = len(viz_df)\n",
    "    \n",
    "#     print(\"viz tweets:\", viz_tweets)\n",
    "#     print(\"non viz tweets:\", non_viz_tweets)\n",
    "    \n",
    "#     print(\"visualization tweet engagements: \", viz_engagements)\n",
    "#     print(\"no visualization tweet engagements: \", no_viz_engagements)\n",
    "#     print(\"total engagements: \", total_engagements)\n",
    "    \n",
    "    return viz_engagements, no_viz_engagements "
   ]
  },
  {
   "cell_type": "code",
   "execution_count": 131,
   "metadata": {},
   "outputs": [],
   "source": [
    "def get_tweets(df):\n",
    "    viz_df = df.loc[df[\"has_viz\"] == True]\n",
    "    no_viz_df = df.loc[df[\"has_viz\"] == False]\n",
    "    \n",
    "    non_viz_tweets = len(no_viz_df)\n",
    "    viz_tweets = len(viz_df)\n",
    "    \n",
    "    return viz_tweets, non_viz_tweets"
   ]
  },
  {
   "cell_type": "code",
   "execution_count": 132,
   "metadata": {},
   "outputs": [],
   "source": [
    "def show_agg_pies(df):\n",
    "    all_viz_tweets = df.loc[df[\"has_viz\"] == True]\n",
    "    no_viz_tweets = df.loc[df[\"has_viz\"] == False]\n",
    "    \n",
    "    labels = 'Viz', ' No-Viz'\n",
    "    all_viz_tweets = len(all_viz_tweets)\n",
    "    no_viz_tweets = len(no_viz_tweets)\n",
    "    \n",
    "#     all_viz_tweets, non_viz_tweets = len(all_viz_tweets), len(no_viz_tweets)\n",
    "    sizes = []\n",
    "    sizes.append(all_viz_tweets)\n",
    "    sizes.append(no_viz_tweets)\n",
    "    \n",
    "    tweet_label = 'Viz: ' + str(all_viz_tweets)\n",
    "    no_tweet_label = 'No-viz: ' + str(no_viz_tweets)\n",
    "    \n",
    "    legend_labels_1 = tweet_label, no_tweet_label\n",
    "    \n",
    "    #----------------------------------------------------------------------------#\n",
    "    \n",
    "    # Pie chart, where the slices will be ordered and plotted counter-clockwise:\n",
    "    labels_eng = 'Viz ', 'Non-Viz '\n",
    "    viz_engagements, non_viz_engagements = get_engagements(df)\n",
    "    sizes_eng = []\n",
    "    sizes_eng.append(viz_engagements)\n",
    "    sizes_eng.append(non_viz_engagements)\n",
    "    \n",
    "    eng_viz_label = 'Viz : ' + str(viz_engagements)\n",
    "    eng_noviz_label = 'Non-Viz : ' + str(non_viz_engagements)\n",
    "    legend_labels_2 = eng_viz_label, eng_noviz_label\n",
    "    \n",
    "    \n",
    "    #----------------------------------------------------------------------------#\n",
    "    \n",
    "    fig, (ax1, ax2) = plt.subplots(1, 2)\n",
    "    \n",
    "    ax1.pie(sizes, labels=labels, autopct='%1.1f%%',\n",
    "            shadow=True, startangle=90)\n",
    "    ax1.axis('equal')\n",
    "    ax1.set_title(\"All tweets distribution\")\n",
    "    ax1.legend(legend_labels_1)\n",
    "    \n",
    "    ax2.pie(sizes_eng, labels=labels_eng, autopct='%1.1f%%',\n",
    "            shadow=True, startangle=90)\n",
    "    ax2.axis('equal')  # Equal aspect ratio ensures that pie is drawn as a circle.\n",
    "    ax2.set_title(\"Proportion of Engagements\")\n",
    "    ax2.legend(legend_labels_2)\n",
    "    \n",
    "    \n",
    "    fig.suptitle('Overall engagement statistics')\n",
    "\n",
    "    plt.tight_layout()\n",
    "    \n",
    "    \n",
    "    #-----------------------------------------------------------------------------#\n",
    "\n",
    "#     plt.show()"
   ]
  },
  {
   "cell_type": "code",
   "execution_count": 133,
   "metadata": {},
   "outputs": [],
   "source": [
    "def show_pies(disp_df, authorname):\n",
    "    # Pie chart, where the slices will be ordered and plotted counter-clockwise:\n",
    "    labels = 'Viz ', 'Non-Viz '\n",
    "    viz_engagements, non_viz_engagements = get_engagements(disp_df)\n",
    "    sizes = []\n",
    "    sizes.append(viz_engagements)\n",
    "    sizes.append(non_viz_engagements)\n",
    "    \n",
    "    viz_label = 'Viz: ' + str(viz_engagements)\n",
    "    non_viz_label = 'Non-viz: ' + str(non_viz_engagements)\n",
    "    \n",
    "    legend_labels_1 = viz_label, non_viz_label\n",
    "    \n",
    "    #----------------------------------------------------------------------------#\n",
    "    \n",
    "    # Pie chart, where the slices will be ordered and plotted counter-clockwise:\n",
    "    labels2 = 'Viz', ' Viz'\n",
    "    viz_tweets, non_viz_tweets = get_tweets(disp_df)\n",
    "    sizes_2 = []\n",
    "    sizes_2.append(viz_tweets)\n",
    "    sizes_2.append(non_viz_tweets)\n",
    "    \n",
    "    tweet_label = 'Tweets with viz: ' + str(viz_tweets)\n",
    "    no_tweet_label = 'Tweets without viz: ' + str(non_viz_tweets)\n",
    "    \n",
    "    legend_labels_2 = tweet_label, no_tweet_label\n",
    "    \n",
    "    #-----------------------------------------------------------------------------#\n",
    "    \n",
    "    fig, (ax1, ax2) = plt.subplots(1, 2)\n",
    "    ax1.pie(sizes, labels=labels, autopct='%1.1f%%',\n",
    "            shadow=True, startangle=90)\n",
    "#     ax1.set_title(\"Proportion of Engagements\")\n",
    "    ax1.axis('equal')\n",
    "    ax1.legend(legend_labels_1)\n",
    "    \n",
    "#     ax2.set_title(\"Tweets with or without visualizations\")\n",
    "    ax2.pie(sizes_2, labels=labels2, autopct='%1.1f%%',\n",
    "            shadow=True, startangle=90)\n",
    "    ax2.axis('equal')\n",
    "    ax2.legend(legend_labels_2)\n",
    "    \n",
    "#     fig.suptitle('Horiziontal subplots')\n",
    "    plt.tight_layout()\n",
    "    \n",
    "    \n",
    "\n",
    "#     plt.show()"
   ]
  },
  {
   "cell_type": "code",
   "execution_count": 134,
   "metadata": {},
   "outputs": [],
   "source": [
    "def show_bars(df, authors):\n",
    "    viz_df = df.loc[df[\"has_viz\"] == True]\n",
    "    no_viz_df = df.loc[df[\"has_viz\"] == False]\n",
    "    \n",
    "    viz_retweets = viz_df[\"retweets\"].sum()\n",
    "    viz_replies = viz_df[\"replies\"].sum()\n",
    "    viz_likes = viz_df[\"likes\"].sum()\n",
    "    viz_quotes = viz_df[\"quotes\"].sum()\n",
    "    \n",
    "    no_viz_retweets = no_viz_df[\"retweets\"].sum()\n",
    "    no_viz_replies = no_viz_df[\"replies\"].sum()\n",
    "    no_viz_likes = no_viz_df[\"likes\"].sum()\n",
    "    no_viz_quotes = no_viz_df[\"quotes\"].sum()\n",
    "    \n",
    "    viz_engagements = [viz_likes, viz_retweets, viz_replies, viz_quotes]\n",
    "    non_viz_engagements = [no_viz_likes, no_viz_retweets, no_viz_replies, no_viz_quotes]\n",
    "    \n",
    "    groups = [[viz_likes, no_viz_likes], \n",
    "              [viz_retweets, no_viz_retweets], \n",
    "              [viz_replies, no_viz_replies], \n",
    "              [viz_quotes, no_viz_quotes]]\n",
    "    \n",
    "    labels = [\"Likes\", \"Retweets\", \"Replies\", \"Quotes\"]\n",
    "    index_labels = [\"With Viz\", \"Without Viz\"]\n",
    "    \n",
    "    test_df = pd.DataFrame(groups, index=labels).T\n",
    "    test_df = test_df.rename(index={0: 'With Viz', 1: 'Without Viz'} )\n",
    "    \n",
    "    ax = test_df.plot.bar()\n",
    "    ax.set_title(\"Engagements with and without visualizations\")\n",
    "    ax.set_xlabel(\"Type of Engagement\")\n",
    "    ax.set_ylabel(\"Number of Engagements\")\n",
    "    \n",
    "\n",
    "# disp_df = df.loc[df[\"user\"] == \"CDCGov\"]\n",
    "# show_bars(disp_df, \"CDCGov\")    "
   ]
  },
  {
   "cell_type": "code",
   "execution_count": 135,
   "metadata": {},
   "outputs": [],
   "source": [
    "def gen_time_series(test_df, authors):\n",
    "    test_df[\"date\"] = test_df[\"date\"].astype(\"datetime64\")\n",
    "    uq_months = test_df['date'].dt.strftime(\"%m/%y\").unique().tolist()\n",
    "\n",
    "    viz_engagements_list = []\n",
    "    non_viz_engagements_list = []\n",
    "\n",
    "    for month in uq_months:\n",
    "        month_df = test_df.loc[test_df['date'].dt.strftime(\"%m/%y\") == month]\n",
    "\n",
    "        viz_df = month_df.loc[month_df[\"has_viz\"] == True]\n",
    "        no_viz_df = month_df.loc[month_df[\"has_viz\"] == False]\n",
    "\n",
    "        viz_retweets = viz_df[\"retweets\"].sum()\n",
    "        viz_replies = viz_df[\"replies\"].sum()\n",
    "        viz_likes = viz_df[\"likes\"].sum()\n",
    "        viz_quotes = viz_df[\"quotes\"].sum()\n",
    "\n",
    "        viz_engagements = viz_retweets + viz_replies + viz_likes + viz_quotes\n",
    "\n",
    "        no_viz_retweets = no_viz_df[\"retweets\"].sum()\n",
    "        no_viz_replies = no_viz_df[\"replies\"].sum()\n",
    "        no_viz_likes = no_viz_df[\"likes\"].sum()\n",
    "        no_viz_quotes = no_viz_df[\"quotes\"].sum()\n",
    "\n",
    "        non_viz_engagements = no_viz_retweets + no_viz_replies + no_viz_likes + no_viz_quotes\n",
    "\n",
    "        viz_engagements_list.append(viz_engagements)\n",
    "        non_viz_engagements_list.append(non_viz_engagements)\n",
    "\n",
    "    # print(viz_engagements_list)\n",
    "    # print(non_viz_engagements_list)\n",
    "    # print(uq_months)\n",
    "\n",
    "    ts_df = pd.DataFrame(columns=[\"Months\", \"Viz Engagements\", \"Non-Viz Engagements\"])\n",
    "\n",
    "    ts_df[\"Months\"] = uq_months\n",
    "    ts_df[\"Viz Engagements\"] = viz_engagements_list\n",
    "    ts_df[\"Non-Viz Engagements\"] = non_viz_engagements_list\n",
    "\n",
    "    ts_df = ts_df.set_index(ts_df[\"Months\"])\n",
    "    ts_df = ts_df.drop(columns=[\"Months\"])\n",
    "\n",
    "    ts_df_plot = ts_df.plot(label='Engagements', color=['orange', 'green'])\n",
    "    ts_df_plot.set_title(\"Engagements over Time\")\n",
    "    ts_df_plot.set_xlabel(\"Date\")\n",
    "    ts_df_plot.set_ylabel(\"Engagements\")\n",
    "\n"
   ]
  },
  {
   "cell_type": "code",
   "execution_count": 136,
   "metadata": {},
   "outputs": [
    {
     "data": {
      "image/png": "[encoded data removed]",
      "text/plain": [
       "<Figure size 1296x576 with 2 Axes>"
      ]
     },
     "metadata": {},
     "output_type": "display_data"
    }
   ],
   "source": [
    "show_agg_pies(df)\n"
   ]
  },
  {
   "cell_type": "code",
   "execution_count": 137,
   "metadata": {},
   "outputs": [
    {
     "data": {
      "application/vnd.jupyter.widget-view+json": {
       "model_id": "dedd5a94a6df48eb9e2acfcfb3a7bb76",
       "version_major": 2,
       "version_minor": 0
      },
      "text/plain": [
       "interactive(children=(Dropdown(description='authors', options=('abmakulec', 'alicesim', 'AmeshAA', 'amymaxmen'…"
      ]
     },
     "metadata": {},
     "output_type": "display_data"
    }
   ],
   "source": [
    "def f(authors):\n",
    "    disp_df = df.loc[df[\"user\"] == authors]\n",
    "    show_pies(disp_df, authors)\n",
    "    show_bars(disp_df, authors)\n",
    "    gen_time_series(disp_df, authors)\n",
    "\n",
    "interact(f, authors=users);"
   ]
  },
  {
   "cell_type": "code",
   "execution_count": 138,
   "metadata": {},
   "outputs": [],
   "source": [
    "# test_df"
   ]
  },
  {
   "cell_type": "code",
   "execution_count": 139,
   "metadata": {},
   "outputs": [],
   "source": [
    "# dates = test_df[\"date\"].tolist()"
   ]
  },
  {
   "cell_type": "code",
   "execution_count": 140,
   "metadata": {},
   "outputs": [],
   "source": [
    "# truncated_dates = []\n",
    "\n",
    "# for date in dates:\n",
    "#     year = date.year\n",
    "#     month = date.month\n",
    "#     day = date.day\n",
    "    \n",
    "#     truncated_date = datetime.date(year, month, day)\n",
    "#     truncated_dates.append(truncated_date)\n",
    "    \n",
    "# truncated_dates"
   ]
  },
  {
   "cell_type": "code",
   "execution_count": 141,
   "metadata": {},
   "outputs": [],
   "source": [
    "# test_df[\"truncated_dates\"] = truncated_dates\n",
    "# test_df[\"truncated_dates\"]\n",
    "# # test_df.set_index(test_df[\"truncated_dates\"])"
   ]
  },
  {
   "cell_type": "code",
   "execution_count": 142,
   "metadata": {},
   "outputs": [],
   "source": [
    "# test_df = test_df.set_index(test_df[\"truncated_dates\"])"
   ]
  },
  {
   "cell_type": "code",
   "execution_count": 143,
   "metadata": {},
   "outputs": [],
   "source": [
    "# np.unique(np.array(truncated_dates))"
   ]
  },
  {
   "cell_type": "code",
   "execution_count": 144,
   "metadata": {},
   "outputs": [],
   "source": [
    "# test_df[\"dt\"],test_df[\"dt_m\"] = test_df[\"date\"].dt.year,test_df[\"date\"].dt.month\n",
    "# test_df[\"comb_date\"] = test_df.apply(lambda row: str(row[\"dt\"])+\"-\"+str(row[\"dt_m\"]),axis=1)\n",
    "# test_df"
   ]
  },
  {
   "cell_type": "code",
   "execution_count": 145,
   "metadata": {},
   "outputs": [],
   "source": [
    "# test_df[\"comb_date\"].unique()"
   ]
  },
  {
   "cell_type": "code",
   "execution_count": 146,
   "metadata": {
    "scrolled": true
   },
   "outputs": [],
   "source": [
    "# # Plot\n",
    "\n",
    "# plt.plot(test_df[\"likes\"], marker='o')\n",
    "\n",
    "# # Labelling \n",
    "\n",
    "# plt.xlabel(\"date\")\n",
    "# plt.ylabel(\"Number of Likes\")\n",
    "# plt.title(\"Pandas Time Series Plot\")\n",
    "\n",
    "# # Display\n",
    "\n",
    "# plt.show()"
   ]
  },
  {
   "cell_type": "code",
   "execution_count": 147,
   "metadata": {},
   "outputs": [],
   "source": [
    "# # Plot scatter\n",
    "\n",
    "# plt.scatter(test_df.index, test_df[\"likes\"])\n",
    "\n",
    "# # Labelling \n",
    "\n",
    "# plt.xlabel(\"Date\")\n",
    "# plt.ylabel(\"Number of Likes\")\n",
    "\n",
    "# # Auto space\n",
    "\n",
    "# plt.tight_layout()\n",
    "\n",
    "# # Display\n",
    "\n",
    "\n",
    "# plt.show()"
   ]
  }
 ],
 "metadata": {
  "kernelspec": {
   "display_name": "Python 3 (ipykernel)",
   "language": "python",
   "name": "python3"
  },
  "language_info": {
   "codemirror_mode": {
    "name": "ipython",
    "version": 3
   },
   "file_extension": ".py",
   "mimetype": "text/x-python",
   "name": "python",
   "nbconvert_exporter": "python",
   "pygments_lexer": "ipython3",
   "version": "3.9.7"
  }
 },
 "nbformat": 4,
 "nbformat_minor": 4
}

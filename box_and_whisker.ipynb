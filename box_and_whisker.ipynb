{
 "cells": [
  {
   "cell_type": "code",
   "execution_count": 1,
   "metadata": {},
   "outputs": [],
   "source": [
    "import matplotlib.pyplot as plt\n",
    "import numpy as np\n",
    "from scipy.stats import norm\n",
    "import matplotlib.mlab as mlab\n",
    "import matplotlib.pyplot as plt\n",
    "from matplotlib.ticker import PercentFormatter\n",
    "import seaborn\n",
    "from matplotlib.patches import Rectangle\n"
   ]
  },
  {
   "cell_type": "code",
   "execution_count": 2,
   "metadata": {},
   "outputs": [
    {
     "name": "stdout",
     "output_type": "stream",
     "text": [
      "Column names are tweet_id, user, text, date, retweets, replies, likes, quotes, has_viz\n"
     ]
    }
   ],
   "source": [
    "# Handle the data from the CSV\n",
    "import csv\n",
    "\n",
    "csv_data = []\n",
    "with open('data/combined_tweets.csv') as csv_file:\n",
    "    csv_reader = csv.reader(csv_file, delimiter=',')\n",
    "    line_count = 0\n",
    "    for row in csv_reader:\n",
    "        if line_count == 0:\n",
    "            print(f'Column names are {\", \".join(row)}')\n",
    "            line_count += 1\n",
    "        else:\n",
    "            csv_data.append(row)\n",
    "            line_count += 1\n"
   ]
  },
  {
   "cell_type": "code",
   "execution_count": 3,
   "metadata": {},
   "outputs": [],
   "source": [
    "# Get all of the tweets for all users and split between noviz and viz\n",
    "viz = []\n",
    "noviz = []\n",
    "\n",
    "for tweet in csv_data :\n",
    "    if tweet[-1] == \"True\":\n",
    "        viz.append(int(tweet[6]))\n",
    "    else:\n",
    "        noviz.append(int(tweet[6]))"
   ]
  },
  {
   "cell_type": "code",
   "execution_count": 4,
   "metadata": {},
   "outputs": [],
   "source": [
    "data = [noviz, viz]"
   ]
  },
  {
   "cell_type": "code",
   "execution_count": 5,
   "metadata": {},
   "outputs": [
    {
     "data": {
      "text/plain": [
       "<Figure size 720x504 with 0 Axes>"
      ]
     },
     "metadata": {},
     "output_type": "display_data"
    }
   ],
   "source": [
    "fig = plt.figure(figsize =(10, 7))"
   ]
  },
  {
   "cell_type": "code",
   "execution_count": 6,
   "metadata": {},
   "outputs": [
    {
     "data": {
      "image/png": "[encoded data removed]",
      "text/plain": [
       "<Figure size 432x288 with 1 Axes>"
      ]
     },
     "metadata": {
      "needs_background": "light"
     },
     "output_type": "display_data"
    }
   ],
   "source": [
    "# Creating plot\n",
    "plt.boxplot(data, notch=False, showfliers=False, labels=[\"no-viz\", \"viz\"])\n",
    "plt.ylabel(\"Retweets\")\n",
    " \n",
    "# show plot\n",
    "plt.show()"
   ]
  },
  {
   "cell_type": "code",
   "execution_count": 7,
   "metadata": {},
   "outputs": [],
   "source": [
    "a = np.histogram(viz)"
   ]
  },
  {
   "cell_type": "code",
   "execution_count": 8,
   "metadata": {},
   "outputs": [],
   "source": [
    "def buildBins(min = 0, spacing = 1, numbins = 10) :\n",
    "    ret = [min + float(x)*spacing for x in range(numbins)]\n",
    "    return ret\n",
    "\n",
    "def binCenters(bins):\n",
    "    mids = []\n",
    "    for i in range(len(bins)-1) :\n",
    "        lower = bins[i]\n",
    "        upper = bins[i+1]\n",
    "        mid = (lower + upper) / 2\n",
    "        mids.append(mid)\n",
    "    return mids\n",
    "\n"
   ]
  },
  {
   "cell_type": "code",
   "execution_count": 9,
   "metadata": {},
   "outputs": [
    {
     "name": "stdout",
     "output_type": "stream",
     "text": [
      "0.019999999999999987\n"
     ]
    },
    {
     "data": {
      "image/png": "[encoded data removed]",
      "text/plain": [
       "<Figure size 432x288 with 1 Axes>"
      ]
     },
     "metadata": {
      "needs_background": "light"
     },
     "output_type": "display_data"
    }
   ],
   "source": [
    "# Build the bins by user pref\n",
    "bins = buildBins(min = 1, spacing = 50, numbins = 30)\n",
    "\n",
    "# The top subplot is classic histo\n",
    "n, x, _ = plt.hist(data, bins = bins, density = True)\n",
    "\n",
    "colors = [\"orange\", \"blue\"]\n",
    "handles = [Rectangle((0, 0), 1, 1, color=c, ec=\"k\") for c in colors]\n",
    "labels = [\"Viz\", \"No Viz\"]\n",
    "plt.legend(handles, labels)\n",
    "\n",
    "print(sum(n[1]))\n",
    "#plt.close()\n",
    "\n",
    "# # The bottom sublplot is a line \n",
    "# plt.subplot(212)\n",
    "# bin_centers = binCenters(bins)\n",
    "# plt.gca().yaxis.set_major_formatter(PercentFormatter(1))\n",
    "# plt.plot(bin_centers, n[1], '-', c='red', label=\"Viz\")\n",
    "# plt.plot(bin_centers, n[0], '-', c='blue', label=\"No Viz\")\n",
    "# plt.title(\"Percent of Tweets (Viz & No Viz) Classified by Number of Retweets\")\n",
    "# plt.xlabel(\"Number of Retweets\")\n",
    "# plt.ylabel(\"Percent of Tweets\")\n",
    "# plt.legend(loc=\"upper right\")\n",
    "# # Show the plots\n",
    "plt.show()"
   ]
  },
  {
   "cell_type": "code",
   "execution_count": 10,
   "metadata": {},
   "outputs": [
    {
     "name": "stdout",
     "output_type": "stream",
     "text": [
      "[[2.23234624e-03 2.64236902e-03 1.91343964e-03 1.86788155e-03\n",
      "  8.20045558e-04 1.32118451e-03 7.28929385e-04 7.74487472e-04\n",
      "  9.11161731e-04 7.74487472e-04 4.10022779e-04 4.55580866e-04\n",
      "  2.73348519e-04 4.55580866e-04 4.10022779e-04 3.18906606e-04\n",
      "  3.64464692e-04 2.73348519e-04 2.73348519e-04 2.73348519e-04\n",
      "  2.27790433e-04 3.64464692e-04 3.64464692e-04 1.82232346e-04\n",
      "  1.82232346e-04 2.73348519e-04 2.27790433e-04 4.55580866e-04\n",
      "  2.27790433e-04]\n",
      " [1.08720272e-03 3.69195923e-03 3.69195923e-03 2.65005663e-03\n",
      "  1.74405436e-03 1.38165345e-03 1.13250283e-03 6.56851642e-04\n",
      "  7.70101925e-04 7.70101925e-04 3.39750849e-04 4.07701019e-04\n",
      "  1.81200453e-04 1.81200453e-04 1.81200453e-04 2.26500566e-04\n",
      "  2.03850510e-04 9.06002265e-05 1.13250283e-04 6.79501699e-05\n",
      "  9.06002265e-05 2.26500566e-05 6.79501699e-05 4.53001133e-05\n",
      "  2.26500566e-05 9.06002265e-05 4.53001133e-05 2.26500566e-05\n",
      "  2.26500566e-05]]\n"
     ]
    }
   ],
   "source": [
    "print(n)"
   ]
  },
  {
   "cell_type": "code",
   "execution_count": 46,
   "metadata": {},
   "outputs": [
    {
     "data": {
      "image/png": "[encoded data removed]",
      "text/plain": [
       "<Figure size 432x288 with 1 Axes>"
      ]
     },
     "metadata": {
      "needs_background": "light"
     },
     "output_type": "display_data"
    },
    {
     "ename": "TypeError",
     "evalue": "savefig() takes 2 positional arguments but 3 were given",
     "output_type": "error",
     "traceback": [
      "\u001b[0;31m---------------------------------------------------------------------------\u001b[0m",
      "\u001b[0;31mTypeError\u001b[0m                                 Traceback (most recent call last)",
      "\u001b[0;32m<ipython-input-46-cd668cc86976>\u001b[0m in \u001b[0;36m<module>\u001b[0;34m\u001b[0m\n\u001b[1;32m      4\u001b[0m \u001b[0mplt\u001b[0m\u001b[0;34m.\u001b[0m\u001b[0mxlabel\u001b[0m\u001b[0;34m(\u001b[0m\u001b[0;34m\"Number of Retweets\"\u001b[0m\u001b[0;34m)\u001b[0m\u001b[0;34m\u001b[0m\u001b[0;34m\u001b[0m\u001b[0m\n\u001b[1;32m      5\u001b[0m \u001b[0mplt\u001b[0m\u001b[0;34m.\u001b[0m\u001b[0mshow\u001b[0m\u001b[0;34m(\u001b[0m\u001b[0mhp\u001b[0m\u001b[0;34m)\u001b[0m\u001b[0;34m\u001b[0m\u001b[0;34m\u001b[0m\u001b[0m\n\u001b[0;32m----> 6\u001b[0;31m \u001b[0mplt\u001b[0m\u001b[0;34m.\u001b[0m\u001b[0msavefig\u001b[0m\u001b[0;34m(\u001b[0m\u001b[0mhp\u001b[0m\u001b[0;34m,\u001b[0m\u001b[0;34m'outputs/my_plot.png'\u001b[0m\u001b[0;34m)\u001b[0m\u001b[0;34m\u001b[0m\u001b[0;34m\u001b[0m\u001b[0m\n\u001b[0m",
      "\u001b[0;32m~/opt/anaconda3/lib/python3.8/site-packages/matplotlib/pyplot.py\u001b[0m in \u001b[0;36msavefig\u001b[0;34m(*args, **kwargs)\u001b[0m\n\u001b[1;32m    857\u001b[0m \u001b[0;32mdef\u001b[0m \u001b[0msavefig\u001b[0m\u001b[0;34m(\u001b[0m\u001b[0;34m*\u001b[0m\u001b[0margs\u001b[0m\u001b[0;34m,\u001b[0m \u001b[0;34m**\u001b[0m\u001b[0mkwargs\u001b[0m\u001b[0;34m)\u001b[0m\u001b[0;34m:\u001b[0m\u001b[0;34m\u001b[0m\u001b[0;34m\u001b[0m\u001b[0m\n\u001b[1;32m    858\u001b[0m     \u001b[0mfig\u001b[0m \u001b[0;34m=\u001b[0m \u001b[0mgcf\u001b[0m\u001b[0;34m(\u001b[0m\u001b[0;34m)\u001b[0m\u001b[0;34m\u001b[0m\u001b[0;34m\u001b[0m\u001b[0m\n\u001b[0;32m--> 859\u001b[0;31m     \u001b[0mres\u001b[0m \u001b[0;34m=\u001b[0m \u001b[0mfig\u001b[0m\u001b[0;34m.\u001b[0m\u001b[0msavefig\u001b[0m\u001b[0;34m(\u001b[0m\u001b[0;34m*\u001b[0m\u001b[0margs\u001b[0m\u001b[0;34m,\u001b[0m \u001b[0;34m**\u001b[0m\u001b[0mkwargs\u001b[0m\u001b[0;34m)\u001b[0m\u001b[0;34m\u001b[0m\u001b[0;34m\u001b[0m\u001b[0m\n\u001b[0m\u001b[1;32m    860\u001b[0m     \u001b[0mfig\u001b[0m\u001b[0;34m.\u001b[0m\u001b[0mcanvas\u001b[0m\u001b[0;34m.\u001b[0m\u001b[0mdraw_idle\u001b[0m\u001b[0;34m(\u001b[0m\u001b[0;34m)\u001b[0m   \u001b[0;31m# need this if 'transparent=True' to reset colors\u001b[0m\u001b[0;34m\u001b[0m\u001b[0;34m\u001b[0m\u001b[0m\n\u001b[1;32m    861\u001b[0m     \u001b[0;32mreturn\u001b[0m \u001b[0mres\u001b[0m\u001b[0;34m\u001b[0m\u001b[0;34m\u001b[0m\u001b[0m\n",
      "\u001b[0;31mTypeError\u001b[0m: savefig() takes 2 positional arguments but 3 were given"
     ]
    },
    {
     "data": {
      "text/plain": [
       "<Figure size 432x288 with 0 Axes>"
      ]
     },
     "metadata": {},
     "output_type": "display_data"
    }
   ],
   "source": [
    "hp = seaborn.histplot(data,element=\"step\",binrange=(0,1400),stat='density')\n",
    "#seaborn.histplot([i for i in data[1] if i != 0])\n",
    "plt.legend(handles, labels)\n",
    "plt.xlabel(\"Number of Retweets\")\n",
    "plt.show(hp)\n"
   ]
  },
  {
   "cell_type": "code",
   "execution_count": 50,
   "metadata": {},
   "outputs": [],
   "source": [
    "# Get all of the tweets for all users and split between noviz and viz\n",
    "def splitdata(csv_data) :\n",
    "    viz = []\n",
    "    noviz = []\n",
    "    for tweet in csv_data :\n",
    "        if tweet[-1] == \"True\":\n",
    "            viz.append(int(tweet[6]))\n",
    "        else:\n",
    "            noviz.append(int(tweet[6]))\n",
    "    return [noviz, viz]\n",
    "#### Returns noviz first"
   ]
  },
  {
   "cell_type": "code",
   "execution_count": 70,
   "metadata": {},
   "outputs": [
    {
     "data": {
      "image/png": "[encoded data removed]",
      "text/plain": [
       "<Figure size 432x288 with 1 Axes>"
      ]
     },
     "metadata": {
      "needs_background": "light"
     },
     "output_type": "display_data"
    }
   ],
   "source": [
    "sgmd = []\n",
    "for line in csv_data:\n",
    "    name = line[1]\n",
    "    if name == \"CDCGov\" :\n",
    "        sgmd.append(line)\n",
    "\n",
    "splitSGMD = splitdata(sgmd)\n",
    "\n",
    "# Creating plot\n",
    "plt.boxplot(splitSGMD, notch=False, showfliers=False, labels=[\"no-viz (n=143)\", \"viz(n=801)\"])\n",
    "plt.ylabel(\"Retweets\")\n",
    "plt.title(\"Response to Tweets by @CDCGov\")\n",
    " \n",
    "# show plot\n",
    "plt.show()"
   ]
  },
  {
   "cell_type": "code",
   "execution_count": 69,
   "metadata": {},
   "outputs": [
    {
     "name": "stdout",
     "output_type": "stream",
     "text": [
      "143\n",
      "801\n"
     ]
    }
   ],
   "source": [
    "print(len(splitSGMD[0]))\n",
    "print(len(splitSGMD[1]))"
   ]
  },
  {
   "cell_type": "code",
   "execution_count": 73,
   "metadata": {},
   "outputs": [
    {
     "name": "stdout",
     "output_type": "stream",
     "text": [
      "2.4229074889867843\n"
     ]
    }
   ],
   "source": [
    "novizt = data[0]\n",
    "vizt = data[1]\n",
    "summer = 0\n",
    "for dat in vizt:\n",
    "    if dat > 1400:\n",
    "        summer+=1\n",
    "print(summer/len(vizt) * 100)"
   ]
  },
  {
   "cell_type": "code",
   "execution_count": 75,
   "metadata": {},
   "outputs": [
    {
     "data": {
      "text/plain": [
       "([<matplotlib.patches.Wedge at 0x7fa183067f70>,\n",
       "  <matplotlib.patches.Wedge at 0x7fa1833d7490>],\n",
       " [Text(0.01149341156094834, 1.0999399535841448, 'NoViz'),\n",
       "  Text(-0.01149341156094823, -1.0999399535841448, 'Viz')])"
      ]
     },
     "execution_count": 75,
     "metadata": {},
     "output_type": "execute_result"
    },
    {
     "data": {
      "image/png": "[encoded data removed]",
      "text/plain": [
       "<Figure size 432x288 with 1 Axes>"
      ]
     },
     "metadata": {},
     "output_type": "display_data"
    }
   ],
   "source": [
    "plt.pie([len(novizt), len(vizt)] , labels = [\"NoViz\", \"Viz\"])"
   ]
  },
  {
   "cell_type": "code",
   "execution_count": null,
   "metadata": {},
   "outputs": [],
   "source": []
  }
 ],
 "metadata": {
  "kernelspec": {
   "display_name": "Python 3",
   "language": "python",
   "name": "python3"
  },
  "language_info": {
   "codemirror_mode": {
    "name": "ipython",
    "version": 3
   },
   "file_extension": ".py",
   "mimetype": "text/x-python",
   "name": "python",
   "nbconvert_exporter": "python",
   "pygments_lexer": "ipython3",
   "version": "3.8.5"
  }
 },
 "nbformat": 4,
 "nbformat_minor": 4
}
